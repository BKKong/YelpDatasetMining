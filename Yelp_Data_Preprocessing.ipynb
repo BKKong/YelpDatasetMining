{
 "cells": [
  {
   "cell_type": "markdown",
   "metadata": {},
   "source": [
    "# Yelp Data Preprocessing\n",
    "\n",
    "\n",
    "Jun 2017"
   ]
  },
  {
   "cell_type": "markdown",
   "metadata": {},
   "source": [
    "## Dataset Introduction\n",
    "\n",
    "[Yelp Dataset Challenge](https://www.yelp.com/dataset_challenge)\n",
    "\n",
    "Files:\n",
    "\n",
    "* \"business.json\": Contains business data including location data, attributes, and categories.\n",
    "* \"checkin.json\": Contains full review text data including the user_id that wrote the review and the business_id the review is written for.\n",
    "* \"review.json\": User data including the user's friend mapping and all the metadata associated with the user.\n",
    "* \"tip.json\": Checkins on a business.\n",
    "* \"user.json\": Tips written by a user on a business. Tips are shorter than reviews and tend to convey quick suggestions.\n"
   ]
  },
  {
   "cell_type": "markdown",
   "metadata": {},
   "source": [
    "## Read data from file and load to Pandas DataFrame\n"
   ]
  },
  {
   "cell_type": "code",
   "execution_count": 2,
   "metadata": {},
   "outputs": [],
   "source": [
    "import json\n",
    "import pandas as pd"
   ]
  },
  {
   "cell_type": "code",
   "execution_count": 3,
   "metadata": {},
   "outputs": [],
   "source": [
    "file_business, file_checkin, file_review, file_tip, file_user = [\n",
    "    './dataset/business.json',\n",
    "    './dataset/checkin.json',\n",
    "    './dataset/review.json',\n",
    "    './dataset/tip.json',\n",
    "    './dataset/user.json'\n",
    "]"
   ]
  },
  {
   "cell_type": "markdown",
   "metadata": {},
   "source": [
    "#### Business Data"
   ]
  },
  {
   "cell_type": "code",
   "execution_count": 4,
   "metadata": {},
   "outputs": [],
   "source": [
    "with open(file_business) as f:\n",
    "    df_business = pd.DataFrame(json.loads(line) for line in f)       ### json.loads()"
   ]
  },
  {
   "cell_type": "code",
   "execution_count": 5,
   "metadata": {},
   "outputs": [
    {
     "data": {
      "text/html": [
       "<div>\n",
       "<style>\n",
       "    .dataframe thead tr:only-child th {\n",
       "        text-align: right;\n",
       "    }\n",
       "\n",
       "    .dataframe thead th {\n",
       "        text-align: left;\n",
       "    }\n",
       "\n",
       "    .dataframe tbody tr th {\n",
       "        vertical-align: top;\n",
       "    }\n",
       "</style>\n",
       "<table border=\"1\" class=\"dataframe\">\n",
       "  <thead>\n",
       "    <tr style=\"text-align: right;\">\n",
       "      <th></th>\n",
       "      <th>address</th>\n",
       "      <th>attributes</th>\n",
       "      <th>business_id</th>\n",
       "      <th>categories</th>\n",
       "      <th>city</th>\n",
       "      <th>hours</th>\n",
       "      <th>is_open</th>\n",
       "      <th>latitude</th>\n",
       "      <th>longitude</th>\n",
       "      <th>name</th>\n",
       "      <th>neighborhood</th>\n",
       "      <th>postal_code</th>\n",
       "      <th>review_count</th>\n",
       "      <th>stars</th>\n",
       "      <th>state</th>\n",
       "    </tr>\n",
       "  </thead>\n",
       "  <tbody>\n",
       "    <tr>\n",
       "      <th>0</th>\n",
       "      <td>691 Richmond Rd</td>\n",
       "      <td>{'RestaurantsPriceRange2': 2, 'BusinessParking...</td>\n",
       "      <td>YDf95gJZaq05wvo7hTQbbQ</td>\n",
       "      <td>[Shopping, Shopping Centers]</td>\n",
       "      <td>Richmond Heights</td>\n",
       "      <td>{'Monday': '10:00-21:00', 'Tuesday': '10:00-21...</td>\n",
       "      <td>1</td>\n",
       "      <td>41.541716</td>\n",
       "      <td>-81.493116</td>\n",
       "      <td>Richmond Town Square</td>\n",
       "      <td></td>\n",
       "      <td>44143</td>\n",
       "      <td>17</td>\n",
       "      <td>2.0</td>\n",
       "      <td>OH</td>\n",
       "    </tr>\n",
       "    <tr>\n",
       "      <th>1</th>\n",
       "      <td>2824 Milton Rd</td>\n",
       "      <td>{'GoodForMeal': {'dessert': False, 'latenight'...</td>\n",
       "      <td>mLwM-h2YhXl2NCgdS84_Bw</td>\n",
       "      <td>[Food, Soul Food, Convenience Stores, Restaura...</td>\n",
       "      <td>Charlotte</td>\n",
       "      <td>{'Monday': '10:00-22:00', 'Tuesday': '10:00-22...</td>\n",
       "      <td>0</td>\n",
       "      <td>35.236870</td>\n",
       "      <td>-80.741976</td>\n",
       "      <td>South Florida Style Chicken &amp; Ribs</td>\n",
       "      <td>Eastland</td>\n",
       "      <td>28215</td>\n",
       "      <td>4</td>\n",
       "      <td>4.5</td>\n",
       "      <td>NC</td>\n",
       "    </tr>\n",
       "  </tbody>\n",
       "</table>\n",
       "</div>"
      ],
      "text/plain": [
       "           address                                         attributes  \\\n",
       "0  691 Richmond Rd  {'RestaurantsPriceRange2': 2, 'BusinessParking...   \n",
       "1   2824 Milton Rd  {'GoodForMeal': {'dessert': False, 'latenight'...   \n",
       "\n",
       "              business_id                                         categories  \\\n",
       "0  YDf95gJZaq05wvo7hTQbbQ                       [Shopping, Shopping Centers]   \n",
       "1  mLwM-h2YhXl2NCgdS84_Bw  [Food, Soul Food, Convenience Stores, Restaura...   \n",
       "\n",
       "               city                                              hours  \\\n",
       "0  Richmond Heights  {'Monday': '10:00-21:00', 'Tuesday': '10:00-21...   \n",
       "1         Charlotte  {'Monday': '10:00-22:00', 'Tuesday': '10:00-22...   \n",
       "\n",
       "   is_open   latitude  longitude                                name  \\\n",
       "0        1  41.541716 -81.493116                Richmond Town Square   \n",
       "1        0  35.236870 -80.741976  South Florida Style Chicken & Ribs   \n",
       "\n",
       "  neighborhood postal_code  review_count  stars state  \n",
       "0                    44143            17    2.0    OH  \n",
       "1     Eastland       28215             4    4.5    NC  "
      ]
     },
     "execution_count": 5,
     "metadata": {},
     "output_type": "execute_result"
    }
   ],
   "source": [
    "df_business.head(2)"
   ]
  },
  {
   "cell_type": "code",
   "execution_count": 6,
   "metadata": {},
   "outputs": [
    {
     "name": "stdout",
     "output_type": "stream",
     "text": [
      "<class 'pandas.core.frame.DataFrame'>\n",
      "RangeIndex: 156639 entries, 0 to 156638\n",
      "Data columns (total 15 columns):\n",
      "address         156639 non-null object\n",
      "attributes      156639 non-null object\n",
      "business_id     156639 non-null object\n",
      "categories      156639 non-null object\n",
      "city            156639 non-null object\n",
      "hours           156639 non-null object\n",
      "is_open         156639 non-null int64\n",
      "latitude        156638 non-null float64\n",
      "longitude       156638 non-null float64\n",
      "name            156639 non-null object\n",
      "neighborhood    156639 non-null object\n",
      "postal_code     156639 non-null object\n",
      "review_count    156639 non-null int64\n",
      "stars           156639 non-null float64\n",
      "state           156639 non-null object\n",
      "dtypes: float64(3), int64(2), object(10)\n",
      "memory usage: 17.9+ MB\n"
     ]
    }
   ],
   "source": [
    "df_business.info()"
   ]
  },
  {
   "cell_type": "markdown",
   "metadata": {},
   "source": [
    "#### Checkin Data"
   ]
  },
  {
   "cell_type": "code",
   "execution_count": null,
   "metadata": {},
   "outputs": [],
   "source": [
    "# with open(file_checkin) as f:\n",
    "#     df_checkin = pd.DataFrame(json.loads(line) for line in f)\n",
    "# df_checkin.head(2)"
   ]
  },
  {
   "cell_type": "markdown",
   "metadata": {},
   "source": [
    "#### Review Data"
   ]
  },
  {
   "cell_type": "code",
   "execution_count": null,
   "metadata": {},
   "outputs": [],
   "source": [
    "# with open(file_review) as f:\n",
    "#     df_review = pd.DataFrame(json.loads(line) for line in f)\n",
    "# df_review.head(2)"
   ]
  },
  {
   "cell_type": "markdown",
   "metadata": {},
   "source": [
    "#### Tip Data"
   ]
  },
  {
   "cell_type": "code",
   "execution_count": null,
   "metadata": {},
   "outputs": [],
   "source": [
    "# with open(file_tip) as f:\n",
    "#     df_tip = pd.DataFrame(json.loads(line) for line in f)\n",
    "# df_tip.head(2)"
   ]
  },
  {
   "cell_type": "markdown",
   "metadata": {},
   "source": [
    "#### User Data"
   ]
  },
  {
   "cell_type": "code",
   "execution_count": null,
   "metadata": {},
   "outputs": [],
   "source": [
    "# with open(file_user) as f:\n",
    "#     df_user = pd.DataFrame(json.loads(line) for line in f)\n",
    "# df_user.head(2)"
   ]
  },
  {
   "cell_type": "markdown",
   "metadata": {},
   "source": [
    "## Filter data by city and category"
   ]
  },
  {
   "cell_type": "markdown",
   "metadata": {},
   "source": [
    "#### Create filters/masks\n",
    "\n",
    "* create filters that selects business \n",
    "* that are located in \"Las Vegas\"\n",
    "* that contains \"Restaurants\" in their category (You may need to filter null categories first)"
   ]
  },
  {
   "cell_type": "code",
   "execution_count": 9,
   "metadata": {},
   "outputs": [
    {
     "name": "stdout",
     "output_type": "stream",
     "text": [
      "['Las Vegas', 'Lasalle', 'Las vegas', 'Lasswade', 'Las  Vegas', 'Las Vegas Strip', 'Las Vegas, NV', 'Las Vegass', 'Las Vegas NV', 'Las Vegas East', 'LasVegas', 'las vegas']\n"
     ]
    }
   ],
   "source": [
    "# Create Pandas DataFrame filters\n",
    "# Find the names in cities that could match \"Las Vegas\"\n",
    "import re\n",
    "cities_in_df = list(df_business['city'].unique())\n",
    "cities_with_Las = [x for x in cities_in_df if re.match('Las', x)]\n",
    "cities_with_las = [x for x in cities_in_df if re.match('las', x)]\n",
    "cities_with_Las.extend(cities_with_las)\n",
    "print(cities_with_Las)"
   ]
  },
  {
   "cell_type": "code",
   "execution_count": 10,
   "metadata": {},
   "outputs": [],
   "source": [
    "# Transform some inconsistent way of \"Las Vegas\"\n",
    "df_business.loc[df_business['city'] == 'Las vegas', 'city'] = 'Las Vegas'\n",
    "df_business.loc[df_business['city'] == 'Las  Vegas', 'city'] = 'Las Vegas'\n",
    "df_business.loc[df_business['city'] == 'Las Vegas Strip', 'city'] = 'Las Vegas'\n",
    "df_business.loc[df_business['city'] == 'Las Vegas, NV', 'city'] = 'Las Vegas'\n",
    "df_business.loc[df_business['city'] == 'Las Vegass', 'city'] = 'Las Vegas'\n",
    "df_business.loc[df_business['city'] == 'Las Vegas NV', 'city'] = 'Las Vegas'\n",
    "df_business.loc[df_business['city'] == 'Las Vegas East', 'city'] = 'Las Vegas'\n",
    "df_business.loc[df_business['city'] == 'LasVegas', 'city'] = 'Las Vegas'\n",
    "df_business.loc[df_business['city'] == 'las vegas', 'city'] = 'Las Vegas'"
   ]
  },
  {
   "cell_type": "code",
   "execution_count": 11,
   "metadata": {},
   "outputs": [],
   "source": [
    "# businesses that are located in Las Vegas\n",
    "target_city = df_business['city'] == 'Las Vegas'\n",
    "\n",
    "# 'categories' != null\n",
    "category_non_null = df_business['categories'].notnull()   ### pd.isnull(), pd.notnull()\n",
    "\n",
    "# 'categories' contains 'Restaurants' or 'Food'\n",
    "category_restaurant = df_business['categories'].apply(str).str.contains('Restaurants|Food')"
   ]
  },
  {
   "cell_type": "code",
   "execution_count": 12,
   "metadata": {},
   "outputs": [
    {
     "data": {
      "text/plain": [
       "(7312, 15)"
      ]
     },
     "execution_count": 12,
     "metadata": {},
     "output_type": "execute_result"
    }
   ],
   "source": [
    "# Create filtered DataFrame, and name it df_filtered\n",
    "df_filtered = df_business[target_city & category_non_null & category_restaurant]\n",
    "df_filtered.shape"
   ]
  },
  {
   "cell_type": "markdown",
   "metadata": {},
   "source": [
    "#### Keep relevant columns\n",
    "\n",
    "* only keep some useful columns\n",
    "* business_id\n",
    "* name\n",
    "* categories\n",
    "* stars"
   ]
  },
  {
   "cell_type": "code",
   "execution_count": 13,
   "metadata": {},
   "outputs": [],
   "source": [
    "selected_features = [u'business_id', u'name', u'categories', u'stars']"
   ]
  },
  {
   "cell_type": "code",
   "execution_count": 14,
   "metadata": {},
   "outputs": [
    {
     "data": {
      "text/html": [
       "<div>\n",
       "<style>\n",
       "    .dataframe thead tr:only-child th {\n",
       "        text-align: right;\n",
       "    }\n",
       "\n",
       "    .dataframe thead th {\n",
       "        text-align: left;\n",
       "    }\n",
       "\n",
       "    .dataframe tbody tr th {\n",
       "        vertical-align: top;\n",
       "    }\n",
       "</style>\n",
       "<table border=\"1\" class=\"dataframe\">\n",
       "  <thead>\n",
       "    <tr style=\"text-align: right;\">\n",
       "      <th></th>\n",
       "      <th>business_id</th>\n",
       "      <th>name</th>\n",
       "      <th>categories</th>\n",
       "      <th>stars</th>\n",
       "    </tr>\n",
       "  </thead>\n",
       "  <tbody>\n",
       "    <tr>\n",
       "      <th>58</th>\n",
       "      <td>LDMCrFlGIFUN6L-FEFgzWg</td>\n",
       "      <td>El Pollo Loco</td>\n",
       "      <td>[Restaurants, American (Traditional), Mexican,...</td>\n",
       "      <td>3.0</td>\n",
       "    </tr>\n",
       "    <tr>\n",
       "      <th>64</th>\n",
       "      <td>QTH_XGh4rWYdd0fTW-tUDw</td>\n",
       "      <td>Baja Fresh Mexican Grill</td>\n",
       "      <td>[Mexican, Restaurants]</td>\n",
       "      <td>3.5</td>\n",
       "    </tr>\n",
       "    <tr>\n",
       "      <th>90</th>\n",
       "      <td>DiA78qPtp6rfRNdomzjBbw</td>\n",
       "      <td>Joshan Filipino Oriental Market</td>\n",
       "      <td>[Chinese, Food, Convenience Stores, Restaurants]</td>\n",
       "      <td>3.5</td>\n",
       "    </tr>\n",
       "    <tr>\n",
       "      <th>107</th>\n",
       "      <td>YTqtM2WFhcMZGeAGA08Cfg</td>\n",
       "      <td>Mariscos Playa Escondida</td>\n",
       "      <td>[Seafood, Restaurants, Specialty Food, Ethnic ...</td>\n",
       "      <td>4.5</td>\n",
       "    </tr>\n",
       "    <tr>\n",
       "      <th>116</th>\n",
       "      <td>Oto60yDwk1z72WmfWEYrjg</td>\n",
       "      <td>Baja Miguel's</td>\n",
       "      <td>[Food, Restaurants, Mexican]</td>\n",
       "      <td>3.0</td>\n",
       "    </tr>\n",
       "  </tbody>\n",
       "</table>\n",
       "</div>"
      ],
      "text/plain": [
       "                business_id                             name  \\\n",
       "58   LDMCrFlGIFUN6L-FEFgzWg                    El Pollo Loco   \n",
       "64   QTH_XGh4rWYdd0fTW-tUDw         Baja Fresh Mexican Grill   \n",
       "90   DiA78qPtp6rfRNdomzjBbw  Joshan Filipino Oriental Market   \n",
       "107  YTqtM2WFhcMZGeAGA08Cfg         Mariscos Playa Escondida   \n",
       "116  Oto60yDwk1z72WmfWEYrjg                    Baja Miguel's   \n",
       "\n",
       "                                            categories  stars  \n",
       "58   [Restaurants, American (Traditional), Mexican,...    3.0  \n",
       "64                              [Mexican, Restaurants]    3.5  \n",
       "90    [Chinese, Food, Convenience Stores, Restaurants]    3.5  \n",
       "107  [Seafood, Restaurants, Specialty Food, Ethnic ...    4.5  \n",
       "116                       [Food, Restaurants, Mexican]    3.0  "
      ]
     },
     "execution_count": 14,
     "metadata": {},
     "output_type": "execute_result"
    }
   ],
   "source": [
    "# Make a DataFrame that contains only the abovementioned columns, and name it as df_selected_business\n",
    "df_selected_business = df_filtered[selected_features]\n",
    "df_selected_business.head()"
   ]
  },
  {
   "cell_type": "code",
   "execution_count": 15,
   "metadata": {},
   "outputs": [
    {
     "name": "stderr",
     "output_type": "stream",
     "text": [
      "/usr/local/lib/python3.6/site-packages/pandas/core/frame.py:2746: SettingWithCopyWarning: \n",
      "A value is trying to be set on a copy of a slice from a DataFrame\n",
      "\n",
      "See the caveats in the documentation: http://pandas.pydata.org/pandas-docs/stable/indexing.html#indexing-view-versus-copy\n",
      "  **kwargs)\n"
     ]
    }
   ],
   "source": [
    "# Rename the column name \"stars\" to \"avg_stars\" to avoid naming conflicts with review dataset\n",
    "df_selected_business.rename(index=str, columns={\"stars\":\"avg_stars\"}, inplace=True)"
   ]
  },
  {
   "cell_type": "code",
   "execution_count": 16,
   "metadata": {},
   "outputs": [
    {
     "name": "stdout",
     "output_type": "stream",
     "text": [
      "<class 'pandas.core.frame.DataFrame'>\n",
      "Index: 7312 entries, 58 to 156635\n",
      "Data columns (total 4 columns):\n",
      "business_id    7312 non-null object\n",
      "name           7312 non-null object\n",
      "categories     7312 non-null object\n",
      "avg_stars      7312 non-null float64\n",
      "dtypes: float64(1), object(3)\n",
      "memory usage: 285.6+ KB\n"
     ]
    }
   ],
   "source": [
    "df_selected_business.info()"
   ]
  },
  {
   "cell_type": "markdown",
   "metadata": {},
   "source": [
    "#### Save results to csv files"
   ]
  },
  {
   "cell_type": "code",
   "execution_count": 17,
   "metadata": {},
   "outputs": [],
   "source": [
    "df_selected_business.to_csv(path_or_buf='selected_business.csv', sep=',', index=False, encoding='utf-8')"
   ]
  },
  {
   "cell_type": "code",
   "execution_count": 18,
   "metadata": {},
   "outputs": [
    {
     "data": {
      "text/html": [
       "<div>\n",
       "<style>\n",
       "    .dataframe thead tr:only-child th {\n",
       "        text-align: right;\n",
       "    }\n",
       "\n",
       "    .dataframe thead th {\n",
       "        text-align: left;\n",
       "    }\n",
       "\n",
       "    .dataframe tbody tr th {\n",
       "        vertical-align: top;\n",
       "    }\n",
       "</style>\n",
       "<table border=\"1\" class=\"dataframe\">\n",
       "  <thead>\n",
       "    <tr style=\"text-align: right;\">\n",
       "      <th></th>\n",
       "      <th>business_id</th>\n",
       "      <th>name</th>\n",
       "      <th>categories</th>\n",
       "      <th>avg_stars</th>\n",
       "    </tr>\n",
       "  </thead>\n",
       "  <tbody>\n",
       "    <tr>\n",
       "      <th>0</th>\n",
       "      <td>LDMCrFlGIFUN6L-FEFgzWg</td>\n",
       "      <td>El Pollo Loco</td>\n",
       "      <td>['Restaurants', 'American (Traditional)', 'Mex...</td>\n",
       "      <td>3.0</td>\n",
       "    </tr>\n",
       "    <tr>\n",
       "      <th>1</th>\n",
       "      <td>QTH_XGh4rWYdd0fTW-tUDw</td>\n",
       "      <td>Baja Fresh Mexican Grill</td>\n",
       "      <td>['Mexican', 'Restaurants']</td>\n",
       "      <td>3.5</td>\n",
       "    </tr>\n",
       "    <tr>\n",
       "      <th>2</th>\n",
       "      <td>DiA78qPtp6rfRNdomzjBbw</td>\n",
       "      <td>Joshan Filipino Oriental Market</td>\n",
       "      <td>['Chinese', 'Food', 'Convenience Stores', 'Res...</td>\n",
       "      <td>3.5</td>\n",
       "    </tr>\n",
       "    <tr>\n",
       "      <th>3</th>\n",
       "      <td>YTqtM2WFhcMZGeAGA08Cfg</td>\n",
       "      <td>Mariscos Playa Escondida</td>\n",
       "      <td>['Seafood', 'Restaurants', 'Specialty Food', '...</td>\n",
       "      <td>4.5</td>\n",
       "    </tr>\n",
       "    <tr>\n",
       "      <th>4</th>\n",
       "      <td>Oto60yDwk1z72WmfWEYrjg</td>\n",
       "      <td>Baja Miguel's</td>\n",
       "      <td>['Food', 'Restaurants', 'Mexican']</td>\n",
       "      <td>3.0</td>\n",
       "    </tr>\n",
       "  </tbody>\n",
       "</table>\n",
       "</div>"
      ],
      "text/plain": [
       "              business_id                             name  \\\n",
       "0  LDMCrFlGIFUN6L-FEFgzWg                    El Pollo Loco   \n",
       "1  QTH_XGh4rWYdd0fTW-tUDw         Baja Fresh Mexican Grill   \n",
       "2  DiA78qPtp6rfRNdomzjBbw  Joshan Filipino Oriental Market   \n",
       "3  YTqtM2WFhcMZGeAGA08Cfg         Mariscos Playa Escondida   \n",
       "4  Oto60yDwk1z72WmfWEYrjg                    Baja Miguel's   \n",
       "\n",
       "                                          categories  avg_stars  \n",
       "0  ['Restaurants', 'American (Traditional)', 'Mex...        3.0  \n",
       "1                         ['Mexican', 'Restaurants']        3.5  \n",
       "2  ['Chinese', 'Food', 'Convenience Stores', 'Res...        3.5  \n",
       "3  ['Seafood', 'Restaurants', 'Specialty Food', '...        4.5  \n",
       "4                 ['Food', 'Restaurants', 'Mexican']        3.0  "
      ]
     },
     "execution_count": 18,
     "metadata": {},
     "output_type": "execute_result"
    }
   ],
   "source": [
    "# Try reload the csv file to check if everything works fine\n",
    "df_buz_test = pd.read_csv('selected_business.csv')\n",
    "df_buz_test.head()"
   ]
  },
  {
   "cell_type": "markdown",
   "metadata": {},
   "source": [
    "### Use the \"business_id\" column to filter review data\n",
    "\n",
    "* We want to make a DataFrame that contain and only contain the reviews about the business entities we just obtained"
   ]
  },
  {
   "cell_type": "markdown",
   "metadata": {},
   "source": [
    "#### Load review dataset"
   ]
  },
  {
   "cell_type": "code",
   "execution_count": 19,
   "metadata": {},
   "outputs": [
    {
     "data": {
      "text/html": [
       "<div>\n",
       "<style>\n",
       "    .dataframe thead tr:only-child th {\n",
       "        text-align: right;\n",
       "    }\n",
       "\n",
       "    .dataframe thead th {\n",
       "        text-align: left;\n",
       "    }\n",
       "\n",
       "    .dataframe tbody tr th {\n",
       "        vertical-align: top;\n",
       "    }\n",
       "</style>\n",
       "<table border=\"1\" class=\"dataframe\">\n",
       "  <thead>\n",
       "    <tr style=\"text-align: right;\">\n",
       "      <th></th>\n",
       "      <th>business_id</th>\n",
       "      <th>cool</th>\n",
       "      <th>date</th>\n",
       "      <th>funny</th>\n",
       "      <th>review_id</th>\n",
       "      <th>stars</th>\n",
       "      <th>text</th>\n",
       "      <th>useful</th>\n",
       "      <th>user_id</th>\n",
       "    </tr>\n",
       "  </thead>\n",
       "  <tbody>\n",
       "    <tr>\n",
       "      <th>0</th>\n",
       "      <td>uYHaNptLzDLoV_JZ_MuzUA</td>\n",
       "      <td>0</td>\n",
       "      <td>2016-07-12</td>\n",
       "      <td>0</td>\n",
       "      <td>VfBHSwC5Vz_pbFluy07i9Q</td>\n",
       "      <td>5</td>\n",
       "      <td>My girlfriend and I stayed here for 3 nights a...</td>\n",
       "      <td>0</td>\n",
       "      <td>cjpdDjZyprfyDG3RlkVG3w</td>\n",
       "    </tr>\n",
       "    <tr>\n",
       "      <th>1</th>\n",
       "      <td>uYHaNptLzDLoV_JZ_MuzUA</td>\n",
       "      <td>0</td>\n",
       "      <td>2016-10-02</td>\n",
       "      <td>0</td>\n",
       "      <td>3zRpneRKDsOPq92tq7ybAA</td>\n",
       "      <td>3</td>\n",
       "      <td>If you need an inexpensive place to stay for a...</td>\n",
       "      <td>0</td>\n",
       "      <td>bjTcT8Ty4cJZhEOEo01FGA</td>\n",
       "    </tr>\n",
       "  </tbody>\n",
       "</table>\n",
       "</div>"
      ],
      "text/plain": [
       "              business_id  cool        date  funny               review_id  \\\n",
       "0  uYHaNptLzDLoV_JZ_MuzUA     0  2016-07-12      0  VfBHSwC5Vz_pbFluy07i9Q   \n",
       "1  uYHaNptLzDLoV_JZ_MuzUA     0  2016-10-02      0  3zRpneRKDsOPq92tq7ybAA   \n",
       "\n",
       "   stars                                               text  useful  \\\n",
       "0      5  My girlfriend and I stayed here for 3 nights a...       0   \n",
       "1      3  If you need an inexpensive place to stay for a...       0   \n",
       "\n",
       "                  user_id  \n",
       "0  cjpdDjZyprfyDG3RlkVG3w  \n",
       "1  bjTcT8Ty4cJZhEOEo01FGA  "
      ]
     },
     "execution_count": 19,
     "metadata": {},
     "output_type": "execute_result"
    }
   ],
   "source": [
    "with open(file_review) as f:\n",
    "    df_review = pd.DataFrame(json.loads(line) for line in f)\n",
    "df_review.head(2)"
   ]
  },
  {
   "cell_type": "markdown",
   "metadata": {},
   "source": [
    "#### Prepare dataframes to be joined, - on business_id"
   ]
  },
  {
   "cell_type": "code",
   "execution_count": 20,
   "metadata": {},
   "outputs": [
    {
     "data": {
      "text/html": [
       "<div>\n",
       "<style>\n",
       "    .dataframe thead tr:only-child th {\n",
       "        text-align: right;\n",
       "    }\n",
       "\n",
       "    .dataframe thead th {\n",
       "        text-align: left;\n",
       "    }\n",
       "\n",
       "    .dataframe tbody tr th {\n",
       "        vertical-align: top;\n",
       "    }\n",
       "</style>\n",
       "<table border=\"1\" class=\"dataframe\">\n",
       "  <thead>\n",
       "    <tr style=\"text-align: right;\">\n",
       "      <th></th>\n",
       "      <th>name</th>\n",
       "      <th>categories</th>\n",
       "      <th>avg_stars</th>\n",
       "    </tr>\n",
       "    <tr>\n",
       "      <th>business_id</th>\n",
       "      <th></th>\n",
       "      <th></th>\n",
       "      <th></th>\n",
       "    </tr>\n",
       "  </thead>\n",
       "  <tbody>\n",
       "    <tr>\n",
       "      <th>LDMCrFlGIFUN6L-FEFgzWg</th>\n",
       "      <td>El Pollo Loco</td>\n",
       "      <td>[Restaurants, American (Traditional), Mexican,...</td>\n",
       "      <td>3.0</td>\n",
       "    </tr>\n",
       "    <tr>\n",
       "      <th>QTH_XGh4rWYdd0fTW-tUDw</th>\n",
       "      <td>Baja Fresh Mexican Grill</td>\n",
       "      <td>[Mexican, Restaurants]</td>\n",
       "      <td>3.5</td>\n",
       "    </tr>\n",
       "    <tr>\n",
       "      <th>DiA78qPtp6rfRNdomzjBbw</th>\n",
       "      <td>Joshan Filipino Oriental Market</td>\n",
       "      <td>[Chinese, Food, Convenience Stores, Restaurants]</td>\n",
       "      <td>3.5</td>\n",
       "    </tr>\n",
       "    <tr>\n",
       "      <th>YTqtM2WFhcMZGeAGA08Cfg</th>\n",
       "      <td>Mariscos Playa Escondida</td>\n",
       "      <td>[Seafood, Restaurants, Specialty Food, Ethnic ...</td>\n",
       "      <td>4.5</td>\n",
       "    </tr>\n",
       "    <tr>\n",
       "      <th>Oto60yDwk1z72WmfWEYrjg</th>\n",
       "      <td>Baja Miguel's</td>\n",
       "      <td>[Food, Restaurants, Mexican]</td>\n",
       "      <td>3.0</td>\n",
       "    </tr>\n",
       "  </tbody>\n",
       "</table>\n",
       "</div>"
      ],
      "text/plain": [
       "                                                   name  \\\n",
       "business_id                                               \n",
       "LDMCrFlGIFUN6L-FEFgzWg                    El Pollo Loco   \n",
       "QTH_XGh4rWYdd0fTW-tUDw         Baja Fresh Mexican Grill   \n",
       "DiA78qPtp6rfRNdomzjBbw  Joshan Filipino Oriental Market   \n",
       "YTqtM2WFhcMZGeAGA08Cfg         Mariscos Playa Escondida   \n",
       "Oto60yDwk1z72WmfWEYrjg                    Baja Miguel's   \n",
       "\n",
       "                                                               categories  \\\n",
       "business_id                                                                 \n",
       "LDMCrFlGIFUN6L-FEFgzWg  [Restaurants, American (Traditional), Mexican,...   \n",
       "QTH_XGh4rWYdd0fTW-tUDw                             [Mexican, Restaurants]   \n",
       "DiA78qPtp6rfRNdomzjBbw   [Chinese, Food, Convenience Stores, Restaurants]   \n",
       "YTqtM2WFhcMZGeAGA08Cfg  [Seafood, Restaurants, Specialty Food, Ethnic ...   \n",
       "Oto60yDwk1z72WmfWEYrjg                       [Food, Restaurants, Mexican]   \n",
       "\n",
       "                        avg_stars  \n",
       "business_id                        \n",
       "LDMCrFlGIFUN6L-FEFgzWg        3.0  \n",
       "QTH_XGh4rWYdd0fTW-tUDw        3.5  \n",
       "DiA78qPtp6rfRNdomzjBbw        3.5  \n",
       "YTqtM2WFhcMZGeAGA08Cfg        4.5  \n",
       "Oto60yDwk1z72WmfWEYrjg        3.0  "
      ]
     },
     "execution_count": 20,
     "metadata": {},
     "output_type": "execute_result"
    }
   ],
   "source": [
    "# Prepare the business dataframe and set index to column \"business_id\", and name it as df_left\n",
    "df_left = df_selected_business.set_index('business_id')\n",
    "df_left.head()"
   ]
  },
  {
   "cell_type": "code",
   "execution_count": 21,
   "metadata": {},
   "outputs": [
    {
     "data": {
      "text/plain": [
       "(4736897, 8)"
      ]
     },
     "execution_count": 21,
     "metadata": {},
     "output_type": "execute_result"
    }
   ],
   "source": [
    "# Prepare the review dataframe and set index to column \"business_id\", and name it as df_right\n",
    "df_right = df_review.set_index('business_id')\n",
    "df_right.shape"
   ]
  },
  {
   "cell_type": "markdown",
   "metadata": {},
   "source": [
    "#### Join and reset index"
   ]
  },
  {
   "cell_type": "code",
   "execution_count": 22,
   "metadata": {},
   "outputs": [
    {
     "data": {
      "text/plain": [
       "(917463, 12)"
      ]
     },
     "execution_count": 22,
     "metadata": {},
     "output_type": "execute_result"
    }
   ],
   "source": [
    "df_joined = df_right.join(df_left, how = 'inner')\n",
    "df_joined.reset_index(inplace = True)\n",
    "df_joined.shape"
   ]
  },
  {
   "cell_type": "markdown",
   "metadata": {},
   "source": [
    "#### Further filter data by date, keep comments from last 2 years"
   ]
  },
  {
   "cell_type": "code",
   "execution_count": 23,
   "metadata": {},
   "outputs": [],
   "source": [
    "import datetime\n",
    "# Make a filter that selects date after 2015-06-30\n",
    "\n",
    "# First, change the data type of column 'date' to datetime\n",
    "df_joined['date'] = pd.to_datetime(df_joined['date'])\n",
    "\n",
    "# Select dates after '2015-06-30'\n",
    "col_last_2_years = df_joined['date'] > datetime.date(2015,6,30)"
   ]
  },
  {
   "cell_type": "code",
   "execution_count": 24,
   "metadata": {},
   "outputs": [],
   "source": [
    "# Filter the joined DataFrame and name it as df_final\n",
    "df_final = df_joined[col_last_2_years]"
   ]
  },
  {
   "cell_type": "code",
   "execution_count": 25,
   "metadata": {},
   "outputs": [
    {
     "data": {
      "text/plain": [
       "(400119, 12)"
      ]
     },
     "execution_count": 25,
     "metadata": {},
     "output_type": "execute_result"
    }
   ],
   "source": [
    "df_final.shape"
   ]
  },
  {
   "cell_type": "markdown",
   "metadata": {},
   "source": [
    "#### Take a glance at the data"
   ]
  },
  {
   "cell_type": "code",
   "execution_count": 26,
   "metadata": {},
   "outputs": [],
   "source": [
    "import matplotlib.pyplot as plt\n",
    "% matplotlib inline"
   ]
  },
  {
   "cell_type": "code",
   "execution_count": 27,
   "metadata": {},
   "outputs": [
    {
     "data": {
      "text/plain": [
       "<matplotlib.axes._subplots.AxesSubplot at 0x1144ad630>"
      ]
     },
     "execution_count": 27,
     "metadata": {},
     "output_type": "execute_result"
    },
    {
     "data": {
      "image/png": "[encoded data removed]",
      "text/plain": [
       "<matplotlib.figure.Figure at 0x113efc9e8>"
      ]
     },
     "metadata": {},
     "output_type": "display_data"
    }
   ],
   "source": [
    "# Calculate counts of reviews per business entity, and plot it\n",
    "df_final['business_id'].value_counts().plot.hist(bins = 100)"
   ]
  },
  {
   "cell_type": "markdown",
   "metadata": {},
   "source": [
    "#### Save the file as csv file"
   ]
  },
  {
   "cell_type": "code",
   "execution_count": 28,
   "metadata": {},
   "outputs": [],
   "source": [
    "df_final.to_csv('last_2_years_restaurant_reviews.csv', index=False, encoding='utf-8')"
   ]
  },
  {
   "cell_type": "code",
   "execution_count": null,
   "metadata": {},
   "outputs": [],
   "source": []
  }
 ],
 "metadata": {
  "kernelspec": {
   "display_name": "Python 3",
   "language": "python",
   "name": "python3"
  },
  "language_info": {
   "codemirror_mode": {
    "name": "ipython",
    "version": 3
   },
   "file_extension": ".py",
   "mimetype": "text/x-python",
   "name": "python",
   "nbconvert_exporter": "python",
   "pygments_lexer": "ipython3",
   "version": "3.6.3"
  }
 },
 "nbformat": 4,
 "nbformat_minor": 2
}
