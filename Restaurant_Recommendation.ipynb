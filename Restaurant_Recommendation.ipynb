{
 "cells": [
  {
   "cell_type": "markdown",
   "metadata": {},
   "source": [
    "## Restaurant Recommender\n",
    "Sept 2017"
   ]
  },
  {
   "cell_type": "code",
   "execution_count": 1,
   "metadata": {},
   "outputs": [],
   "source": [
    "import pandas as pd\n",
    "import numpy as np\n",
    "import matplotlib.pyplot as plt\n",
    "% matplotlib inline\n",
    "plt.style.use(\"ggplot\")"
   ]
  },
  {
   "cell_type": "code",
   "execution_count": 2,
   "metadata": {},
   "outputs": [
    {
     "data": {
      "text/html": [
       "<div>\n",
       "<style scoped>\n",
       "    .dataframe tbody tr th:only-of-type {\n",
       "        vertical-align: middle;\n",
       "    }\n",
       "\n",
       "    .dataframe tbody tr th {\n",
       "        vertical-align: top;\n",
       "    }\n",
       "\n",
       "    .dataframe thead th {\n",
       "        text-align: right;\n",
       "    }\n",
       "</style>\n",
       "<table border=\"1\" class=\"dataframe\">\n",
       "  <thead>\n",
       "    <tr style=\"text-align: right;\">\n",
       "      <th></th>\n",
       "      <th>business_id</th>\n",
       "      <th>cool</th>\n",
       "      <th>date</th>\n",
       "      <th>funny</th>\n",
       "      <th>review_id</th>\n",
       "      <th>stars</th>\n",
       "      <th>text</th>\n",
       "      <th>useful</th>\n",
       "      <th>user_id</th>\n",
       "      <th>name</th>\n",
       "      <th>categories</th>\n",
       "      <th>avg_stars</th>\n",
       "    </tr>\n",
       "  </thead>\n",
       "  <tbody>\n",
       "    <tr>\n",
       "      <th>0</th>\n",
       "      <td>--9e1ONYQuAa-CB_Rrw7Tw</td>\n",
       "      <td>1</td>\n",
       "      <td>2016-05-17</td>\n",
       "      <td>0</td>\n",
       "      <td>0Qc1THNHSapDL7cv-ZzW5g</td>\n",
       "      <td>5</td>\n",
       "      <td>What can I say.. Wowzers! Probably one of the ...</td>\n",
       "      <td>0</td>\n",
       "      <td>4LxKRRIikhr65GfPDW626w</td>\n",
       "      <td>Delmonico Steakhouse</td>\n",
       "      <td>['Steakhouses', 'Cajun/Creole', 'Restaurants']</td>\n",
       "      <td>4.0</td>\n",
       "    </tr>\n",
       "    <tr>\n",
       "      <th>1</th>\n",
       "      <td>--9e1ONYQuAa-CB_Rrw7Tw</td>\n",
       "      <td>0</td>\n",
       "      <td>2017-01-20</td>\n",
       "      <td>0</td>\n",
       "      <td>L8lo5SKXfZRlbn1bpPiC9w</td>\n",
       "      <td>5</td>\n",
       "      <td>Went here for guys weekend. Unbelievable. Ravi...</td>\n",
       "      <td>0</td>\n",
       "      <td>nT8zgjoc-PbdBoQsFEXFLw</td>\n",
       "      <td>Delmonico Steakhouse</td>\n",
       "      <td>['Steakhouses', 'Cajun/Creole', 'Restaurants']</td>\n",
       "      <td>4.0</td>\n",
       "    </tr>\n",
       "  </tbody>\n",
       "</table>\n",
       "</div>"
      ],
      "text/plain": [
       "              business_id  cool        date  funny               review_id  \\\n",
       "0  --9e1ONYQuAa-CB_Rrw7Tw     1  2016-05-17      0  0Qc1THNHSapDL7cv-ZzW5g   \n",
       "1  --9e1ONYQuAa-CB_Rrw7Tw     0  2017-01-20      0  L8lo5SKXfZRlbn1bpPiC9w   \n",
       "\n",
       "   stars                                               text  useful  \\\n",
       "0      5  What can I say.. Wowzers! Probably one of the ...       0   \n",
       "1      5  Went here for guys weekend. Unbelievable. Ravi...       0   \n",
       "\n",
       "                  user_id                  name  \\\n",
       "0  4LxKRRIikhr65GfPDW626w  Delmonico Steakhouse   \n",
       "1  nT8zgjoc-PbdBoQsFEXFLw  Delmonico Steakhouse   \n",
       "\n",
       "                                       categories  avg_stars  \n",
       "0  ['Steakhouses', 'Cajun/Creole', 'Restaurants']        4.0  \n",
       "1  ['Steakhouses', 'Cajun/Creole', 'Restaurants']        4.0  "
      ]
     },
     "execution_count": 2,
     "metadata": {},
     "output_type": "execute_result"
    }
   ],
   "source": [
    "df = pd.read_csv('last_2_years_restaurant_reviews.csv')\n",
    "df.head(2)"
   ]
  },
  {
   "cell_type": "markdown",
   "metadata": {},
   "source": [
    "#### Select relevant columns in the original dataframe"
   ]
  },
  {
   "cell_type": "code",
   "execution_count": 3,
   "metadata": {},
   "outputs": [
    {
     "name": "stdout",
     "output_type": "stream",
     "text": [
      "<class 'pandas.core.frame.DataFrame'>\n",
      "RangeIndex: 400119 entries, 0 to 400118\n",
      "Data columns (total 3 columns):\n",
      "business_id    400119 non-null object\n",
      "user_id        400119 non-null object\n",
      "stars          400119 non-null int64\n",
      "dtypes: int64(1), object(2)\n",
      "memory usage: 9.2+ MB\n"
     ]
    }
   ],
   "source": [
    "# Get business_id, user_id, stars for recommender\n",
    "df_stars = df[['business_id', 'user_id', 'stars']]    # 474K rows\n",
    "df_stars.info()"
   ]
  },
  {
   "cell_type": "code",
   "execution_count": 4,
   "metadata": {},
   "outputs": [
    {
     "data": {
      "text/plain": [
       "5    186549\n",
       "4     84037\n",
       "1     52389\n",
       "3     44002\n",
       "2     33142\n",
       "Name: stars, dtype: int64"
      ]
     },
     "execution_count": 4,
     "metadata": {},
     "output_type": "execute_result"
    }
   ],
   "source": [
    "# Stars Distribution\n",
    "df_stars['stars'].value_counts()"
   ]
  },
  {
   "cell_type": "code",
   "execution_count": 5,
   "metadata": {},
   "outputs": [
    {
     "data": {
      "text/plain": [
       "(5783, 178770)"
      ]
     },
     "execution_count": 5,
     "metadata": {},
     "output_type": "execute_result"
    }
   ],
   "source": [
    "# number of unique business_id and unique user_id\n",
    "df_stars['business_id'].nunique(), df_stars['user_id'].nunique()"
   ]
  },
  {
   "cell_type": "code",
   "execution_count": 6,
   "metadata": {},
   "outputs": [
    {
     "data": {
      "text/plain": [
       "bLbSNkLggFnqwNNzzq-Ijw    590\n",
       "JaqcCU3nxReTW2cBLHounA    312\n",
       "B1829_hxXSEpDPEDJtYeIw    223\n",
       "PKEzKWv_FktMm2mGPjwd0Q    211\n",
       "3nIuSCZk5f_2WWYMLN7h3w    204\n",
       "Name: user_id, dtype: int64"
      ]
     },
     "execution_count": 6,
     "metadata": {},
     "output_type": "execute_result"
    }
   ],
   "source": [
    "# user comment counts\n",
    "df_user_counts = df_stars['user_id'].value_counts()\n",
    "df_user_counts.head()"
   ]
  },
  {
   "cell_type": "code",
   "execution_count": 7,
   "metadata": {},
   "outputs": [
    {
     "data": {
      "text/plain": [
       "(array([  1.15257000e+05,   0.00000000e+00,   0.00000000e+00,\n",
       "          2.90020000e+04,   0.00000000e+00,   1.25840000e+04,\n",
       "          6.71100000e+03,   3.97900000e+03,   2.60400000e+03,\n",
       "          3.06000000e+03,   1.64700000e+03,   9.80000000e+02,\n",
       "          8.64000000e+02,   6.20000000e+02,   4.44000000e+02,\n",
       "          3.38000000e+02,   2.29000000e+02,   1.45000000e+02,\n",
       "          1.19000000e+02,   8.60000000e+01,   4.50000000e+01,\n",
       "          3.20000000e+01,   1.10000000e+01,   5.00000000e+00,\n",
       "          3.00000000e+00,   3.00000000e+00,   0.00000000e+00,\n",
       "          1.00000000e+00,   0.00000000e+00,   1.00000000e+00]),\n",
       " array([ 0.        ,  0.21267075,  0.4253415 ,  0.63801225,  0.850683  ,\n",
       "         1.06335376,  1.27602451,  1.48869526,  1.70136601,  1.91403676,\n",
       "         2.12670751,  2.33937826,  2.55204901,  2.76471977,  2.97739052,\n",
       "         3.19006127,  3.40273202,  3.61540277,  3.82807352,  4.04074427,\n",
       "         4.25341502,  4.46608578,  4.67875653,  4.89142728,  5.10409803,\n",
       "         5.31676878,  5.52943953,  5.74211028,  5.95478103,  6.16745179,\n",
       "         6.38012254]),\n",
       " <a list of 30 Patch objects>)"
      ]
     },
     "execution_count": 7,
     "metadata": {},
     "output_type": "execute_result"
    },
    {
     "data": {
      "image/png": "[encoded data removed]",
      "text/plain": [
       "<matplotlib.figure.Figure at 0x105e49510>"
      ]
     },
     "metadata": {},
     "output_type": "display_data"
    }
   ],
   "source": [
    "# Plot the histogram of comments\n",
    "plt.hist(df_user_counts.apply(np.log), bins = 30)"
   ]
  },
  {
   "cell_type": "code",
   "execution_count": 8,
   "metadata": {},
   "outputs": [
    {
     "data": {
      "text/plain": [
       "115257"
      ]
     },
     "execution_count": 8,
     "metadata": {},
     "output_type": "execute_result"
    }
   ],
   "source": [
    "# users that only commented once\n",
    "df_user_counts[df_user_counts == 1].sum()"
   ]
  },
  {
   "cell_type": "code",
   "execution_count": 9,
   "metadata": {},
   "outputs": [
    {
     "data": {
      "text/plain": [
       "11237"
      ]
     },
     "execution_count": 9,
     "metadata": {},
     "output_type": "execute_result"
    }
   ],
   "source": [
    "# Define users who commented more than 5 times as active user\n",
    "df_active_users = df_user_counts[df_user_counts > 5]\n",
    "\n",
    "# number of active users\n",
    "df_active_users.index.nunique()   # same as: df_active_users.count()"
   ]
  },
  {
   "cell_type": "code",
   "execution_count": 10,
   "metadata": {},
   "outputs": [
    {
     "name": "stderr",
     "output_type": "stream",
     "text": [
      "/usr/local/lib/python2.7/site-packages/ipykernel_launcher.py:2: DeprecationWarning: \n",
      ".ix is deprecated. Please use\n",
      ".loc for label based indexing or\n",
      ".iloc for positional indexing\n",
      "\n",
      "See the documentation here:\n",
      "http://pandas.pydata.org/pandas-docs/stable/indexing.html#ix-indexer-is-deprecated\n",
      "  \n"
     ]
    },
    {
     "data": {
      "text/html": [
       "<div>\n",
       "<style scoped>\n",
       "    .dataframe tbody tr th:only-of-type {\n",
       "        vertical-align: middle;\n",
       "    }\n",
       "\n",
       "    .dataframe tbody tr th {\n",
       "        vertical-align: top;\n",
       "    }\n",
       "\n",
       "    .dataframe thead th {\n",
       "        text-align: right;\n",
       "    }\n",
       "</style>\n",
       "<table border=\"1\" class=\"dataframe\">\n",
       "  <thead>\n",
       "    <tr style=\"text-align: right;\">\n",
       "      <th></th>\n",
       "      <th>business_id</th>\n",
       "      <th>stars</th>\n",
       "    </tr>\n",
       "    <tr>\n",
       "      <th>user_id</th>\n",
       "      <th></th>\n",
       "      <th></th>\n",
       "    </tr>\n",
       "  </thead>\n",
       "  <tbody>\n",
       "    <tr>\n",
       "      <th>bLbSNkLggFnqwNNzzq-Ijw</th>\n",
       "      <td>-95mbLJsa0CxXhpaNL4LvA</td>\n",
       "      <td>3</td>\n",
       "    </tr>\n",
       "    <tr>\n",
       "      <th>bLbSNkLggFnqwNNzzq-Ijw</th>\n",
       "      <td>-C8sSrFqaCxp51pyo-fQLQ</td>\n",
       "      <td>4</td>\n",
       "    </tr>\n",
       "    <tr>\n",
       "      <th>bLbSNkLggFnqwNNzzq-Ijw</th>\n",
       "      <td>-CQokjildrY7UZezXCdEBw</td>\n",
       "      <td>5</td>\n",
       "    </tr>\n",
       "    <tr>\n",
       "      <th>bLbSNkLggFnqwNNzzq-Ijw</th>\n",
       "      <td>-FcZY7a7qgxTUlTvwuyJnQ</td>\n",
       "      <td>3</td>\n",
       "    </tr>\n",
       "    <tr>\n",
       "      <th>bLbSNkLggFnqwNNzzq-Ijw</th>\n",
       "      <td>-IWsoxH7mLJTTpU5MmWY4w</td>\n",
       "      <td>4</td>\n",
       "    </tr>\n",
       "  </tbody>\n",
       "</table>\n",
       "</div>"
      ],
      "text/plain": [
       "                                   business_id  stars\n",
       "user_id                                              \n",
       "bLbSNkLggFnqwNNzzq-Ijw  -95mbLJsa0CxXhpaNL4LvA      3\n",
       "bLbSNkLggFnqwNNzzq-Ijw  -C8sSrFqaCxp51pyo-fQLQ      4\n",
       "bLbSNkLggFnqwNNzzq-Ijw  -CQokjildrY7UZezXCdEBw      5\n",
       "bLbSNkLggFnqwNNzzq-Ijw  -FcZY7a7qgxTUlTvwuyJnQ      3\n",
       "bLbSNkLggFnqwNNzzq-Ijw  -IWsoxH7mLJTTpU5MmWY4w      4"
      ]
     },
     "execution_count": 10,
     "metadata": {},
     "output_type": "execute_result"
    }
   ],
   "source": [
    "# Find the active users in the df_stars dataframe\n",
    "df_stars.set_index('user_id').ix[df_active_users.index].head()"
   ]
  },
  {
   "cell_type": "code",
   "execution_count": 11,
   "metadata": {},
   "outputs": [
    {
     "name": "stderr",
     "output_type": "stream",
     "text": [
      "/usr/local/lib/python2.7/site-packages/ipykernel_launcher.py:2: DeprecationWarning: \n",
      ".ix is deprecated. Please use\n",
      ".loc for label based indexing or\n",
      ".iloc for positional indexing\n",
      "\n",
      "See the documentation here:\n",
      "http://pandas.pydata.org/pandas-docs/stable/indexing.html#ix-indexer-is-deprecated\n",
      "  \n"
     ]
    }
   ],
   "source": [
    "# Filter the df_stars and keep only the active users records\n",
    "df_stars_cleaned = df_stars.set_index('user_id').ix[df_active_users.index].reset_index()"
   ]
  },
  {
   "cell_type": "code",
   "execution_count": 12,
   "metadata": {},
   "outputs": [
    {
     "name": "stdout",
     "output_type": "stream",
     "text": [
      "              business_id                 user_id  stars\n",
      "0  --9e1ONYQuAa-CB_Rrw7Tw  4LxKRRIikhr65GfPDW626w      5\n",
      "1  --9e1ONYQuAa-CB_Rrw7Tw  nT8zgjoc-PbdBoQsFEXFLw      5\n",
      "2  --9e1ONYQuAa-CB_Rrw7Tw  7RlyCglsIzhBn081inwvcg      5\n",
      "3  --9e1ONYQuAa-CB_Rrw7Tw  rOIrilMC7VFwFVBeQNiKMw      3\n",
      "4  --9e1ONYQuAa-CB_Rrw7Tw  PiWlV_UC_-SXqyxQM9fAtw      5\n",
      "                  user_id             business_id  stars\n",
      "0  bLbSNkLggFnqwNNzzq-Ijw  -95mbLJsa0CxXhpaNL4LvA      3\n",
      "1  bLbSNkLggFnqwNNzzq-Ijw  -C8sSrFqaCxp51pyo-fQLQ      4\n",
      "2  bLbSNkLggFnqwNNzzq-Ijw  -CQokjildrY7UZezXCdEBw      5\n",
      "3  bLbSNkLggFnqwNNzzq-Ijw  -FcZY7a7qgxTUlTvwuyJnQ      3\n",
      "4  bLbSNkLggFnqwNNzzq-Ijw  -IWsoxH7mLJTTpU5MmWY4w      4\n"
     ]
    }
   ],
   "source": [
    "print(df_stars.head())\n",
    "print(df_stars_cleaned.head())"
   ]
  },
  {
   "cell_type": "markdown",
   "metadata": {},
   "source": [
    "#### Create utility matrix from records"
   ]
  },
  {
   "cell_type": "code",
   "execution_count": 13,
   "metadata": {},
   "outputs": [
    {
     "data": {
      "text/html": [
       "<div>\n",
       "<style scoped>\n",
       "    .dataframe tbody tr th:only-of-type {\n",
       "        vertical-align: middle;\n",
       "    }\n",
       "\n",
       "    .dataframe tbody tr th {\n",
       "        vertical-align: top;\n",
       "    }\n",
       "\n",
       "    .dataframe thead th {\n",
       "        text-align: right;\n",
       "    }\n",
       "</style>\n",
       "<table border=\"1\" class=\"dataframe\">\n",
       "  <thead>\n",
       "    <tr style=\"text-align: right;\">\n",
       "      <th>business_id</th>\n",
       "      <th>--9e1ONYQuAa-CB_Rrw7Tw</th>\n",
       "      <th>-0BxAGlIk5DJAGVkpqBXxg</th>\n",
       "      <th>-1vfRrlnNnNJ5boOVghMPA</th>\n",
       "      <th>-3H_6UZGWrfl8XQsm1fBmw</th>\n",
       "      <th>-3zffZUHoY8bQjGfPSoBKQ</th>\n",
       "      <th>-46pFijv3f2jZH-_Ze6CQA</th>\n",
       "      <th>-8R_-EkGpUhBk55K9Dd4mg</th>\n",
       "      <th>-8ZiMXZReeTD3kwEvS0Lww</th>\n",
       "      <th>-95mbLJsa0CxXhpaNL4LvA</th>\n",
       "      <th>-9Ir5OiFiOszIgeFgalXcw</th>\n",
       "      <th>...</th>\n",
       "      <th>zp-K5s3pGTWuuaVBWo6WZA</th>\n",
       "      <th>zp-RjJnMCTXbgeYy28m9Lw</th>\n",
       "      <th>zpSjMqahUSt39dYD-oqFPg</th>\n",
       "      <th>zpoZ6WyQUYff18-z4ZU1mA</th>\n",
       "      <th>zqoPpM4GppNhRp-PkhLeSg</th>\n",
       "      <th>zsQk990PubOHjr1YcLkQFw</th>\n",
       "      <th>zt9RLUIU32fZYOBh2L0NNQ</th>\n",
       "      <th>zttcrQP4MxNS5X5itzStXg</th>\n",
       "      <th>zuwba6QEBIDZT0tJZmNhdQ</th>\n",
       "      <th>zwNC-Ow4eIMan2__bS9-rg</th>\n",
       "    </tr>\n",
       "    <tr>\n",
       "      <th>user_id</th>\n",
       "      <th></th>\n",
       "      <th></th>\n",
       "      <th></th>\n",
       "      <th></th>\n",
       "      <th></th>\n",
       "      <th></th>\n",
       "      <th></th>\n",
       "      <th></th>\n",
       "      <th></th>\n",
       "      <th></th>\n",
       "      <th></th>\n",
       "      <th></th>\n",
       "      <th></th>\n",
       "      <th></th>\n",
       "      <th></th>\n",
       "      <th></th>\n",
       "      <th></th>\n",
       "      <th></th>\n",
       "      <th></th>\n",
       "      <th></th>\n",
       "      <th></th>\n",
       "    </tr>\n",
       "  </thead>\n",
       "  <tbody>\n",
       "    <tr>\n",
       "      <th>--LUapetRSkZpFZ2d-MXLQ</th>\n",
       "      <td>0</td>\n",
       "      <td>0</td>\n",
       "      <td>0</td>\n",
       "      <td>0</td>\n",
       "      <td>0</td>\n",
       "      <td>0</td>\n",
       "      <td>0</td>\n",
       "      <td>0</td>\n",
       "      <td>0</td>\n",
       "      <td>0</td>\n",
       "      <td>...</td>\n",
       "      <td>0</td>\n",
       "      <td>0</td>\n",
       "      <td>0</td>\n",
       "      <td>0</td>\n",
       "      <td>0</td>\n",
       "      <td>0</td>\n",
       "      <td>0</td>\n",
       "      <td>0</td>\n",
       "      <td>0</td>\n",
       "      <td>0</td>\n",
       "    </tr>\n",
       "    <tr>\n",
       "      <th>--RlSfc-QmcHFGHyX6aVjA</th>\n",
       "      <td>0</td>\n",
       "      <td>0</td>\n",
       "      <td>0</td>\n",
       "      <td>0</td>\n",
       "      <td>0</td>\n",
       "      <td>0</td>\n",
       "      <td>0</td>\n",
       "      <td>0</td>\n",
       "      <td>0</td>\n",
       "      <td>0</td>\n",
       "      <td>...</td>\n",
       "      <td>0</td>\n",
       "      <td>0</td>\n",
       "      <td>0</td>\n",
       "      <td>0</td>\n",
       "      <td>0</td>\n",
       "      <td>0</td>\n",
       "      <td>0</td>\n",
       "      <td>0</td>\n",
       "      <td>0</td>\n",
       "      <td>0</td>\n",
       "    </tr>\n",
       "    <tr>\n",
       "      <th>--ZNfWKj1VyVElRx6-g1fg</th>\n",
       "      <td>0</td>\n",
       "      <td>0</td>\n",
       "      <td>0</td>\n",
       "      <td>0</td>\n",
       "      <td>0</td>\n",
       "      <td>0</td>\n",
       "      <td>0</td>\n",
       "      <td>0</td>\n",
       "      <td>0</td>\n",
       "      <td>0</td>\n",
       "      <td>...</td>\n",
       "      <td>0</td>\n",
       "      <td>0</td>\n",
       "      <td>0</td>\n",
       "      <td>0</td>\n",
       "      <td>0</td>\n",
       "      <td>3</td>\n",
       "      <td>0</td>\n",
       "      <td>0</td>\n",
       "      <td>0</td>\n",
       "      <td>0</td>\n",
       "    </tr>\n",
       "    <tr>\n",
       "      <th>-00kdEIhCt-ODaV4BS-EAg</th>\n",
       "      <td>0</td>\n",
       "      <td>0</td>\n",
       "      <td>0</td>\n",
       "      <td>0</td>\n",
       "      <td>0</td>\n",
       "      <td>0</td>\n",
       "      <td>0</td>\n",
       "      <td>0</td>\n",
       "      <td>0</td>\n",
       "      <td>0</td>\n",
       "      <td>...</td>\n",
       "      <td>0</td>\n",
       "      <td>0</td>\n",
       "      <td>0</td>\n",
       "      <td>0</td>\n",
       "      <td>0</td>\n",
       "      <td>0</td>\n",
       "      <td>0</td>\n",
       "      <td>0</td>\n",
       "      <td>0</td>\n",
       "      <td>0</td>\n",
       "    </tr>\n",
       "    <tr>\n",
       "      <th>-05XqtNjcBq19vh2CVJN8g</th>\n",
       "      <td>0</td>\n",
       "      <td>0</td>\n",
       "      <td>0</td>\n",
       "      <td>0</td>\n",
       "      <td>0</td>\n",
       "      <td>0</td>\n",
       "      <td>0</td>\n",
       "      <td>0</td>\n",
       "      <td>0</td>\n",
       "      <td>0</td>\n",
       "      <td>...</td>\n",
       "      <td>0</td>\n",
       "      <td>0</td>\n",
       "      <td>0</td>\n",
       "      <td>0</td>\n",
       "      <td>0</td>\n",
       "      <td>0</td>\n",
       "      <td>0</td>\n",
       "      <td>0</td>\n",
       "      <td>0</td>\n",
       "      <td>0</td>\n",
       "    </tr>\n",
       "  </tbody>\n",
       "</table>\n",
       "<p>5 rows × 5360 columns</p>\n",
       "</div>"
      ],
      "text/plain": [
       "business_id             --9e1ONYQuAa-CB_Rrw7Tw  -0BxAGlIk5DJAGVkpqBXxg  \\\n",
       "user_id                                                                  \n",
       "--LUapetRSkZpFZ2d-MXLQ                       0                       0   \n",
       "--RlSfc-QmcHFGHyX6aVjA                       0                       0   \n",
       "--ZNfWKj1VyVElRx6-g1fg                       0                       0   \n",
       "-00kdEIhCt-ODaV4BS-EAg                       0                       0   \n",
       "-05XqtNjcBq19vh2CVJN8g                       0                       0   \n",
       "\n",
       "business_id             -1vfRrlnNnNJ5boOVghMPA  -3H_6UZGWrfl8XQsm1fBmw  \\\n",
       "user_id                                                                  \n",
       "--LUapetRSkZpFZ2d-MXLQ                       0                       0   \n",
       "--RlSfc-QmcHFGHyX6aVjA                       0                       0   \n",
       "--ZNfWKj1VyVElRx6-g1fg                       0                       0   \n",
       "-00kdEIhCt-ODaV4BS-EAg                       0                       0   \n",
       "-05XqtNjcBq19vh2CVJN8g                       0                       0   \n",
       "\n",
       "business_id             -3zffZUHoY8bQjGfPSoBKQ  -46pFijv3f2jZH-_Ze6CQA  \\\n",
       "user_id                                                                  \n",
       "--LUapetRSkZpFZ2d-MXLQ                       0                       0   \n",
       "--RlSfc-QmcHFGHyX6aVjA                       0                       0   \n",
       "--ZNfWKj1VyVElRx6-g1fg                       0                       0   \n",
       "-00kdEIhCt-ODaV4BS-EAg                       0                       0   \n",
       "-05XqtNjcBq19vh2CVJN8g                       0                       0   \n",
       "\n",
       "business_id             -8R_-EkGpUhBk55K9Dd4mg  -8ZiMXZReeTD3kwEvS0Lww  \\\n",
       "user_id                                                                  \n",
       "--LUapetRSkZpFZ2d-MXLQ                       0                       0   \n",
       "--RlSfc-QmcHFGHyX6aVjA                       0                       0   \n",
       "--ZNfWKj1VyVElRx6-g1fg                       0                       0   \n",
       "-00kdEIhCt-ODaV4BS-EAg                       0                       0   \n",
       "-05XqtNjcBq19vh2CVJN8g                       0                       0   \n",
       "\n",
       "business_id             -95mbLJsa0CxXhpaNL4LvA  -9Ir5OiFiOszIgeFgalXcw  \\\n",
       "user_id                                                                  \n",
       "--LUapetRSkZpFZ2d-MXLQ                       0                       0   \n",
       "--RlSfc-QmcHFGHyX6aVjA                       0                       0   \n",
       "--ZNfWKj1VyVElRx6-g1fg                       0                       0   \n",
       "-00kdEIhCt-ODaV4BS-EAg                       0                       0   \n",
       "-05XqtNjcBq19vh2CVJN8g                       0                       0   \n",
       "\n",
       "business_id                      ...            zp-K5s3pGTWuuaVBWo6WZA  \\\n",
       "user_id                          ...                                     \n",
       "--LUapetRSkZpFZ2d-MXLQ           ...                                 0   \n",
       "--RlSfc-QmcHFGHyX6aVjA           ...                                 0   \n",
       "--ZNfWKj1VyVElRx6-g1fg           ...                                 0   \n",
       "-00kdEIhCt-ODaV4BS-EAg           ...                                 0   \n",
       "-05XqtNjcBq19vh2CVJN8g           ...                                 0   \n",
       "\n",
       "business_id             zp-RjJnMCTXbgeYy28m9Lw  zpSjMqahUSt39dYD-oqFPg  \\\n",
       "user_id                                                                  \n",
       "--LUapetRSkZpFZ2d-MXLQ                       0                       0   \n",
       "--RlSfc-QmcHFGHyX6aVjA                       0                       0   \n",
       "--ZNfWKj1VyVElRx6-g1fg                       0                       0   \n",
       "-00kdEIhCt-ODaV4BS-EAg                       0                       0   \n",
       "-05XqtNjcBq19vh2CVJN8g                       0                       0   \n",
       "\n",
       "business_id             zpoZ6WyQUYff18-z4ZU1mA  zqoPpM4GppNhRp-PkhLeSg  \\\n",
       "user_id                                                                  \n",
       "--LUapetRSkZpFZ2d-MXLQ                       0                       0   \n",
       "--RlSfc-QmcHFGHyX6aVjA                       0                       0   \n",
       "--ZNfWKj1VyVElRx6-g1fg                       0                       0   \n",
       "-00kdEIhCt-ODaV4BS-EAg                       0                       0   \n",
       "-05XqtNjcBq19vh2CVJN8g                       0                       0   \n",
       "\n",
       "business_id             zsQk990PubOHjr1YcLkQFw  zt9RLUIU32fZYOBh2L0NNQ  \\\n",
       "user_id                                                                  \n",
       "--LUapetRSkZpFZ2d-MXLQ                       0                       0   \n",
       "--RlSfc-QmcHFGHyX6aVjA                       0                       0   \n",
       "--ZNfWKj1VyVElRx6-g1fg                       3                       0   \n",
       "-00kdEIhCt-ODaV4BS-EAg                       0                       0   \n",
       "-05XqtNjcBq19vh2CVJN8g                       0                       0   \n",
       "\n",
       "business_id             zttcrQP4MxNS5X5itzStXg  zuwba6QEBIDZT0tJZmNhdQ  \\\n",
       "user_id                                                                  \n",
       "--LUapetRSkZpFZ2d-MXLQ                       0                       0   \n",
       "--RlSfc-QmcHFGHyX6aVjA                       0                       0   \n",
       "--ZNfWKj1VyVElRx6-g1fg                       0                       0   \n",
       "-00kdEIhCt-ODaV4BS-EAg                       0                       0   \n",
       "-05XqtNjcBq19vh2CVJN8g                       0                       0   \n",
       "\n",
       "business_id             zwNC-Ow4eIMan2__bS9-rg  \n",
       "user_id                                         \n",
       "--LUapetRSkZpFZ2d-MXLQ                       0  \n",
       "--RlSfc-QmcHFGHyX6aVjA                       0  \n",
       "--ZNfWKj1VyVElRx6-g1fg                       0  \n",
       "-00kdEIhCt-ODaV4BS-EAg                       0  \n",
       "-05XqtNjcBq19vh2CVJN8g                       0  \n",
       "\n",
       "[5 rows x 5360 columns]"
      ]
     },
     "execution_count": 13,
     "metadata": {},
     "output_type": "execute_result"
    }
   ],
   "source": [
    "# Pivot the df_stars_cleaned dataframe\n",
    "df_utility = pd.pivot_table(data=df_stars_cleaned,\n",
    "                            values='stars',\n",
    "                            index='user_id',\n",
    "                            columns='business_id',\n",
    "                            fill_value=0)\n",
    "df_utility.head()"
   ]
  },
  {
   "cell_type": "code",
   "execution_count": 14,
   "metadata": {},
   "outputs": [
    {
     "data": {
      "text/plain": [
       "((11237,), (5360,))"
      ]
     },
     "execution_count": 14,
     "metadata": {},
     "output_type": "execute_result"
    }
   ],
   "source": [
    "df_utility.index.shape, df_utility.columns.shape"
   ]
  },
  {
   "cell_type": "markdown",
   "metadata": {},
   "source": [
    "### Item-Item similarity recommender"
   ]
  },
  {
   "cell_type": "code",
   "execution_count": 15,
   "metadata": {},
   "outputs": [],
   "source": [
    "import graphlab"
   ]
  },
  {
   "cell_type": "code",
   "execution_count": 16,
   "metadata": {},
   "outputs": [
    {
     "name": "stdout",
     "output_type": "stream",
     "text": [
      "This non-commercial license of GraphLab Create for academic use is assigned to biyingk2@illinois.edu and will expire on September 15, 2018.\n"
     ]
    },
    {
     "name": "stderr",
     "output_type": "stream",
     "text": [
      "[INFO] graphlab.cython.cy_server: GraphLab Create v2.1 started. Logging: /tmp/graphlab_server_1511343659.log\n"
     ]
    },
    {
     "data": {
      "text/html": [
       "<div style=\"max-height:1000px;max-width:1500px;overflow:auto;\"><table frame=\"box\" rules=\"cols\">\n",
       "    <tr>\n",
       "        <th style=\"padding-left: 1em; padding-right: 1em; text-align: center\">business_id</th>\n",
       "        <th style=\"padding-left: 1em; padding-right: 1em; text-align: center\">user_id</th>\n",
       "        <th style=\"padding-left: 1em; padding-right: 1em; text-align: center\">stars</th>\n",
       "    </tr>\n",
       "    <tr>\n",
       "        <td style=\"padding-left: 1em; padding-right: 1em; text-align: center; vertical-align: top\">--9e1ONYQuAa-CB_Rrw7Tw</td>\n",
       "        <td style=\"padding-left: 1em; padding-right: 1em; text-align: center; vertical-align: top\">4LxKRRIikhr65GfPDW626w</td>\n",
       "        <td style=\"padding-left: 1em; padding-right: 1em; text-align: center; vertical-align: top\">5</td>\n",
       "    </tr>\n",
       "    <tr>\n",
       "        <td style=\"padding-left: 1em; padding-right: 1em; text-align: center; vertical-align: top\">--9e1ONYQuAa-CB_Rrw7Tw</td>\n",
       "        <td style=\"padding-left: 1em; padding-right: 1em; text-align: center; vertical-align: top\">nT8zgjoc-PbdBoQsFEXFLw</td>\n",
       "        <td style=\"padding-left: 1em; padding-right: 1em; text-align: center; vertical-align: top\">5</td>\n",
       "    </tr>\n",
       "    <tr>\n",
       "        <td style=\"padding-left: 1em; padding-right: 1em; text-align: center; vertical-align: top\">--9e1ONYQuAa-CB_Rrw7Tw</td>\n",
       "        <td style=\"padding-left: 1em; padding-right: 1em; text-align: center; vertical-align: top\">7RlyCglsIzhBn081inwvcg</td>\n",
       "        <td style=\"padding-left: 1em; padding-right: 1em; text-align: center; vertical-align: top\">5</td>\n",
       "    </tr>\n",
       "    <tr>\n",
       "        <td style=\"padding-left: 1em; padding-right: 1em; text-align: center; vertical-align: top\">--9e1ONYQuAa-CB_Rrw7Tw</td>\n",
       "        <td style=\"padding-left: 1em; padding-right: 1em; text-align: center; vertical-align: top\">rOIrilMC7VFwFVBeQNiKMw</td>\n",
       "        <td style=\"padding-left: 1em; padding-right: 1em; text-align: center; vertical-align: top\">3</td>\n",
       "    </tr>\n",
       "    <tr>\n",
       "        <td style=\"padding-left: 1em; padding-right: 1em; text-align: center; vertical-align: top\">--9e1ONYQuAa-CB_Rrw7Tw</td>\n",
       "        <td style=\"padding-left: 1em; padding-right: 1em; text-align: center; vertical-align: top\">PiWlV_UC_-SXqyxQM9fAtw</td>\n",
       "        <td style=\"padding-left: 1em; padding-right: 1em; text-align: center; vertical-align: top\">5</td>\n",
       "    </tr>\n",
       "    <tr>\n",
       "        <td style=\"padding-left: 1em; padding-right: 1em; text-align: center; vertical-align: top\">--9e1ONYQuAa-CB_Rrw7Tw</td>\n",
       "        <td style=\"padding-left: 1em; padding-right: 1em; text-align: center; vertical-align: top\">TU5j2S_Ub__ojLOpD_UepQ</td>\n",
       "        <td style=\"padding-left: 1em; padding-right: 1em; text-align: center; vertical-align: top\">5</td>\n",
       "    </tr>\n",
       "    <tr>\n",
       "        <td style=\"padding-left: 1em; padding-right: 1em; text-align: center; vertical-align: top\">--9e1ONYQuAa-CB_Rrw7Tw</td>\n",
       "        <td style=\"padding-left: 1em; padding-right: 1em; text-align: center; vertical-align: top\">yywpv3b6QWWJzjOyIlvWiQ</td>\n",
       "        <td style=\"padding-left: 1em; padding-right: 1em; text-align: center; vertical-align: top\">3</td>\n",
       "    </tr>\n",
       "    <tr>\n",
       "        <td style=\"padding-left: 1em; padding-right: 1em; text-align: center; vertical-align: top\">--9e1ONYQuAa-CB_Rrw7Tw</td>\n",
       "        <td style=\"padding-left: 1em; padding-right: 1em; text-align: center; vertical-align: top\">4pbbNuzxlZ9E52wsVhgGig</td>\n",
       "        <td style=\"padding-left: 1em; padding-right: 1em; text-align: center; vertical-align: top\">1</td>\n",
       "    </tr>\n",
       "    <tr>\n",
       "        <td style=\"padding-left: 1em; padding-right: 1em; text-align: center; vertical-align: top\">--9e1ONYQuAa-CB_Rrw7Tw</td>\n",
       "        <td style=\"padding-left: 1em; padding-right: 1em; text-align: center; vertical-align: top\">ez3GBw83OIgzzgvc0R4jzw</td>\n",
       "        <td style=\"padding-left: 1em; padding-right: 1em; text-align: center; vertical-align: top\">4</td>\n",
       "    </tr>\n",
       "    <tr>\n",
       "        <td style=\"padding-left: 1em; padding-right: 1em; text-align: center; vertical-align: top\">--9e1ONYQuAa-CB_Rrw7Tw</td>\n",
       "        <td style=\"padding-left: 1em; padding-right: 1em; text-align: center; vertical-align: top\">SP-QU8T97xRT1NSuV8OxVw</td>\n",
       "        <td style=\"padding-left: 1em; padding-right: 1em; text-align: center; vertical-align: top\">1</td>\n",
       "    </tr>\n",
       "</table>\n",
       "[400119 rows x 3 columns]<br/>Note: Only the head of the SFrame is printed.<br/>You can use print_rows(num_rows=m, num_columns=n) to print more rows and columns.\n",
       "</div>"
      ],
      "text/plain": [
       "Columns:\n",
       "\tbusiness_id\tstr\n",
       "\tuser_id\tstr\n",
       "\tstars\tint\n",
       "\n",
       "Rows: 400119\n",
       "\n",
       "Data:\n",
       "+------------------------+------------------------+-------+\n",
       "|      business_id       |        user_id         | stars |\n",
       "+------------------------+------------------------+-------+\n",
       "| --9e1ONYQuAa-CB_Rrw7Tw | 4LxKRRIikhr65GfPDW626w |   5   |\n",
       "| --9e1ONYQuAa-CB_Rrw7Tw | nT8zgjoc-PbdBoQsFEXFLw |   5   |\n",
       "| --9e1ONYQuAa-CB_Rrw7Tw | 7RlyCglsIzhBn081inwvcg |   5   |\n",
       "| --9e1ONYQuAa-CB_Rrw7Tw | rOIrilMC7VFwFVBeQNiKMw |   3   |\n",
       "| --9e1ONYQuAa-CB_Rrw7Tw | PiWlV_UC_-SXqyxQM9fAtw |   5   |\n",
       "| --9e1ONYQuAa-CB_Rrw7Tw | TU5j2S_Ub__ojLOpD_UepQ |   5   |\n",
       "| --9e1ONYQuAa-CB_Rrw7Tw | yywpv3b6QWWJzjOyIlvWiQ |   3   |\n",
       "| --9e1ONYQuAa-CB_Rrw7Tw | 4pbbNuzxlZ9E52wsVhgGig |   1   |\n",
       "| --9e1ONYQuAa-CB_Rrw7Tw | ez3GBw83OIgzzgvc0R4jzw |   4   |\n",
       "| --9e1ONYQuAa-CB_Rrw7Tw | SP-QU8T97xRT1NSuV8OxVw |   1   |\n",
       "+------------------------+------------------------+-------+\n",
       "[400119 rows x 3 columns]\n",
       "Note: Only the head of the SFrame is printed.\n",
       "You can use print_rows(num_rows=m, num_columns=n) to print more rows and columns."
      ]
     },
     "execution_count": 16,
     "metadata": {},
     "output_type": "execute_result"
    }
   ],
   "source": [
    "sf_stars = graphlab.SFrame(df_stars)\n",
    "sf_stars"
   ]
  },
  {
   "cell_type": "code",
   "execution_count": 17,
   "metadata": {},
   "outputs": [
    {
     "data": {
      "text/html": [
       "<pre>Recsys training: model = item_similarity</pre>"
      ],
      "text/plain": [
       "Recsys training: model = item_similarity"
      ]
     },
     "metadata": {},
     "output_type": "display_data"
    },
    {
     "data": {
      "text/html": [
       "<pre>Preparing data set.</pre>"
      ],
      "text/plain": [
       "Preparing data set."
      ]
     },
     "metadata": {},
     "output_type": "display_data"
    },
    {
     "data": {
      "text/html": [
       "<pre>    Data has 400119 observations with 178770 users and 5783 items.</pre>"
      ],
      "text/plain": [
       "    Data has 400119 observations with 178770 users and 5783 items."
      ]
     },
     "metadata": {},
     "output_type": "display_data"
    },
    {
     "data": {
      "text/html": [
       "<pre>    Data prepared in: 0.379901s</pre>"
      ],
      "text/plain": [
       "    Data prepared in: 0.379901s"
      ]
     },
     "metadata": {},
     "output_type": "display_data"
    },
    {
     "data": {
      "text/html": [
       "<pre>Training model from provided data.</pre>"
      ],
      "text/plain": [
       "Training model from provided data."
      ]
     },
     "metadata": {},
     "output_type": "display_data"
    },
    {
     "data": {
      "text/html": [
       "<pre>Gathering per-item and per-user statistics.</pre>"
      ],
      "text/plain": [
       "Gathering per-item and per-user statistics."
      ]
     },
     "metadata": {},
     "output_type": "display_data"
    },
    {
     "data": {
      "text/html": [
       "<pre>+--------------------------------+------------+</pre>"
      ],
      "text/plain": [
       "+--------------------------------+------------+"
      ]
     },
     "metadata": {},
     "output_type": "display_data"
    },
    {
     "data": {
      "text/html": [
       "<pre>| Elapsed Time (Item Statistics) | % Complete |</pre>"
      ],
      "text/plain": [
       "| Elapsed Time (Item Statistics) | % Complete |"
      ]
     },
     "metadata": {},
     "output_type": "display_data"
    },
    {
     "data": {
      "text/html": [
       "<pre>+--------------------------------+------------+</pre>"
      ],
      "text/plain": [
       "+--------------------------------+------------+"
      ]
     },
     "metadata": {},
     "output_type": "display_data"
    },
    {
     "data": {
      "text/html": [
       "<pre>| 3.618ms                        | 13.25      |</pre>"
      ],
      "text/plain": [
       "| 3.618ms                        | 13.25      |"
      ]
     },
     "metadata": {},
     "output_type": "display_data"
    },
    {
     "data": {
      "text/html": [
       "<pre>| 26.051ms                       | 100        |</pre>"
      ],
      "text/plain": [
       "| 26.051ms                       | 100        |"
      ]
     },
     "metadata": {},
     "output_type": "display_data"
    },
    {
     "data": {
      "text/html": [
       "<pre>+--------------------------------+------------+</pre>"
      ],
      "text/plain": [
       "+--------------------------------+------------+"
      ]
     },
     "metadata": {},
     "output_type": "display_data"
    },
    {
     "data": {
      "text/html": [
       "<pre>Setting up lookup tables.</pre>"
      ],
      "text/plain": [
       "Setting up lookup tables."
      ]
     },
     "metadata": {},
     "output_type": "display_data"
    },
    {
     "data": {
      "text/html": [
       "<pre>Processing data in one pass using dense lookup tables.</pre>"
      ],
      "text/plain": [
       "Processing data in one pass using dense lookup tables."
      ]
     },
     "metadata": {},
     "output_type": "display_data"
    },
    {
     "data": {
      "text/html": [
       "<pre>+-------------------------------------+------------------+-----------------+</pre>"
      ],
      "text/plain": [
       "+-------------------------------------+------------------+-----------------+"
      ]
     },
     "metadata": {},
     "output_type": "display_data"
    },
    {
     "data": {
      "text/html": [
       "<pre>| Elapsed Time (Constructing Lookups) | Total % Complete | Items Processed |</pre>"
      ],
      "text/plain": [
       "| Elapsed Time (Constructing Lookups) | Total % Complete | Items Processed |"
      ]
     },
     "metadata": {},
     "output_type": "display_data"
    },
    {
     "data": {
      "text/html": [
       "<pre>+-------------------------------------+------------------+-----------------+</pre>"
      ],
      "text/plain": [
       "+-------------------------------------+------------------+-----------------+"
      ]
     },
     "metadata": {},
     "output_type": "display_data"
    },
    {
     "data": {
      "text/html": [
       "<pre>| 130.26ms                            | 0                | 0               |</pre>"
      ],
      "text/plain": [
       "| 130.26ms                            | 0                | 0               |"
      ]
     },
     "metadata": {},
     "output_type": "display_data"
    },
    {
     "data": {
      "text/html": [
       "<pre>| 318.111ms                           | 100              | 5783            |</pre>"
      ],
      "text/plain": [
       "| 318.111ms                           | 100              | 5783            |"
      ]
     },
     "metadata": {},
     "output_type": "display_data"
    },
    {
     "data": {
      "text/html": [
       "<pre>+-------------------------------------+------------------+-----------------+</pre>"
      ],
      "text/plain": [
       "+-------------------------------------+------------------+-----------------+"
      ]
     },
     "metadata": {},
     "output_type": "display_data"
    },
    {
     "data": {
      "text/html": [
       "<pre>Finalizing lookup tables.</pre>"
      ],
      "text/plain": [
       "Finalizing lookup tables."
      ]
     },
     "metadata": {},
     "output_type": "display_data"
    },
    {
     "data": {
      "text/html": [
       "<pre>Generating candidate set for working with new users.</pre>"
      ],
      "text/plain": [
       "Generating candidate set for working with new users."
      ]
     },
     "metadata": {},
     "output_type": "display_data"
    },
    {
     "data": {
      "text/html": [
       "<pre>Finished training in 1.37092s</pre>"
      ],
      "text/plain": [
       "Finished training in 1.37092s"
      ]
     },
     "metadata": {},
     "output_type": "display_data"
    }
   ],
   "source": [
    "# item-item recommender\n",
    "item_item_rec = graphlab.recommender.item_similarity_recommender.create(sf_stars,\n",
    "                                                                       user_id = 'user_id',\n",
    "                                                                       item_id = 'business_id',\n",
    "                                                                       target = 'stars')"
   ]
  },
  {
   "cell_type": "code",
   "execution_count": 18,
   "metadata": {},
   "outputs": [
    {
     "data": {
      "text/html": [
       "<div style=\"max-height:1000px;max-width:1500px;overflow:auto;\"><table frame=\"box\" rules=\"cols\">\n",
       "    <tr>\n",
       "        <th style=\"padding-left: 1em; padding-right: 1em; text-align: center\">user_id</th>\n",
       "        <th style=\"padding-left: 1em; padding-right: 1em; text-align: center\">business_id</th>\n",
       "        <th style=\"padding-left: 1em; padding-right: 1em; text-align: center\">score</th>\n",
       "        <th style=\"padding-left: 1em; padding-right: 1em; text-align: center\">rank</th>\n",
       "    </tr>\n",
       "    <tr>\n",
       "        <td style=\"padding-left: 1em; padding-right: 1em; text-align: center; vertical-align: top\">4LxKRRIikhr65GfPDW626w</td>\n",
       "        <td style=\"padding-left: 1em; padding-right: 1em; text-align: center; vertical-align: top\">faPVqws-x-5k2CQKDNtHxw</td>\n",
       "        <td style=\"padding-left: 1em; padding-right: 1em; text-align: center; vertical-align: top\">0.00758885592222</td>\n",
       "        <td style=\"padding-left: 1em; padding-right: 1em; text-align: center; vertical-align: top\">1</td>\n",
       "    </tr>\n",
       "    <tr>\n",
       "        <td style=\"padding-left: 1em; padding-right: 1em; text-align: center; vertical-align: top\">4LxKRRIikhr65GfPDW626w</td>\n",
       "        <td style=\"padding-left: 1em; padding-right: 1em; text-align: center; vertical-align: top\">rcaPajgKOJC2vo_l3xa42A</td>\n",
       "        <td style=\"padding-left: 1em; padding-right: 1em; text-align: center; vertical-align: top\">0.00687155127525</td>\n",
       "        <td style=\"padding-left: 1em; padding-right: 1em; text-align: center; vertical-align: top\">2</td>\n",
       "    </tr>\n",
       "    <tr>\n",
       "        <td style=\"padding-left: 1em; padding-right: 1em; text-align: center; vertical-align: top\">4LxKRRIikhr65GfPDW626w</td>\n",
       "        <td style=\"padding-left: 1em; padding-right: 1em; text-align: center; vertical-align: top\">P7pxQFqr7yBKMMI2J51udw</td>\n",
       "        <td style=\"padding-left: 1em; padding-right: 1em; text-align: center; vertical-align: top\">0.00684600323439</td>\n",
       "        <td style=\"padding-left: 1em; padding-right: 1em; text-align: center; vertical-align: top\">3</td>\n",
       "    </tr>\n",
       "    <tr>\n",
       "        <td style=\"padding-left: 1em; padding-right: 1em; text-align: center; vertical-align: top\">nT8zgjoc-PbdBoQsFEXFLw</td>\n",
       "        <td style=\"padding-left: 1em; padding-right: 1em; text-align: center; vertical-align: top\">D_mVIUu5XyrHz-7U_z_pDg</td>\n",
       "        <td style=\"padding-left: 1em; padding-right: 1em; text-align: center; vertical-align: top\">0.00641026099523</td>\n",
       "        <td style=\"padding-left: 1em; padding-right: 1em; text-align: center; vertical-align: top\">1</td>\n",
       "    </tr>\n",
       "    <tr>\n",
       "        <td style=\"padding-left: 1em; padding-right: 1em; text-align: center; vertical-align: top\">nT8zgjoc-PbdBoQsFEXFLw</td>\n",
       "        <td style=\"padding-left: 1em; padding-right: 1em; text-align: center; vertical-align: top\">duw-3Aj7gAKbQG-isS5UtQ</td>\n",
       "        <td style=\"padding-left: 1em; padding-right: 1em; text-align: center; vertical-align: top\">0.00610061486562</td>\n",
       "        <td style=\"padding-left: 1em; padding-right: 1em; text-align: center; vertical-align: top\">2</td>\n",
       "    </tr>\n",
       "    <tr>\n",
       "        <td style=\"padding-left: 1em; padding-right: 1em; text-align: center; vertical-align: top\">nT8zgjoc-PbdBoQsFEXFLw</td>\n",
       "        <td style=\"padding-left: 1em; padding-right: 1em; text-align: center; vertical-align: top\">7wHLFohwCw8l6WS-feLjeg</td>\n",
       "        <td style=\"padding-left: 1em; padding-right: 1em; text-align: center; vertical-align: top\">0.00600564479828</td>\n",
       "        <td style=\"padding-left: 1em; padding-right: 1em; text-align: center; vertical-align: top\">3</td>\n",
       "    </tr>\n",
       "    <tr>\n",
       "        <td style=\"padding-left: 1em; padding-right: 1em; text-align: center; vertical-align: top\">7RlyCglsIzhBn081inwvcg</td>\n",
       "        <td style=\"padding-left: 1em; padding-right: 1em; text-align: center; vertical-align: top\">H8qpFitIesth86zqR4cwYg</td>\n",
       "        <td style=\"padding-left: 1em; padding-right: 1em; text-align: center; vertical-align: top\">0.0151814222336</td>\n",
       "        <td style=\"padding-left: 1em; padding-right: 1em; text-align: center; vertical-align: top\">1</td>\n",
       "    </tr>\n",
       "    <tr>\n",
       "        <td style=\"padding-left: 1em; padding-right: 1em; text-align: center; vertical-align: top\">7RlyCglsIzhBn081inwvcg</td>\n",
       "        <td style=\"padding-left: 1em; padding-right: 1em; text-align: center; vertical-align: top\">huOCKRwDvNqGX3KSzYawbw</td>\n",
       "        <td style=\"padding-left: 1em; padding-right: 1em; text-align: center; vertical-align: top\">0.011265138785</td>\n",
       "        <td style=\"padding-left: 1em; padding-right: 1em; text-align: center; vertical-align: top\">2</td>\n",
       "    </tr>\n",
       "    <tr>\n",
       "        <td style=\"padding-left: 1em; padding-right: 1em; text-align: center; vertical-align: top\">7RlyCglsIzhBn081inwvcg</td>\n",
       "        <td style=\"padding-left: 1em; padding-right: 1em; text-align: center; vertical-align: top\">rcaPajgKOJC2vo_l3xa42A</td>\n",
       "        <td style=\"padding-left: 1em; padding-right: 1em; text-align: center; vertical-align: top\">0.0107610026995</td>\n",
       "        <td style=\"padding-left: 1em; padding-right: 1em; text-align: center; vertical-align: top\">3</td>\n",
       "    </tr>\n",
       "    <tr>\n",
       "        <td style=\"padding-left: 1em; padding-right: 1em; text-align: center; vertical-align: top\">rOIrilMC7VFwFVBeQNiKMw</td>\n",
       "        <td style=\"padding-left: 1em; padding-right: 1em; text-align: center; vertical-align: top\">RESDUcs7fIiihp38-d6_6g</td>\n",
       "        <td style=\"padding-left: 1em; padding-right: 1em; text-align: center; vertical-align: top\">0.0160613954067</td>\n",
       "        <td style=\"padding-left: 1em; padding-right: 1em; text-align: center; vertical-align: top\">1</td>\n",
       "    </tr>\n",
       "</table>\n",
       "[536310 rows x 4 columns]<br/>Note: Only the head of the SFrame is printed.<br/>You can use print_rows(num_rows=m, num_columns=n) to print more rows and columns.\n",
       "</div>"
      ],
      "text/plain": [
       "Columns:\n",
       "\tuser_id\tstr\n",
       "\tbusiness_id\tstr\n",
       "\tscore\tfloat\n",
       "\trank\tint\n",
       "\n",
       "Rows: 536310\n",
       "\n",
       "Data:\n",
       "+------------------------+------------------------+------------------+------+\n",
       "|        user_id         |      business_id       |      score       | rank |\n",
       "+------------------------+------------------------+------------------+------+\n",
       "| 4LxKRRIikhr65GfPDW626w | faPVqws-x-5k2CQKDNtHxw | 0.00758885592222 |  1   |\n",
       "| 4LxKRRIikhr65GfPDW626w | rcaPajgKOJC2vo_l3xa42A | 0.00687155127525 |  2   |\n",
       "| 4LxKRRIikhr65GfPDW626w | P7pxQFqr7yBKMMI2J51udw | 0.00684600323439 |  3   |\n",
       "| nT8zgjoc-PbdBoQsFEXFLw | D_mVIUu5XyrHz-7U_z_pDg | 0.00641026099523 |  1   |\n",
       "| nT8zgjoc-PbdBoQsFEXFLw | duw-3Aj7gAKbQG-isS5UtQ | 0.00610061486562 |  2   |\n",
       "| nT8zgjoc-PbdBoQsFEXFLw | 7wHLFohwCw8l6WS-feLjeg | 0.00600564479828 |  3   |\n",
       "| 7RlyCglsIzhBn081inwvcg | H8qpFitIesth86zqR4cwYg | 0.0151814222336  |  1   |\n",
       "| 7RlyCglsIzhBn081inwvcg | huOCKRwDvNqGX3KSzYawbw |  0.011265138785  |  2   |\n",
       "| 7RlyCglsIzhBn081inwvcg | rcaPajgKOJC2vo_l3xa42A | 0.0107610026995  |  3   |\n",
       "| rOIrilMC7VFwFVBeQNiKMw | RESDUcs7fIiihp38-d6_6g | 0.0160613954067  |  1   |\n",
       "+------------------------+------------------------+------------------+------+\n",
       "[536310 rows x 4 columns]\n",
       "Note: Only the head of the SFrame is printed.\n",
       "You can use print_rows(num_rows=m, num_columns=n) to print more rows and columns."
      ]
     },
     "execution_count": 18,
     "metadata": {},
     "output_type": "execute_result"
    }
   ],
   "source": [
    "item_item_rec_result = item_item_rec.recommend(k=3, verbose=False)\n",
    "item_item_rec_result"
   ]
  },
  {
   "cell_type": "markdown",
   "metadata": {},
   "source": [
    "### Content-based recommender"
   ]
  },
  {
   "cell_type": "code",
   "execution_count": 19,
   "metadata": {},
   "outputs": [
    {
     "data": {
      "text/html": [
       "<div>\n",
       "<style scoped>\n",
       "    .dataframe tbody tr th:only-of-type {\n",
       "        vertical-align: middle;\n",
       "    }\n",
       "\n",
       "    .dataframe tbody tr th {\n",
       "        vertical-align: top;\n",
       "    }\n",
       "\n",
       "    .dataframe thead th {\n",
       "        text-align: right;\n",
       "    }\n",
       "</style>\n",
       "<table border=\"1\" class=\"dataframe\">\n",
       "  <thead>\n",
       "    <tr style=\"text-align: right;\">\n",
       "      <th></th>\n",
       "      <th>cool</th>\n",
       "      <th>funny</th>\n",
       "      <th>stars</th>\n",
       "      <th>useful</th>\n",
       "      <th>avg_stars</th>\n",
       "    </tr>\n",
       "    <tr>\n",
       "      <th>business_id</th>\n",
       "      <th></th>\n",
       "      <th></th>\n",
       "      <th></th>\n",
       "      <th></th>\n",
       "      <th></th>\n",
       "    </tr>\n",
       "  </thead>\n",
       "  <tbody>\n",
       "    <tr>\n",
       "      <th>--9e1ONYQuAa-CB_Rrw7Tw</th>\n",
       "      <td>0.729560</td>\n",
       "      <td>0.484277</td>\n",
       "      <td>4.091195</td>\n",
       "      <td>0.990566</td>\n",
       "      <td>4.0</td>\n",
       "    </tr>\n",
       "    <tr>\n",
       "      <th>-0BxAGlIk5DJAGVkpqBXxg</th>\n",
       "      <td>0.444444</td>\n",
       "      <td>0.666667</td>\n",
       "      <td>2.444444</td>\n",
       "      <td>0.777778</td>\n",
       "      <td>3.0</td>\n",
       "    </tr>\n",
       "    <tr>\n",
       "      <th>-1vfRrlnNnNJ5boOVghMPA</th>\n",
       "      <td>0.000000</td>\n",
       "      <td>0.000000</td>\n",
       "      <td>2.500000</td>\n",
       "      <td>0.500000</td>\n",
       "      <td>3.0</td>\n",
       "    </tr>\n",
       "    <tr>\n",
       "      <th>-3H_6UZGWrfl8XQsm1fBmw</th>\n",
       "      <td>1.200000</td>\n",
       "      <td>0.400000</td>\n",
       "      <td>2.000000</td>\n",
       "      <td>1.000000</td>\n",
       "      <td>2.0</td>\n",
       "    </tr>\n",
       "    <tr>\n",
       "      <th>-3zffZUHoY8bQjGfPSoBKQ</th>\n",
       "      <td>0.491935</td>\n",
       "      <td>0.395161</td>\n",
       "      <td>3.951613</td>\n",
       "      <td>0.983871</td>\n",
       "      <td>4.0</td>\n",
       "    </tr>\n",
       "  </tbody>\n",
       "</table>\n",
       "</div>"
      ],
      "text/plain": [
       "                            cool     funny     stars    useful  avg_stars\n",
       "business_id                                                              \n",
       "--9e1ONYQuAa-CB_Rrw7Tw  0.729560  0.484277  4.091195  0.990566        4.0\n",
       "-0BxAGlIk5DJAGVkpqBXxg  0.444444  0.666667  2.444444  0.777778        3.0\n",
       "-1vfRrlnNnNJ5boOVghMPA  0.000000  0.000000  2.500000  0.500000        3.0\n",
       "-3H_6UZGWrfl8XQsm1fBmw  1.200000  0.400000  2.000000  1.000000        2.0\n",
       "-3zffZUHoY8bQjGfPSoBKQ  0.491935  0.395161  3.951613  0.983871        4.0"
      ]
     },
     "execution_count": 19,
     "metadata": {},
     "output_type": "execute_result"
    }
   ],
   "source": [
    "# group by business_id, then get the mean value for numerical features\n",
    "df_average = df.groupby(['business_id']).mean()\n",
    "df_average.head()"
   ]
  },
  {
   "cell_type": "code",
   "execution_count": 20,
   "metadata": {},
   "outputs": [
    {
     "data": {
      "text/plain": [
       "business_id\n",
       "--9e1ONYQuAa-CB_Rrw7Tw     [['Steakhouses', 'Cajun/Creole', 'Restaurants']]\n",
       "-0BxAGlIk5DJAGVkpqBXxg                           [['Food', 'Coffee & Tea']]\n",
       "-1vfRrlnNnNJ5boOVghMPA            [['Restaurants', 'Korean', 'Sushi Bars']]\n",
       "-3H_6UZGWrfl8XQsm1fBmw               [['Donuts', 'Food', 'Specialty Food']]\n",
       "-3zffZUHoY8bQjGfPSoBKQ    [['Seafood', 'Bars', 'Nightlife', 'American (N...\n",
       "Name: categories, dtype: object"
      ]
     },
     "execution_count": 20,
     "metadata": {},
     "output_type": "execute_result"
    }
   ],
   "source": [
    "# group by business_id, extract categorical data\n",
    "categories_series = df.groupby(['business_id'])['categories'].apply(np.unique)\n",
    "categories_series.head()"
   ]
  },
  {
   "cell_type": "code",
   "execution_count": 21,
   "metadata": {},
   "outputs": [
    {
     "data": {
      "text/plain": [
       "business_id\n",
       "--9e1ONYQuAa-CB_Rrw7Tw         'Steakhouses', 'Cajun/Creole', 'Restaurants'\n",
       "-0BxAGlIk5DJAGVkpqBXxg                               'Food', 'Coffee & Tea'\n",
       "-1vfRrlnNnNJ5boOVghMPA                'Restaurants', 'Korean', 'Sushi Bars'\n",
       "-3H_6UZGWrfl8XQsm1fBmw                   'Donuts', 'Food', 'Specialty Food'\n",
       "-3zffZUHoY8bQjGfPSoBKQ    'Seafood', 'Bars', 'Nightlife', 'American (New...\n",
       "Name: categories, dtype: object"
      ]
     },
     "execution_count": 21,
     "metadata": {},
     "output_type": "execute_result"
    }
   ],
   "source": [
    "# remove extract '[]'\n",
    "categories_series = categories_series.str.join('').apply(lambda x: x[1:-1])\n",
    "categories_series.head()"
   ]
  },
  {
   "cell_type": "code",
   "execution_count": 22,
   "metadata": {},
   "outputs": [],
   "source": [
    "from sklearn.feature_extraction.text import CountVectorizer\n",
    "\n",
    "# create a category matrix, index is 'business_id'\n",
    "vectorizer = CountVectorizer()\n",
    "categories_mat = vectorizer.fit_transform(categories_series).toarray()\n",
    "categories = vectorizer.get_feature_names()\n",
    "df_categories = pd.DataFrame(categories_mat, columns=categories, index=categories_series.index)"
   ]
  },
  {
   "cell_type": "code",
   "execution_count": 23,
   "metadata": {},
   "outputs": [
    {
     "name": "stdout",
     "output_type": "stream",
     "text": [
      "0.972434437003\n"
     ]
    }
   ],
   "source": [
    "from sklearn.decomposition import TruncatedSVD\n",
    "# use SVD to reduce dimension\n",
    "svd = TruncatedSVD(n_components=150, random_state=42)\n",
    "svd.fit(categories_mat)\n",
    "categories_svd = svd.transform(categories_mat)\n",
    "df_categories_svd = pd.DataFrame(categories_svd, index=categories_series.index)\n",
    "print svd.explained_variance_ratio_.sum()"
   ]
  },
  {
   "cell_type": "code",
   "execution_count": 24,
   "metadata": {},
   "outputs": [
    {
     "data": {
      "text/html": [
       "<div>\n",
       "<style scoped>\n",
       "    .dataframe tbody tr th:only-of-type {\n",
       "        vertical-align: middle;\n",
       "    }\n",
       "\n",
       "    .dataframe tbody tr th {\n",
       "        vertical-align: top;\n",
       "    }\n",
       "\n",
       "    .dataframe thead th {\n",
       "        text-align: right;\n",
       "    }\n",
       "</style>\n",
       "<table border=\"1\" class=\"dataframe\">\n",
       "  <thead>\n",
       "    <tr style=\"text-align: right;\">\n",
       "      <th></th>\n",
       "      <th>0</th>\n",
       "      <th>1</th>\n",
       "      <th>2</th>\n",
       "      <th>3</th>\n",
       "      <th>4</th>\n",
       "      <th>5</th>\n",
       "      <th>6</th>\n",
       "      <th>7</th>\n",
       "      <th>8</th>\n",
       "      <th>9</th>\n",
       "      <th>...</th>\n",
       "      <th>140</th>\n",
       "      <th>141</th>\n",
       "      <th>142</th>\n",
       "      <th>143</th>\n",
       "      <th>144</th>\n",
       "      <th>145</th>\n",
       "      <th>146</th>\n",
       "      <th>147</th>\n",
       "      <th>148</th>\n",
       "      <th>149</th>\n",
       "    </tr>\n",
       "    <tr>\n",
       "      <th>business_id</th>\n",
       "      <th></th>\n",
       "      <th></th>\n",
       "      <th></th>\n",
       "      <th></th>\n",
       "      <th></th>\n",
       "      <th></th>\n",
       "      <th></th>\n",
       "      <th></th>\n",
       "      <th></th>\n",
       "      <th></th>\n",
       "      <th></th>\n",
       "      <th></th>\n",
       "      <th></th>\n",
       "      <th></th>\n",
       "      <th></th>\n",
       "      <th></th>\n",
       "      <th></th>\n",
       "      <th></th>\n",
       "      <th></th>\n",
       "      <th></th>\n",
       "      <th></th>\n",
       "    </tr>\n",
       "  </thead>\n",
       "  <tbody>\n",
       "    <tr>\n",
       "      <th>--9e1ONYQuAa-CB_Rrw7Tw</th>\n",
       "      <td>0.603348</td>\n",
       "      <td>0.425856</td>\n",
       "      <td>-0.538032</td>\n",
       "      <td>-0.209206</td>\n",
       "      <td>0.106339</td>\n",
       "      <td>0.011254</td>\n",
       "      <td>0.148972</td>\n",
       "      <td>0.045224</td>\n",
       "      <td>0.161429</td>\n",
       "      <td>0.056475</td>\n",
       "      <td>...</td>\n",
       "      <td>0.008894</td>\n",
       "      <td>-0.024758</td>\n",
       "      <td>-0.037117</td>\n",
       "      <td>0.020010</td>\n",
       "      <td>0.024346</td>\n",
       "      <td>-0.020847</td>\n",
       "      <td>0.011818</td>\n",
       "      <td>-0.020206</td>\n",
       "      <td>0.007295</td>\n",
       "      <td>-0.004539</td>\n",
       "    </tr>\n",
       "    <tr>\n",
       "      <th>-0BxAGlIk5DJAGVkpqBXxg</th>\n",
       "      <td>0.783594</td>\n",
       "      <td>-0.743647</td>\n",
       "      <td>0.315552</td>\n",
       "      <td>-0.033778</td>\n",
       "      <td>-0.579582</td>\n",
       "      <td>0.698185</td>\n",
       "      <td>0.620838</td>\n",
       "      <td>-0.445256</td>\n",
       "      <td>-0.245481</td>\n",
       "      <td>0.101753</td>\n",
       "      <td>...</td>\n",
       "      <td>-0.003335</td>\n",
       "      <td>0.002208</td>\n",
       "      <td>0.010595</td>\n",
       "      <td>-0.010251</td>\n",
       "      <td>0.013596</td>\n",
       "      <td>-0.004755</td>\n",
       "      <td>0.005964</td>\n",
       "      <td>-0.003132</td>\n",
       "      <td>0.002331</td>\n",
       "      <td>-0.005015</td>\n",
       "    </tr>\n",
       "    <tr>\n",
       "      <th>-1vfRrlnNnNJ5boOVghMPA</th>\n",
       "      <td>0.853602</td>\n",
       "      <td>0.858684</td>\n",
       "      <td>0.104502</td>\n",
       "      <td>-0.629314</td>\n",
       "      <td>0.152521</td>\n",
       "      <td>-0.046767</td>\n",
       "      <td>0.146069</td>\n",
       "      <td>0.067024</td>\n",
       "      <td>0.084669</td>\n",
       "      <td>0.101045</td>\n",
       "      <td>...</td>\n",
       "      <td>-0.005016</td>\n",
       "      <td>0.001723</td>\n",
       "      <td>0.024992</td>\n",
       "      <td>0.021791</td>\n",
       "      <td>-0.020951</td>\n",
       "      <td>0.018341</td>\n",
       "      <td>-0.008472</td>\n",
       "      <td>-0.013514</td>\n",
       "      <td>-0.014164</td>\n",
       "      <td>-0.015383</td>\n",
       "    </tr>\n",
       "    <tr>\n",
       "      <th>-3H_6UZGWrfl8XQsm1fBmw</th>\n",
       "      <td>1.402388</td>\n",
       "      <td>-1.369770</td>\n",
       "      <td>0.418782</td>\n",
       "      <td>0.094606</td>\n",
       "      <td>-0.233420</td>\n",
       "      <td>-0.174556</td>\n",
       "      <td>-0.367345</td>\n",
       "      <td>-0.207048</td>\n",
       "      <td>0.338547</td>\n",
       "      <td>0.080834</td>\n",
       "      <td>...</td>\n",
       "      <td>-0.041594</td>\n",
       "      <td>0.003769</td>\n",
       "      <td>0.034973</td>\n",
       "      <td>0.042904</td>\n",
       "      <td>0.019381</td>\n",
       "      <td>-0.005644</td>\n",
       "      <td>0.038183</td>\n",
       "      <td>-0.005920</td>\n",
       "      <td>-0.063449</td>\n",
       "      <td>0.010275</td>\n",
       "    </tr>\n",
       "    <tr>\n",
       "      <th>-3zffZUHoY8bQjGfPSoBKQ</th>\n",
       "      <td>1.235387</td>\n",
       "      <td>1.500920</td>\n",
       "      <td>0.467139</td>\n",
       "      <td>0.307914</td>\n",
       "      <td>-0.048146</td>\n",
       "      <td>-0.120998</td>\n",
       "      <td>-0.026905</td>\n",
       "      <td>0.046847</td>\n",
       "      <td>0.013336</td>\n",
       "      <td>0.245074</td>\n",
       "      <td>...</td>\n",
       "      <td>-0.001359</td>\n",
       "      <td>0.003175</td>\n",
       "      <td>0.000681</td>\n",
       "      <td>-0.024869</td>\n",
       "      <td>-0.002302</td>\n",
       "      <td>-0.027381</td>\n",
       "      <td>-0.010207</td>\n",
       "      <td>0.004326</td>\n",
       "      <td>-0.015852</td>\n",
       "      <td>0.004664</td>\n",
       "    </tr>\n",
       "  </tbody>\n",
       "</table>\n",
       "<p>5 rows × 150 columns</p>\n",
       "</div>"
      ],
      "text/plain": [
       "                             0         1         2         3         4    \\\n",
       "business_id                                                                \n",
       "--9e1ONYQuAa-CB_Rrw7Tw  0.603348  0.425856 -0.538032 -0.209206  0.106339   \n",
       "-0BxAGlIk5DJAGVkpqBXxg  0.783594 -0.743647  0.315552 -0.033778 -0.579582   \n",
       "-1vfRrlnNnNJ5boOVghMPA  0.853602  0.858684  0.104502 -0.629314  0.152521   \n",
       "-3H_6UZGWrfl8XQsm1fBmw  1.402388 -1.369770  0.418782  0.094606 -0.233420   \n",
       "-3zffZUHoY8bQjGfPSoBKQ  1.235387  1.500920  0.467139  0.307914 -0.048146   \n",
       "\n",
       "                             5         6         7         8         9    \\\n",
       "business_id                                                                \n",
       "--9e1ONYQuAa-CB_Rrw7Tw  0.011254  0.148972  0.045224  0.161429  0.056475   \n",
       "-0BxAGlIk5DJAGVkpqBXxg  0.698185  0.620838 -0.445256 -0.245481  0.101753   \n",
       "-1vfRrlnNnNJ5boOVghMPA -0.046767  0.146069  0.067024  0.084669  0.101045   \n",
       "-3H_6UZGWrfl8XQsm1fBmw -0.174556 -0.367345 -0.207048  0.338547  0.080834   \n",
       "-3zffZUHoY8bQjGfPSoBKQ -0.120998 -0.026905  0.046847  0.013336  0.245074   \n",
       "\n",
       "                          ...          140       141       142       143  \\\n",
       "business_id               ...                                              \n",
       "--9e1ONYQuAa-CB_Rrw7Tw    ...     0.008894 -0.024758 -0.037117  0.020010   \n",
       "-0BxAGlIk5DJAGVkpqBXxg    ...    -0.003335  0.002208  0.010595 -0.010251   \n",
       "-1vfRrlnNnNJ5boOVghMPA    ...    -0.005016  0.001723  0.024992  0.021791   \n",
       "-3H_6UZGWrfl8XQsm1fBmw    ...    -0.041594  0.003769  0.034973  0.042904   \n",
       "-3zffZUHoY8bQjGfPSoBKQ    ...    -0.001359  0.003175  0.000681 -0.024869   \n",
       "\n",
       "                             144       145       146       147       148  \\\n",
       "business_id                                                                \n",
       "--9e1ONYQuAa-CB_Rrw7Tw  0.024346 -0.020847  0.011818 -0.020206  0.007295   \n",
       "-0BxAGlIk5DJAGVkpqBXxg  0.013596 -0.004755  0.005964 -0.003132  0.002331   \n",
       "-1vfRrlnNnNJ5boOVghMPA -0.020951  0.018341 -0.008472 -0.013514 -0.014164   \n",
       "-3H_6UZGWrfl8XQsm1fBmw  0.019381 -0.005644  0.038183 -0.005920 -0.063449   \n",
       "-3zffZUHoY8bQjGfPSoBKQ -0.002302 -0.027381 -0.010207  0.004326 -0.015852   \n",
       "\n",
       "                             149  \n",
       "business_id                       \n",
       "--9e1ONYQuAa-CB_Rrw7Tw -0.004539  \n",
       "-0BxAGlIk5DJAGVkpqBXxg -0.005015  \n",
       "-1vfRrlnNnNJ5boOVghMPA -0.015383  \n",
       "-3H_6UZGWrfl8XQsm1fBmw  0.010275  \n",
       "-3zffZUHoY8bQjGfPSoBKQ  0.004664  \n",
       "\n",
       "[5 rows x 150 columns]"
      ]
     },
     "execution_count": 24,
     "metadata": {},
     "output_type": "execute_result"
    }
   ],
   "source": [
    "df_categories_svd.head()"
   ]
  },
  {
   "cell_type": "code",
   "execution_count": 25,
   "metadata": {},
   "outputs": [
    {
     "name": "stdout",
     "output_type": "stream",
     "text": [
      "df_average:  (5783, 5)\n",
      "df_categories:  (5783, 534)\n",
      "df_categories_svd:  (5783, 150)\n"
     ]
    }
   ],
   "source": [
    "print 'df_average: ', df_average.shape\n",
    "print 'df_categories: ', df_categories.shape\n",
    "print 'df_categories_svd: ', df_categories_svd.shape"
   ]
  },
  {
   "cell_type": "code",
   "execution_count": 26,
   "metadata": {},
   "outputs": [
    {
     "data": {
      "text/html": [
       "<div>\n",
       "<style scoped>\n",
       "    .dataframe tbody tr th:only-of-type {\n",
       "        vertical-align: middle;\n",
       "    }\n",
       "\n",
       "    .dataframe tbody tr th {\n",
       "        vertical-align: top;\n",
       "    }\n",
       "\n",
       "    .dataframe thead th {\n",
       "        text-align: right;\n",
       "    }\n",
       "</style>\n",
       "<table border=\"1\" class=\"dataframe\">\n",
       "  <thead>\n",
       "    <tr style=\"text-align: right;\">\n",
       "      <th></th>\n",
       "      <th>cool</th>\n",
       "      <th>funny</th>\n",
       "      <th>stars</th>\n",
       "      <th>useful</th>\n",
       "      <th>avg_stars</th>\n",
       "      <th>0</th>\n",
       "      <th>1</th>\n",
       "      <th>2</th>\n",
       "      <th>3</th>\n",
       "      <th>4</th>\n",
       "      <th>...</th>\n",
       "      <th>140</th>\n",
       "      <th>141</th>\n",
       "      <th>142</th>\n",
       "      <th>143</th>\n",
       "      <th>144</th>\n",
       "      <th>145</th>\n",
       "      <th>146</th>\n",
       "      <th>147</th>\n",
       "      <th>148</th>\n",
       "      <th>149</th>\n",
       "    </tr>\n",
       "    <tr>\n",
       "      <th>business_id</th>\n",
       "      <th></th>\n",
       "      <th></th>\n",
       "      <th></th>\n",
       "      <th></th>\n",
       "      <th></th>\n",
       "      <th></th>\n",
       "      <th></th>\n",
       "      <th></th>\n",
       "      <th></th>\n",
       "      <th></th>\n",
       "      <th></th>\n",
       "      <th></th>\n",
       "      <th></th>\n",
       "      <th></th>\n",
       "      <th></th>\n",
       "      <th></th>\n",
       "      <th></th>\n",
       "      <th></th>\n",
       "      <th></th>\n",
       "      <th></th>\n",
       "      <th></th>\n",
       "    </tr>\n",
       "  </thead>\n",
       "  <tbody>\n",
       "    <tr>\n",
       "      <th>--9e1ONYQuAa-CB_Rrw7Tw</th>\n",
       "      <td>0.729560</td>\n",
       "      <td>0.484277</td>\n",
       "      <td>4.091195</td>\n",
       "      <td>0.990566</td>\n",
       "      <td>4.0</td>\n",
       "      <td>0.603348</td>\n",
       "      <td>0.425856</td>\n",
       "      <td>-0.538032</td>\n",
       "      <td>-0.209206</td>\n",
       "      <td>0.106339</td>\n",
       "      <td>...</td>\n",
       "      <td>0.008894</td>\n",
       "      <td>-0.024758</td>\n",
       "      <td>-0.037117</td>\n",
       "      <td>0.020010</td>\n",
       "      <td>0.024346</td>\n",
       "      <td>-0.020847</td>\n",
       "      <td>0.011818</td>\n",
       "      <td>-0.020206</td>\n",
       "      <td>0.007295</td>\n",
       "      <td>-0.004539</td>\n",
       "    </tr>\n",
       "    <tr>\n",
       "      <th>-0BxAGlIk5DJAGVkpqBXxg</th>\n",
       "      <td>0.444444</td>\n",
       "      <td>0.666667</td>\n",
       "      <td>2.444444</td>\n",
       "      <td>0.777778</td>\n",
       "      <td>3.0</td>\n",
       "      <td>0.783594</td>\n",
       "      <td>-0.743647</td>\n",
       "      <td>0.315552</td>\n",
       "      <td>-0.033778</td>\n",
       "      <td>-0.579582</td>\n",
       "      <td>...</td>\n",
       "      <td>-0.003335</td>\n",
       "      <td>0.002208</td>\n",
       "      <td>0.010595</td>\n",
       "      <td>-0.010251</td>\n",
       "      <td>0.013596</td>\n",
       "      <td>-0.004755</td>\n",
       "      <td>0.005964</td>\n",
       "      <td>-0.003132</td>\n",
       "      <td>0.002331</td>\n",
       "      <td>-0.005015</td>\n",
       "    </tr>\n",
       "    <tr>\n",
       "      <th>-1vfRrlnNnNJ5boOVghMPA</th>\n",
       "      <td>0.000000</td>\n",
       "      <td>0.000000</td>\n",
       "      <td>2.500000</td>\n",
       "      <td>0.500000</td>\n",
       "      <td>3.0</td>\n",
       "      <td>0.853602</td>\n",
       "      <td>0.858684</td>\n",
       "      <td>0.104502</td>\n",
       "      <td>-0.629314</td>\n",
       "      <td>0.152521</td>\n",
       "      <td>...</td>\n",
       "      <td>-0.005016</td>\n",
       "      <td>0.001723</td>\n",
       "      <td>0.024992</td>\n",
       "      <td>0.021791</td>\n",
       "      <td>-0.020951</td>\n",
       "      <td>0.018341</td>\n",
       "      <td>-0.008472</td>\n",
       "      <td>-0.013514</td>\n",
       "      <td>-0.014164</td>\n",
       "      <td>-0.015383</td>\n",
       "    </tr>\n",
       "    <tr>\n",
       "      <th>-3H_6UZGWrfl8XQsm1fBmw</th>\n",
       "      <td>1.200000</td>\n",
       "      <td>0.400000</td>\n",
       "      <td>2.000000</td>\n",
       "      <td>1.000000</td>\n",
       "      <td>2.0</td>\n",
       "      <td>1.402388</td>\n",
       "      <td>-1.369770</td>\n",
       "      <td>0.418782</td>\n",
       "      <td>0.094606</td>\n",
       "      <td>-0.233420</td>\n",
       "      <td>...</td>\n",
       "      <td>-0.041594</td>\n",
       "      <td>0.003769</td>\n",
       "      <td>0.034973</td>\n",
       "      <td>0.042904</td>\n",
       "      <td>0.019381</td>\n",
       "      <td>-0.005644</td>\n",
       "      <td>0.038183</td>\n",
       "      <td>-0.005920</td>\n",
       "      <td>-0.063449</td>\n",
       "      <td>0.010275</td>\n",
       "    </tr>\n",
       "    <tr>\n",
       "      <th>-3zffZUHoY8bQjGfPSoBKQ</th>\n",
       "      <td>0.491935</td>\n",
       "      <td>0.395161</td>\n",
       "      <td>3.951613</td>\n",
       "      <td>0.983871</td>\n",
       "      <td>4.0</td>\n",
       "      <td>1.235387</td>\n",
       "      <td>1.500920</td>\n",
       "      <td>0.467139</td>\n",
       "      <td>0.307914</td>\n",
       "      <td>-0.048146</td>\n",
       "      <td>...</td>\n",
       "      <td>-0.001359</td>\n",
       "      <td>0.003175</td>\n",
       "      <td>0.000681</td>\n",
       "      <td>-0.024869</td>\n",
       "      <td>-0.002302</td>\n",
       "      <td>-0.027381</td>\n",
       "      <td>-0.010207</td>\n",
       "      <td>0.004326</td>\n",
       "      <td>-0.015852</td>\n",
       "      <td>0.004664</td>\n",
       "    </tr>\n",
       "  </tbody>\n",
       "</table>\n",
       "<p>5 rows × 155 columns</p>\n",
       "</div>"
      ],
      "text/plain": [
       "                            cool     funny     stars    useful  avg_stars  \\\n",
       "business_id                                                                 \n",
       "--9e1ONYQuAa-CB_Rrw7Tw  0.729560  0.484277  4.091195  0.990566        4.0   \n",
       "-0BxAGlIk5DJAGVkpqBXxg  0.444444  0.666667  2.444444  0.777778        3.0   \n",
       "-1vfRrlnNnNJ5boOVghMPA  0.000000  0.000000  2.500000  0.500000        3.0   \n",
       "-3H_6UZGWrfl8XQsm1fBmw  1.200000  0.400000  2.000000  1.000000        2.0   \n",
       "-3zffZUHoY8bQjGfPSoBKQ  0.491935  0.395161  3.951613  0.983871        4.0   \n",
       "\n",
       "                               0         1         2         3         4  \\\n",
       "business_id                                                                \n",
       "--9e1ONYQuAa-CB_Rrw7Tw  0.603348  0.425856 -0.538032 -0.209206  0.106339   \n",
       "-0BxAGlIk5DJAGVkpqBXxg  0.783594 -0.743647  0.315552 -0.033778 -0.579582   \n",
       "-1vfRrlnNnNJ5boOVghMPA  0.853602  0.858684  0.104502 -0.629314  0.152521   \n",
       "-3H_6UZGWrfl8XQsm1fBmw  1.402388 -1.369770  0.418782  0.094606 -0.233420   \n",
       "-3zffZUHoY8bQjGfPSoBKQ  1.235387  1.500920  0.467139  0.307914 -0.048146   \n",
       "\n",
       "                          ...          140       141       142       143  \\\n",
       "business_id               ...                                              \n",
       "--9e1ONYQuAa-CB_Rrw7Tw    ...     0.008894 -0.024758 -0.037117  0.020010   \n",
       "-0BxAGlIk5DJAGVkpqBXxg    ...    -0.003335  0.002208  0.010595 -0.010251   \n",
       "-1vfRrlnNnNJ5boOVghMPA    ...    -0.005016  0.001723  0.024992  0.021791   \n",
       "-3H_6UZGWrfl8XQsm1fBmw    ...    -0.041594  0.003769  0.034973  0.042904   \n",
       "-3zffZUHoY8bQjGfPSoBKQ    ...    -0.001359  0.003175  0.000681 -0.024869   \n",
       "\n",
       "                             144       145       146       147       148  \\\n",
       "business_id                                                                \n",
       "--9e1ONYQuAa-CB_Rrw7Tw  0.024346 -0.020847  0.011818 -0.020206  0.007295   \n",
       "-0BxAGlIk5DJAGVkpqBXxg  0.013596 -0.004755  0.005964 -0.003132  0.002331   \n",
       "-1vfRrlnNnNJ5boOVghMPA -0.020951  0.018341 -0.008472 -0.013514 -0.014164   \n",
       "-3H_6UZGWrfl8XQsm1fBmw  0.019381 -0.005644  0.038183 -0.005920 -0.063449   \n",
       "-3zffZUHoY8bQjGfPSoBKQ -0.002302 -0.027381 -0.010207  0.004326 -0.015852   \n",
       "\n",
       "                             149  \n",
       "business_id                       \n",
       "--9e1ONYQuAa-CB_Rrw7Tw -0.004539  \n",
       "-0BxAGlIk5DJAGVkpqBXxg -0.005015  \n",
       "-1vfRrlnNnNJ5boOVghMPA -0.015383  \n",
       "-3H_6UZGWrfl8XQsm1fBmw  0.010275  \n",
       "-3zffZUHoY8bQjGfPSoBKQ  0.004664  \n",
       "\n",
       "[5 rows x 155 columns]"
      ]
     },
     "execution_count": 26,
     "metadata": {},
     "output_type": "execute_result"
    }
   ],
   "source": [
    "df_business = df_average.join(df_categories_svd)\n",
    "df_business.head()"
   ]
  },
  {
   "cell_type": "code",
   "execution_count": 27,
   "metadata": {},
   "outputs": [],
   "source": [
    "item_data = graphlab.SFrame(df_business.reset_index())"
   ]
  },
  {
   "cell_type": "code",
   "execution_count": 28,
   "metadata": {},
   "outputs": [
    {
     "name": "stdout",
     "output_type": "stream",
     "text": [
      "WARNING: The ItemContentRecommender model is still in beta.\n",
      "WARNING: This feature transformer is still in beta, and some interpretation rules may change in the future.\n",
      "('Applying transform:\\n', Class             : AutoVectorizer\n",
      "\n",
      "Model Fields\n",
      "------------\n",
      "Features          : ['cool', 'funny', 'stars', 'useful', 'avg_stars', '0', '1', '2', '3', '4', '5', '6', '7', '8', '9', '10', '11', '12', '13', '14', '15', '16', '17', '18', '19', '20', '21', '22', '23', '24', '25', '26', '27', '28', '29', '30', '31', '32', '33', '34', '35', '36', '37', '38', '39', '40', '41', '42', '43', '44', '45', '46', '47', '48', '49', '50', '51', '52', '53', '54', '55', '56', '57', '58', '59', '60', '61', '62', '63', '64', '65', '66', '67', '68', '69', '70', '71', '72', '73', '74', '75', '76', '77', '78', '79', '80', '81', '82', '83', '84', '85', '86', '87', '88', '89', '90', '91', '92', '93', '94', '95', '96', '97', '98', '99', '100', '101', '102', '103', '104', '105', '106', '107', '108', '109', '110', '111', '112', '113', '114', '115', '116', '117', '118', '119', '120', '121', '122', '123', '124', '125', '126', '127', '128', '129', '130', '131', '132', '133', '134', '135', '136', '137', '138', '139', '140', '141', '142', '143', '144', '145', '146', '147', '148', '149']\n",
      "Excluded Features : ['business_id']\n",
      "\n",
      "Column     Type   Interpretation  Transforms  Output Type\n",
      "---------  -----  --------------  ----------  -----------\n",
      "cool       float  numerical       None        float      \n",
      "funny      float  numerical       None        float      \n",
      "stars      float  numerical       None        float      \n",
      "useful     float  numerical       None        float      \n",
      "avg_stars  float  numerical       None        float      \n",
      "0          float  numerical       None        float      \n",
      "1          float  numerical       None        float      \n",
      "2          float  numerical       None        float      \n",
      "3          float  numerical       None        float      \n",
      "4          float  numerical       None        float      \n",
      "5          float  numerical       None        float      \n",
      "6          float  numerical       None        float      \n",
      "7          float  numerical       None        float      \n",
      "8          float  numerical       None        float      \n",
      "9          float  numerical       None        float      \n",
      "10         float  numerical       None        float      \n",
      "11         float  numerical       None        float      \n",
      "12         float  numerical       None        float      \n",
      "13         float  numerical       None        float      \n",
      "14         float  numerical       None        float      \n",
      "15         float  numerical       None        float      \n",
      "16         float  numerical       None        float      \n",
      "17         float  numerical       None        float      \n",
      "18         float  numerical       None        float      \n",
      "19         float  numerical       None        float      \n",
      "20         float  numerical       None        float      \n",
      "21         float  numerical       None        float      \n",
      "22         float  numerical       None        float      \n",
      "23         float  numerical       None        float      \n",
      "24         float  numerical       None        float      \n",
      "25         float  numerical       None        float      \n",
      "26         float  numerical       None        float      \n",
      "27         float  numerical       None        float      \n",
      "28         float  numerical       None        float      \n",
      "29         float  numerical       None        float      \n",
      "30         float  numerical       None        float      \n",
      "31         float  numerical       None        float      \n",
      "32         float  numerical       None        float      \n",
      "33         float  numerical       None        float      \n",
      "34         float  numerical       None        float      \n",
      "35         float  numerical       None        float      \n",
      "36         float  numerical       None        float      \n",
      "37         float  numerical       None        float      \n",
      "38         float  numerical       None        float      \n",
      "39         float  numerical       None        float      \n",
      "40         float  numerical       None        float      \n",
      "41         float  numerical       None        float      \n",
      "42         float  numerical       None        float      \n",
      "43         float  numerical       None        float      \n",
      "44         float  numerical       None        float      \n",
      "45         float  numerical       None        float      \n",
      "46         float  numerical       None        float      \n",
      "47         float  numerical       None        float      \n",
      "48         float  numerical       None        float      \n",
      "49         float  numerical       None        float      \n",
      "50         float  numerical       None        float      \n",
      "51         float  numerical       None        float      \n",
      "52         float  numerical       None        float      \n",
      "53         float  numerical       None        float      \n",
      "54         float  numerical       None        float      \n",
      "55         float  numerical       None        float      \n",
      "56         float  numerical       None        float      \n",
      "57         float  numerical       None        float      \n",
      "58         float  numerical       None        float      \n",
      "59         float  numerical       None        float      \n",
      "60         float  numerical       None        float      \n",
      "61         float  numerical       None        float      \n",
      "62         float  numerical       None        float      \n",
      "63         float  numerical       None        float      \n",
      "64         float  numerical       None        float      \n",
      "65         float  numerical       None        float      \n",
      "66         float  numerical       None        float      \n",
      "67         float  numerical       None        float      \n",
      "68         float  numerical       None        float      \n",
      "69         float  numerical       None        float      \n",
      "70         float  numerical       None        float      \n",
      "71         float  numerical       None        float      \n",
      "72         float  numerical       None        float      \n",
      "73         float  numerical       None        float      \n",
      "74         float  numerical       None        float      \n",
      "75         float  numerical       None        float      \n",
      "76         float  numerical       None        float      \n",
      "77         float  numerical       None        float      \n",
      "78         float  numerical       None        float      \n",
      "79         float  numerical       None        float      \n",
      "80         float  numerical       None        float      \n",
      "81         float  numerical       None        float      \n",
      "82         float  numerical       None        float      \n",
      "83         float  numerical       None        float      \n",
      "84         float  numerical       None        float      \n",
      "85         float  numerical       None        float      \n",
      "86         float  numerical       None        float      \n",
      "87         float  numerical       None        float      \n",
      "88         float  numerical       None        float      \n",
      "89         float  numerical       None        float      \n",
      "90         float  numerical       None        float      \n",
      "91         float  numerical       None        float      \n",
      "92         float  numerical       None        float      \n",
      "93         float  numerical       None        float      \n",
      "94         float  numerical       None        float      \n",
      "95         float  numerical       None        float      \n",
      "96         float  numerical       None        float      \n",
      "97         float  numerical       None        float      \n",
      "98         float  numerical       None        float      \n",
      "99         float  numerical       None        float      \n",
      "100        float  numerical       None        float      \n",
      "101        float  numerical       None        float      \n",
      "102        float  numerical       None        float      \n",
      "103        float  numerical       None        float      \n",
      "104        float  numerical       None        float      \n",
      "105        float  numerical       None        float      \n",
      "106        float  numerical       None        float      \n",
      "107        float  numerical       None        float      \n",
      "108        float  numerical       None        float      \n",
      "109        float  numerical       None        float      \n",
      "110        float  numerical       None        float      \n",
      "111        float  numerical       None        float      \n",
      "112        float  numerical       None        float      \n",
      "113        float  numerical       None        float      \n",
      "114        float  numerical       None        float      \n",
      "115        float  numerical       None        float      \n",
      "116        float  numerical       None        float      \n",
      "117        float  numerical       None        float      \n",
      "118        float  numerical       None        float      \n",
      "119        float  numerical       None        float      \n",
      "120        float  numerical       None        float      \n",
      "121        float  numerical       None        float      \n",
      "122        float  numerical       None        float      \n",
      "123        float  numerical       None        float      \n",
      "124        float  numerical       None        float      \n",
      "125        float  numerical       None        float      \n",
      "126        float  numerical       None        float      \n",
      "127        float  numerical       None        float      \n",
      "128        float  numerical       None        float      \n",
      "129        float  numerical       None        float      \n",
      "130        float  numerical       None        float      \n",
      "131        float  numerical       None        float      \n",
      "132        float  numerical       None        float      \n",
      "133        float  numerical       None        float      \n",
      "134        float  numerical       None        float      \n",
      "135        float  numerical       None        float      \n",
      "136        float  numerical       None        float      \n",
      "137        float  numerical       None        float      \n",
      "138        float  numerical       None        float      \n",
      "139        float  numerical       None        float      \n",
      "140        float  numerical       None        float      \n",
      "141        float  numerical       None        float      \n",
      "142        float  numerical       None        float      \n",
      "143        float  numerical       None        float      \n",
      "144        float  numerical       None        float      \n",
      "145        float  numerical       None        float      \n",
      "146        float  numerical       None        float      \n",
      "147        float  numerical       None        float      \n",
      "148        float  numerical       None        float      \n",
      "149        float  numerical       None        float      \n",
      "\n",
      ")\n"
     ]
    },
    {
     "data": {
      "text/html": [
       "<pre>Recsys training: model = item_content_recommender</pre>"
      ],
      "text/plain": [
       "Recsys training: model = item_content_recommender"
      ]
     },
     "metadata": {},
     "output_type": "display_data"
    },
    {
     "name": "stdout",
     "output_type": "stream",
     "text": [
      "Defaulting to brute force instead of ball tree because there are multiple distance components.\n"
     ]
    },
    {
     "data": {
      "text/html": [
       "<pre>Starting brute force nearest neighbors model training.</pre>"
      ],
      "text/plain": [
       "Starting brute force nearest neighbors model training."
      ]
     },
     "metadata": {},
     "output_type": "display_data"
    },
    {
     "data": {
      "text/html": [
       "<pre>Starting pairwise querying.</pre>"
      ],
      "text/plain": [
       "Starting pairwise querying."
      ]
     },
     "metadata": {},
     "output_type": "display_data"
    },
    {
     "data": {
      "text/html": [
       "<pre>+--------------+---------+-------------+--------------+</pre>"
      ],
      "text/plain": [
       "+--------------+---------+-------------+--------------+"
      ]
     },
     "metadata": {},
     "output_type": "display_data"
    },
    {
     "data": {
      "text/html": [
       "<pre>| Query points | # Pairs | % Complete. | Elapsed Time |</pre>"
      ],
      "text/plain": [
       "| Query points | # Pairs | % Complete. | Elapsed Time |"
      ]
     },
     "metadata": {},
     "output_type": "display_data"
    },
    {
     "data": {
      "text/html": [
       "<pre>+--------------+---------+-------------+--------------+</pre>"
      ],
      "text/plain": [
       "+--------------+---------+-------------+--------------+"
      ]
     },
     "metadata": {},
     "output_type": "display_data"
    },
    {
     "data": {
      "text/html": [
       "<pre>| 1            | 5783    | 0.0172921   | 105.229ms    |</pre>"
      ],
      "text/plain": [
       "| 1            | 5783    | 0.0172921   | 105.229ms    |"
      ]
     },
     "metadata": {},
     "output_type": "display_data"
    },
    {
     "data": {
      "text/html": [
       "<pre>| 135          | 780705  | 2.33443     | 1.10s        |</pre>"
      ],
      "text/plain": [
       "| 135          | 780705  | 2.33443     | 1.10s        |"
      ]
     },
     "metadata": {},
     "output_type": "display_data"
    },
    {
     "data": {
      "text/html": [
       "<pre>| 257          | 1486231 | 4.44406     | 2.12s        |</pre>"
      ],
      "text/plain": [
       "| 257          | 1486231 | 4.44406     | 2.12s        |"
      ]
     },
     "metadata": {},
     "output_type": "display_data"
    },
    {
     "data": {
      "text/html": [
       "<pre>| 389          | 2249587 | 6.72661     | 3.12s        |</pre>"
      ],
      "text/plain": [
       "| 389          | 2249587 | 6.72661     | 3.12s        |"
      ]
     },
     "metadata": {},
     "output_type": "display_data"
    },
    {
     "data": {
      "text/html": [
       "<pre>| 528          | 3053424 | 9.13021     | 4.13s        |</pre>"
      ],
      "text/plain": [
       "| 528          | 3053424 | 9.13021     | 4.13s        |"
      ]
     },
     "metadata": {},
     "output_type": "display_data"
    },
    {
     "data": {
      "text/html": [
       "<pre>| 674          | 3897742 | 11.6549     | 5.12s        |</pre>"
      ],
      "text/plain": [
       "| 674          | 3897742 | 11.6549     | 5.12s        |"
      ]
     },
     "metadata": {},
     "output_type": "display_data"
    },
    {
     "data": {
      "text/html": [
       "<pre>| 796          | 4603268 | 13.7645     | 6.10s        |</pre>"
      ],
      "text/plain": [
       "| 796          | 4603268 | 13.7645     | 6.10s        |"
      ]
     },
     "metadata": {},
     "output_type": "display_data"
    },
    {
     "data": {
      "text/html": [
       "<pre>| 949          | 5488067 | 16.4102     | 7.11s        |</pre>"
      ],
      "text/plain": [
       "| 949          | 5488067 | 16.4102     | 7.11s        |"
      ]
     },
     "metadata": {},
     "output_type": "display_data"
    },
    {
     "data": {
      "text/html": [
       "<pre>| 1133         | 6552139 | 19.5919     | 8.10s        |</pre>"
      ],
      "text/plain": [
       "| 1133         | 6552139 | 19.5919     | 8.10s        |"
      ]
     },
     "metadata": {},
     "output_type": "display_data"
    },
    {
     "data": {
      "text/html": [
       "<pre>| 1306         | 7552598 | 22.5834     | 9.11s        |</pre>"
      ],
      "text/plain": [
       "| 1306         | 7552598 | 22.5834     | 9.11s        |"
      ]
     },
     "metadata": {},
     "output_type": "display_data"
    },
    {
     "data": {
      "text/html": [
       "<pre>| 1464         | 8466312 | 25.3156     | 10.12s       |</pre>"
      ],
      "text/plain": [
       "| 1464         | 8466312 | 25.3156     | 10.12s       |"
      ]
     },
     "metadata": {},
     "output_type": "display_data"
    },
    {
     "data": {
      "text/html": [
       "<pre>| 1651         | 9547733 | 28.5492     | 11.13s       |</pre>"
      ],
      "text/plain": [
       "| 1651         | 9547733 | 28.5492     | 11.13s       |"
      ]
     },
     "metadata": {},
     "output_type": "display_data"
    },
    {
     "data": {
      "text/html": [
       "<pre>| 1831         | 1.1e+07 | 31.6618     | 12.11s       |</pre>"
      ],
      "text/plain": [
       "| 1831         | 1.1e+07 | 31.6618     | 12.11s       |"
      ]
     },
     "metadata": {},
     "output_type": "display_data"
    },
    {
     "data": {
      "text/html": [
       "<pre>| 1976         | 1.1e+07 | 34.1691     | 13.11s       |</pre>"
      ],
      "text/plain": [
       "| 1976         | 1.1e+07 | 34.1691     | 13.11s       |"
      ]
     },
     "metadata": {},
     "output_type": "display_data"
    },
    {
     "data": {
      "text/html": [
       "<pre>| 2076         | 1.2e+07 | 35.8983     | 14.11s       |</pre>"
      ],
      "text/plain": [
       "| 2076         | 1.2e+07 | 35.8983     | 14.11s       |"
      ]
     },
     "metadata": {},
     "output_type": "display_data"
    },
    {
     "data": {
      "text/html": [
       "<pre>| 2198         | 1.3e+07 | 38.008      | 15.11s       |</pre>"
      ],
      "text/plain": [
       "| 2198         | 1.3e+07 | 38.008      | 15.11s       |"
      ]
     },
     "metadata": {},
     "output_type": "display_data"
    },
    {
     "data": {
      "text/html": [
       "<pre>| 2347         | 1.4e+07 | 40.5845     | 16.12s       |</pre>"
      ],
      "text/plain": [
       "| 2347         | 1.4e+07 | 40.5845     | 16.12s       |"
      ]
     },
     "metadata": {},
     "output_type": "display_data"
    },
    {
     "data": {
      "text/html": [
       "<pre>| 2469         | 1.4e+07 | 42.6941     | 17.11s       |</pre>"
      ],
      "text/plain": [
       "| 2469         | 1.4e+07 | 42.6941     | 17.11s       |"
      ]
     },
     "metadata": {},
     "output_type": "display_data"
    },
    {
     "data": {
      "text/html": [
       "<pre>| 2567         | 1.5e+07 | 44.3887     | 18.11s       |</pre>"
      ],
      "text/plain": [
       "| 2567         | 1.5e+07 | 44.3887     | 18.11s       |"
      ]
     },
     "metadata": {},
     "output_type": "display_data"
    },
    {
     "data": {
      "text/html": [
       "<pre>| 2693         | 1.6e+07 | 46.5675     | 19.12s       |</pre>"
      ],
      "text/plain": [
       "| 2693         | 1.6e+07 | 46.5675     | 19.12s       |"
      ]
     },
     "metadata": {},
     "output_type": "display_data"
    },
    {
     "data": {
      "text/html": [
       "<pre>| 2821         | 1.6e+07 | 48.7809     | 20.11s       |</pre>"
      ],
      "text/plain": [
       "| 2821         | 1.6e+07 | 48.7809     | 20.11s       |"
      ]
     },
     "metadata": {},
     "output_type": "display_data"
    },
    {
     "data": {
      "text/html": [
       "<pre>| 2935         | 1.7e+07 | 50.7522     | 21.11s       |</pre>"
      ],
      "text/plain": [
       "| 2935         | 1.7e+07 | 50.7522     | 21.11s       |"
      ]
     },
     "metadata": {},
     "output_type": "display_data"
    },
    {
     "data": {
      "text/html": [
       "<pre>| 3079         | 1.8e+07 | 53.2423     | 22.11s       |</pre>"
      ],
      "text/plain": [
       "| 3079         | 1.8e+07 | 53.2423     | 22.11s       |"
      ]
     },
     "metadata": {},
     "output_type": "display_data"
    },
    {
     "data": {
      "text/html": [
       "<pre>| 3239         | 1.9e+07 | 56.009      | 23.13s       |</pre>"
      ],
      "text/plain": [
       "| 3239         | 1.9e+07 | 56.009      | 23.13s       |"
      ]
     },
     "metadata": {},
     "output_type": "display_data"
    },
    {
     "data": {
      "text/html": [
       "<pre>| 3399         | 2e+07   | 58.7757     | 24.12s       |</pre>"
      ],
      "text/plain": [
       "| 3399         | 2e+07   | 58.7757     | 24.12s       |"
      ]
     },
     "metadata": {},
     "output_type": "display_data"
    },
    {
     "data": {
      "text/html": [
       "<pre>| 3523         | 2e+07   | 60.9199     | 25.12s       |</pre>"
      ],
      "text/plain": [
       "| 3523         | 2e+07   | 60.9199     | 25.12s       |"
      ]
     },
     "metadata": {},
     "output_type": "display_data"
    },
    {
     "data": {
      "text/html": [
       "<pre>| 3692         | 2.1e+07 | 63.8423     | 26.12s       |</pre>"
      ],
      "text/plain": [
       "| 3692         | 2.1e+07 | 63.8423     | 26.12s       |"
      ]
     },
     "metadata": {},
     "output_type": "display_data"
    },
    {
     "data": {
      "text/html": [
       "<pre>| 3830         | 2.2e+07 | 66.2286     | 27.18s       |</pre>"
      ],
      "text/plain": [
       "| 3830         | 2.2e+07 | 66.2286     | 27.18s       |"
      ]
     },
     "metadata": {},
     "output_type": "display_data"
    },
    {
     "data": {
      "text/html": [
       "<pre>| 3945         | 2.3e+07 | 68.2172     | 28.12s       |</pre>"
      ],
      "text/plain": [
       "| 3945         | 2.3e+07 | 68.2172     | 28.12s       |"
      ]
     },
     "metadata": {},
     "output_type": "display_data"
    },
    {
     "data": {
      "text/html": [
       "<pre>| 4086         | 2.4e+07 | 70.6554     | 29.13s       |</pre>"
      ],
      "text/plain": [
       "| 4086         | 2.4e+07 | 70.6554     | 29.13s       |"
      ]
     },
     "metadata": {},
     "output_type": "display_data"
    },
    {
     "data": {
      "text/html": [
       "<pre>| 4219         | 2.4e+07 | 72.9552     | 30.12s       |</pre>"
      ],
      "text/plain": [
       "| 4219         | 2.4e+07 | 72.9552     | 30.12s       |"
      ]
     },
     "metadata": {},
     "output_type": "display_data"
    },
    {
     "data": {
      "text/html": [
       "<pre>| 4350         | 2.5e+07 | 75.2205     | 31.12s       |</pre>"
      ],
      "text/plain": [
       "| 4350         | 2.5e+07 | 75.2205     | 31.12s       |"
      ]
     },
     "metadata": {},
     "output_type": "display_data"
    },
    {
     "data": {
      "text/html": [
       "<pre>| 4488         | 2.6e+07 | 77.6068     | 32.12s       |</pre>"
      ],
      "text/plain": [
       "| 4488         | 2.6e+07 | 77.6068     | 32.12s       |"
      ]
     },
     "metadata": {},
     "output_type": "display_data"
    },
    {
     "data": {
      "text/html": [
       "<pre>| 4666         | 2.7e+07 | 80.6848     | 33.14s       |</pre>"
      ],
      "text/plain": [
       "| 4666         | 2.7e+07 | 80.6848     | 33.14s       |"
      ]
     },
     "metadata": {},
     "output_type": "display_data"
    },
    {
     "data": {
      "text/html": [
       "<pre>| 4822         | 2.8e+07 | 83.3823     | 34.11s       |</pre>"
      ],
      "text/plain": [
       "| 4822         | 2.8e+07 | 83.3823     | 34.11s       |"
      ]
     },
     "metadata": {},
     "output_type": "display_data"
    },
    {
     "data": {
      "text/html": [
       "<pre>| 4994         | 2.9e+07 | 86.3566     | 35.11s       |</pre>"
      ],
      "text/plain": [
       "| 4994         | 2.9e+07 | 86.3566     | 35.11s       |"
      ]
     },
     "metadata": {},
     "output_type": "display_data"
    },
    {
     "data": {
      "text/html": [
       "<pre>| 5188         |         | 89.7112     | 36.12s       |</pre>"
      ],
      "text/plain": [
       "| 5188         |         | 89.7112     | 36.12s       |"
      ]
     },
     "metadata": {},
     "output_type": "display_data"
    },
    {
     "data": {
      "text/html": [
       "<pre>| 5391         | 3.1e+07 | 93.2215     | 37.11s       |</pre>"
      ],
      "text/plain": [
       "| 5391         | 3.1e+07 | 93.2215     | 37.11s       |"
      ]
     },
     "metadata": {},
     "output_type": "display_data"
    },
    {
     "data": {
      "text/html": [
       "<pre>| 5581         | 3.2e+07 | 96.507      | 38.11s       |</pre>"
      ],
      "text/plain": [
       "| 5581         | 3.2e+07 | 96.507      | 38.11s       |"
      ]
     },
     "metadata": {},
     "output_type": "display_data"
    },
    {
     "data": {
      "text/html": [
       "<pre>| 5770         | 3.3e+07 | 99.7752     | 39.13s       |</pre>"
      ],
      "text/plain": [
       "| 5770         | 3.3e+07 | 99.7752     | 39.13s       |"
      ]
     },
     "metadata": {},
     "output_type": "display_data"
    },
    {
     "data": {
      "text/html": [
       "<pre>| Done         |         | 100         | 39.26s       |</pre>"
      ],
      "text/plain": [
       "| Done         |         | 100         | 39.26s       |"
      ]
     },
     "metadata": {},
     "output_type": "display_data"
    },
    {
     "data": {
      "text/html": [
       "<pre>+--------------+---------+-------------+--------------+</pre>"
      ],
      "text/plain": [
       "+--------------+---------+-------------+--------------+"
      ]
     },
     "metadata": {},
     "output_type": "display_data"
    },
    {
     "data": {
      "text/html": [
       "<pre>Preparing data set.</pre>"
      ],
      "text/plain": [
       "Preparing data set."
      ]
     },
     "metadata": {},
     "output_type": "display_data"
    },
    {
     "data": {
      "text/html": [
       "<pre>    Data has 0 observations with 0 users and 5783 items.</pre>"
      ],
      "text/plain": [
       "    Data has 0 observations with 0 users and 5783 items."
      ]
     },
     "metadata": {},
     "output_type": "display_data"
    },
    {
     "data": {
      "text/html": [
       "<pre>    Data prepared in: 0.508437s</pre>"
      ],
      "text/plain": [
       "    Data prepared in: 0.508437s"
      ]
     },
     "metadata": {},
     "output_type": "display_data"
    },
    {
     "data": {
      "text/html": [
       "<pre>Loading user-provided nearest items.</pre>"
      ],
      "text/plain": [
       "Loading user-provided nearest items."
      ]
     },
     "metadata": {},
     "output_type": "display_data"
    },
    {
     "data": {
      "text/html": [
       "<pre>Generating candidate set for working with new users.</pre>"
      ],
      "text/plain": [
       "Generating candidate set for working with new users."
      ]
     },
     "metadata": {},
     "output_type": "display_data"
    },
    {
     "data": {
      "text/html": [
       "<pre>Finished training in 0.024248s</pre>"
      ],
      "text/plain": [
       "Finished training in 0.024248s"
      ]
     },
     "metadata": {},
     "output_type": "display_data"
    }
   ],
   "source": [
    "content_rec = graphlab.recommender.item_content_recommender.create(item_data, 'business_id')"
   ]
  },
  {
   "cell_type": "code",
   "execution_count": 29,
   "metadata": {},
   "outputs": [
    {
     "data": {
      "text/html": [
       "<div style=\"max-height:1000px;max-width:1500px;overflow:auto;\"><table frame=\"box\" rules=\"cols\">\n",
       "    <tr>\n",
       "        <th style=\"padding-left: 1em; padding-right: 1em; text-align: center\">business_id</th>\n",
       "        <th style=\"padding-left: 1em; padding-right: 1em; text-align: center\">score</th>\n",
       "        <th style=\"padding-left: 1em; padding-right: 1em; text-align: center\">rank</th>\n",
       "    </tr>\n",
       "    <tr>\n",
       "        <td style=\"padding-left: 1em; padding-right: 1em; text-align: center; vertical-align: top\">TT658qQinO6MBHP9q7rJ8w</td>\n",
       "        <td style=\"padding-left: 1em; padding-right: 1em; text-align: center; vertical-align: top\">0.918018758297</td>\n",
       "        <td style=\"padding-left: 1em; padding-right: 1em; text-align: center; vertical-align: top\">1</td>\n",
       "    </tr>\n",
       "    <tr>\n",
       "        <td style=\"padding-left: 1em; padding-right: 1em; text-align: center; vertical-align: top\">uWECX6-Uq9n8v5ipk9R29A</td>\n",
       "        <td style=\"padding-left: 1em; padding-right: 1em; text-align: center; vertical-align: top\">0.916446268559</td>\n",
       "        <td style=\"padding-left: 1em; padding-right: 1em; text-align: center; vertical-align: top\">2</td>\n",
       "    </tr>\n",
       "    <tr>\n",
       "        <td style=\"padding-left: 1em; padding-right: 1em; text-align: center; vertical-align: top\">zcScEL0WEdFkROcnz5379g</td>\n",
       "        <td style=\"padding-left: 1em; padding-right: 1em; text-align: center; vertical-align: top\">0.871656775475</td>\n",
       "        <td style=\"padding-left: 1em; padding-right: 1em; text-align: center; vertical-align: top\">3</td>\n",
       "    </tr>\n",
       "    <tr>\n",
       "        <td style=\"padding-left: 1em; padding-right: 1em; text-align: center; vertical-align: top\">AT1bODcrWTKTRNZKRxO-cA</td>\n",
       "        <td style=\"padding-left: 1em; padding-right: 1em; text-align: center; vertical-align: top\">0.869756102562</td>\n",
       "        <td style=\"padding-left: 1em; padding-right: 1em; text-align: center; vertical-align: top\">4</td>\n",
       "    </tr>\n",
       "    <tr>\n",
       "        <td style=\"padding-left: 1em; padding-right: 1em; text-align: center; vertical-align: top\">p3YqOYELqXtLyHz9T49p_w</td>\n",
       "        <td style=\"padding-left: 1em; padding-right: 1em; text-align: center; vertical-align: top\">0.869174540043</td>\n",
       "        <td style=\"padding-left: 1em; padding-right: 1em; text-align: center; vertical-align: top\">5</td>\n",
       "    </tr>\n",
       "    <tr>\n",
       "        <td style=\"padding-left: 1em; padding-right: 1em; text-align: center; vertical-align: top\">L2W0QLXIIR5MEmhQwZk-iA</td>\n",
       "        <td style=\"padding-left: 1em; padding-right: 1em; text-align: center; vertical-align: top\">0.868933916092</td>\n",
       "        <td style=\"padding-left: 1em; padding-right: 1em; text-align: center; vertical-align: top\">6</td>\n",
       "    </tr>\n",
       "    <tr>\n",
       "        <td style=\"padding-left: 1em; padding-right: 1em; text-align: center; vertical-align: top\">5TY6bUT3bbl9aHItiIXXqw</td>\n",
       "        <td style=\"padding-left: 1em; padding-right: 1em; text-align: center; vertical-align: top\">0.865635931492</td>\n",
       "        <td style=\"padding-left: 1em; padding-right: 1em; text-align: center; vertical-align: top\">7</td>\n",
       "    </tr>\n",
       "    <tr>\n",
       "        <td style=\"padding-left: 1em; padding-right: 1em; text-align: center; vertical-align: top\">UNI1agsPX2k3eJSJVB91nw</td>\n",
       "        <td style=\"padding-left: 1em; padding-right: 1em; text-align: center; vertical-align: top\">0.839843392372</td>\n",
       "        <td style=\"padding-left: 1em; padding-right: 1em; text-align: center; vertical-align: top\">8</td>\n",
       "    </tr>\n",
       "    <tr>\n",
       "        <td style=\"padding-left: 1em; padding-right: 1em; text-align: center; vertical-align: top\">VPO8pBUwYz1u6GoG0d2U-Q</td>\n",
       "        <td style=\"padding-left: 1em; padding-right: 1em; text-align: center; vertical-align: top\">0.822085916996</td>\n",
       "        <td style=\"padding-left: 1em; padding-right: 1em; text-align: center; vertical-align: top\">9</td>\n",
       "    </tr>\n",
       "    <tr>\n",
       "        <td style=\"padding-left: 1em; padding-right: 1em; text-align: center; vertical-align: top\">zYKNDLEExBNKQQrW6vvz_Q</td>\n",
       "        <td style=\"padding-left: 1em; padding-right: 1em; text-align: center; vertical-align: top\">0.808733940125</td>\n",
       "        <td style=\"padding-left: 1em; padding-right: 1em; text-align: center; vertical-align: top\">10</td>\n",
       "    </tr>\n",
       "</table>\n",
       "[10 rows x 3 columns]<br/>\n",
       "</div>"
      ],
      "text/plain": [
       "Columns:\n",
       "\tbusiness_id\tstr\n",
       "\tscore\tfloat\n",
       "\trank\tint\n",
       "\n",
       "Rows: 10\n",
       "\n",
       "Data:\n",
       "+------------------------+----------------+------+\n",
       "|      business_id       |     score      | rank |\n",
       "+------------------------+----------------+------+\n",
       "| TT658qQinO6MBHP9q7rJ8w | 0.918018758297 |  1   |\n",
       "| uWECX6-Uq9n8v5ipk9R29A | 0.916446268559 |  2   |\n",
       "| zcScEL0WEdFkROcnz5379g | 0.871656775475 |  3   |\n",
       "| AT1bODcrWTKTRNZKRxO-cA | 0.869756102562 |  4   |\n",
       "| p3YqOYELqXtLyHz9T49p_w | 0.869174540043 |  5   |\n",
       "| L2W0QLXIIR5MEmhQwZk-iA | 0.868933916092 |  6   |\n",
       "| 5TY6bUT3bbl9aHItiIXXqw | 0.865635931492 |  7   |\n",
       "| UNI1agsPX2k3eJSJVB91nw | 0.839843392372 |  8   |\n",
       "| VPO8pBUwYz1u6GoG0d2U-Q | 0.822085916996 |  9   |\n",
       "| zYKNDLEExBNKQQrW6vvz_Q | 0.808733940125 |  10  |\n",
       "+------------------------+----------------+------+\n",
       "[10 rows x 3 columns]"
      ]
     },
     "execution_count": 29,
     "metadata": {},
     "output_type": "execute_result"
    }
   ],
   "source": [
    "# make recommendation for a single item\n",
    "sample_item = [df_stars.iloc[0].business_id]\n",
    "content_rec.recommend_from_interactions(sample_item)"
   ]
  },
  {
   "cell_type": "code",
   "execution_count": 30,
   "metadata": {},
   "outputs": [
    {
     "data": {
      "text/html": [
       "<div>\n",
       "<style scoped>\n",
       "    .dataframe tbody tr th:only-of-type {\n",
       "        vertical-align: middle;\n",
       "    }\n",
       "\n",
       "    .dataframe tbody tr th {\n",
       "        vertical-align: top;\n",
       "    }\n",
       "\n",
       "    .dataframe thead th {\n",
       "        text-align: right;\n",
       "    }\n",
       "</style>\n",
       "<table border=\"1\" class=\"dataframe\">\n",
       "  <thead>\n",
       "    <tr style=\"text-align: right;\">\n",
       "      <th></th>\n",
       "      <th>business_id</th>\n",
       "      <th>similar</th>\n",
       "      <th>score</th>\n",
       "      <th>rank</th>\n",
       "    </tr>\n",
       "  </thead>\n",
       "  <tbody>\n",
       "    <tr>\n",
       "      <th>0</th>\n",
       "      <td>--9e1ONYQuAa-CB_Rrw7Tw</td>\n",
       "      <td>TT658qQinO6MBHP9q7rJ8w</td>\n",
       "      <td>0.918019</td>\n",
       "      <td>1</td>\n",
       "    </tr>\n",
       "    <tr>\n",
       "      <th>1</th>\n",
       "      <td>--9e1ONYQuAa-CB_Rrw7Tw</td>\n",
       "      <td>uWECX6-Uq9n8v5ipk9R29A</td>\n",
       "      <td>0.916446</td>\n",
       "      <td>2</td>\n",
       "    </tr>\n",
       "    <tr>\n",
       "      <th>2</th>\n",
       "      <td>--9e1ONYQuAa-CB_Rrw7Tw</td>\n",
       "      <td>zcScEL0WEdFkROcnz5379g</td>\n",
       "      <td>0.871657</td>\n",
       "      <td>3</td>\n",
       "    </tr>\n",
       "    <tr>\n",
       "      <th>3</th>\n",
       "      <td>--9e1ONYQuAa-CB_Rrw7Tw</td>\n",
       "      <td>AT1bODcrWTKTRNZKRxO-cA</td>\n",
       "      <td>0.869756</td>\n",
       "      <td>4</td>\n",
       "    </tr>\n",
       "    <tr>\n",
       "      <th>4</th>\n",
       "      <td>--9e1ONYQuAa-CB_Rrw7Tw</td>\n",
       "      <td>p3YqOYELqXtLyHz9T49p_w</td>\n",
       "      <td>0.869175</td>\n",
       "      <td>5</td>\n",
       "    </tr>\n",
       "    <tr>\n",
       "      <th>5</th>\n",
       "      <td>--9e1ONYQuAa-CB_Rrw7Tw</td>\n",
       "      <td>L2W0QLXIIR5MEmhQwZk-iA</td>\n",
       "      <td>0.868934</td>\n",
       "      <td>6</td>\n",
       "    </tr>\n",
       "    <tr>\n",
       "      <th>6</th>\n",
       "      <td>--9e1ONYQuAa-CB_Rrw7Tw</td>\n",
       "      <td>5TY6bUT3bbl9aHItiIXXqw</td>\n",
       "      <td>0.865636</td>\n",
       "      <td>7</td>\n",
       "    </tr>\n",
       "    <tr>\n",
       "      <th>7</th>\n",
       "      <td>--9e1ONYQuAa-CB_Rrw7Tw</td>\n",
       "      <td>UNI1agsPX2k3eJSJVB91nw</td>\n",
       "      <td>0.839843</td>\n",
       "      <td>8</td>\n",
       "    </tr>\n",
       "    <tr>\n",
       "      <th>8</th>\n",
       "      <td>--9e1ONYQuAa-CB_Rrw7Tw</td>\n",
       "      <td>VPO8pBUwYz1u6GoG0d2U-Q</td>\n",
       "      <td>0.822086</td>\n",
       "      <td>9</td>\n",
       "    </tr>\n",
       "    <tr>\n",
       "      <th>9</th>\n",
       "      <td>--9e1ONYQuAa-CB_Rrw7Tw</td>\n",
       "      <td>zYKNDLEExBNKQQrW6vvz_Q</td>\n",
       "      <td>0.808734</td>\n",
       "      <td>10</td>\n",
       "    </tr>\n",
       "    <tr>\n",
       "      <th>10</th>\n",
       "      <td>-0BxAGlIk5DJAGVkpqBXxg</td>\n",
       "      <td>wJ-961JWdVhJXhWQf4Jlcw</td>\n",
       "      <td>0.999617</td>\n",
       "      <td>1</td>\n",
       "    </tr>\n",
       "    <tr>\n",
       "      <th>11</th>\n",
       "      <td>-0BxAGlIk5DJAGVkpqBXxg</td>\n",
       "      <td>xcKB2QEppVgMARTWGYZGow</td>\n",
       "      <td>0.999571</td>\n",
       "      <td>2</td>\n",
       "    </tr>\n",
       "    <tr>\n",
       "      <th>12</th>\n",
       "      <td>-0BxAGlIk5DJAGVkpqBXxg</td>\n",
       "      <td>b27YujiIUpypBuxX2nn0zw</td>\n",
       "      <td>0.999120</td>\n",
       "      <td>3</td>\n",
       "    </tr>\n",
       "    <tr>\n",
       "      <th>13</th>\n",
       "      <td>-0BxAGlIk5DJAGVkpqBXxg</td>\n",
       "      <td>KvFjvYiagu-9YmcJbLd3Ew</td>\n",
       "      <td>0.998969</td>\n",
       "      <td>4</td>\n",
       "    </tr>\n",
       "    <tr>\n",
       "      <th>14</th>\n",
       "      <td>-0BxAGlIk5DJAGVkpqBXxg</td>\n",
       "      <td>s19MqjZcquoj4h5-8m5C5w</td>\n",
       "      <td>0.998760</td>\n",
       "      <td>5</td>\n",
       "    </tr>\n",
       "    <tr>\n",
       "      <th>15</th>\n",
       "      <td>-0BxAGlIk5DJAGVkpqBXxg</td>\n",
       "      <td>GmwpYbZBpKn6K5SuQffT6A</td>\n",
       "      <td>0.998707</td>\n",
       "      <td>6</td>\n",
       "    </tr>\n",
       "    <tr>\n",
       "      <th>16</th>\n",
       "      <td>-0BxAGlIk5DJAGVkpqBXxg</td>\n",
       "      <td>K4z0ODOZNuN2uRnL4IwApw</td>\n",
       "      <td>0.998474</td>\n",
       "      <td>7</td>\n",
       "    </tr>\n",
       "    <tr>\n",
       "      <th>17</th>\n",
       "      <td>-0BxAGlIk5DJAGVkpqBXxg</td>\n",
       "      <td>5llCyMtS_WyUVKXCtpdaJQ</td>\n",
       "      <td>0.998100</td>\n",
       "      <td>8</td>\n",
       "    </tr>\n",
       "    <tr>\n",
       "      <th>18</th>\n",
       "      <td>-0BxAGlIk5DJAGVkpqBXxg</td>\n",
       "      <td>JAAFhapjXHdxaLb8jxWwdQ</td>\n",
       "      <td>0.997903</td>\n",
       "      <td>9</td>\n",
       "    </tr>\n",
       "    <tr>\n",
       "      <th>19</th>\n",
       "      <td>-0BxAGlIk5DJAGVkpqBXxg</td>\n",
       "      <td>33YHwHgIGDSg2wot59a_-Q</td>\n",
       "      <td>0.997803</td>\n",
       "      <td>10</td>\n",
       "    </tr>\n",
       "    <tr>\n",
       "      <th>20</th>\n",
       "      <td>-1vfRrlnNnNJ5boOVghMPA</td>\n",
       "      <td>nzUvzv8fOuEioaOlL1G2uw</td>\n",
       "      <td>0.889890</td>\n",
       "      <td>1</td>\n",
       "    </tr>\n",
       "    <tr>\n",
       "      <th>21</th>\n",
       "      <td>-1vfRrlnNnNJ5boOVghMPA</td>\n",
       "      <td>pUUgVNS5nBSoCJsBa3fDGw</td>\n",
       "      <td>0.846372</td>\n",
       "      <td>2</td>\n",
       "    </tr>\n",
       "    <tr>\n",
       "      <th>22</th>\n",
       "      <td>-1vfRrlnNnNJ5boOVghMPA</td>\n",
       "      <td>qFZ7ReYNpjHuvSxOqXqHMg</td>\n",
       "      <td>0.846310</td>\n",
       "      <td>3</td>\n",
       "    </tr>\n",
       "    <tr>\n",
       "      <th>23</th>\n",
       "      <td>-1vfRrlnNnNJ5boOVghMPA</td>\n",
       "      <td>wdOOK3K6vzQy1d_OIk-U9w</td>\n",
       "      <td>0.844644</td>\n",
       "      <td>4</td>\n",
       "    </tr>\n",
       "    <tr>\n",
       "      <th>24</th>\n",
       "      <td>-1vfRrlnNnNJ5boOVghMPA</td>\n",
       "      <td>ugLqbAvBdRDc-gS4hpslXw</td>\n",
       "      <td>0.841333</td>\n",
       "      <td>5</td>\n",
       "    </tr>\n",
       "    <tr>\n",
       "      <th>25</th>\n",
       "      <td>-1vfRrlnNnNJ5boOVghMPA</td>\n",
       "      <td>M-SS_Kr0zlC7v8kBSRa74g</td>\n",
       "      <td>0.840984</td>\n",
       "      <td>6</td>\n",
       "    </tr>\n",
       "    <tr>\n",
       "      <th>26</th>\n",
       "      <td>-1vfRrlnNnNJ5boOVghMPA</td>\n",
       "      <td>nuRLQaPYbH6raFgSv-C_8g</td>\n",
       "      <td>0.839641</td>\n",
       "      <td>7</td>\n",
       "    </tr>\n",
       "    <tr>\n",
       "      <th>27</th>\n",
       "      <td>-1vfRrlnNnNJ5boOVghMPA</td>\n",
       "      <td>mO786Fl-KJV82FrW00RzBw</td>\n",
       "      <td>0.839013</td>\n",
       "      <td>8</td>\n",
       "    </tr>\n",
       "    <tr>\n",
       "      <th>28</th>\n",
       "      <td>-1vfRrlnNnNJ5boOVghMPA</td>\n",
       "      <td>dtqT51H8Q8mIvrLylVuiZg</td>\n",
       "      <td>0.837238</td>\n",
       "      <td>9</td>\n",
       "    </tr>\n",
       "    <tr>\n",
       "      <th>29</th>\n",
       "      <td>-1vfRrlnNnNJ5boOVghMPA</td>\n",
       "      <td>Dcu698L9WArPRc9mAYrAzA</td>\n",
       "      <td>0.832692</td>\n",
       "      <td>10</td>\n",
       "    </tr>\n",
       "  </tbody>\n",
       "</table>\n",
       "</div>"
      ],
      "text/plain": [
       "               business_id                 similar     score  rank\n",
       "0   --9e1ONYQuAa-CB_Rrw7Tw  TT658qQinO6MBHP9q7rJ8w  0.918019     1\n",
       "1   --9e1ONYQuAa-CB_Rrw7Tw  uWECX6-Uq9n8v5ipk9R29A  0.916446     2\n",
       "2   --9e1ONYQuAa-CB_Rrw7Tw  zcScEL0WEdFkROcnz5379g  0.871657     3\n",
       "3   --9e1ONYQuAa-CB_Rrw7Tw  AT1bODcrWTKTRNZKRxO-cA  0.869756     4\n",
       "4   --9e1ONYQuAa-CB_Rrw7Tw  p3YqOYELqXtLyHz9T49p_w  0.869175     5\n",
       "5   --9e1ONYQuAa-CB_Rrw7Tw  L2W0QLXIIR5MEmhQwZk-iA  0.868934     6\n",
       "6   --9e1ONYQuAa-CB_Rrw7Tw  5TY6bUT3bbl9aHItiIXXqw  0.865636     7\n",
       "7   --9e1ONYQuAa-CB_Rrw7Tw  UNI1agsPX2k3eJSJVB91nw  0.839843     8\n",
       "8   --9e1ONYQuAa-CB_Rrw7Tw  VPO8pBUwYz1u6GoG0d2U-Q  0.822086     9\n",
       "9   --9e1ONYQuAa-CB_Rrw7Tw  zYKNDLEExBNKQQrW6vvz_Q  0.808734    10\n",
       "10  -0BxAGlIk5DJAGVkpqBXxg  wJ-961JWdVhJXhWQf4Jlcw  0.999617     1\n",
       "11  -0BxAGlIk5DJAGVkpqBXxg  xcKB2QEppVgMARTWGYZGow  0.999571     2\n",
       "12  -0BxAGlIk5DJAGVkpqBXxg  b27YujiIUpypBuxX2nn0zw  0.999120     3\n",
       "13  -0BxAGlIk5DJAGVkpqBXxg  KvFjvYiagu-9YmcJbLd3Ew  0.998969     4\n",
       "14  -0BxAGlIk5DJAGVkpqBXxg  s19MqjZcquoj4h5-8m5C5w  0.998760     5\n",
       "15  -0BxAGlIk5DJAGVkpqBXxg  GmwpYbZBpKn6K5SuQffT6A  0.998707     6\n",
       "16  -0BxAGlIk5DJAGVkpqBXxg  K4z0ODOZNuN2uRnL4IwApw  0.998474     7\n",
       "17  -0BxAGlIk5DJAGVkpqBXxg  5llCyMtS_WyUVKXCtpdaJQ  0.998100     8\n",
       "18  -0BxAGlIk5DJAGVkpqBXxg  JAAFhapjXHdxaLb8jxWwdQ  0.997903     9\n",
       "19  -0BxAGlIk5DJAGVkpqBXxg  33YHwHgIGDSg2wot59a_-Q  0.997803    10\n",
       "20  -1vfRrlnNnNJ5boOVghMPA  nzUvzv8fOuEioaOlL1G2uw  0.889890     1\n",
       "21  -1vfRrlnNnNJ5boOVghMPA  pUUgVNS5nBSoCJsBa3fDGw  0.846372     2\n",
       "22  -1vfRrlnNnNJ5boOVghMPA  qFZ7ReYNpjHuvSxOqXqHMg  0.846310     3\n",
       "23  -1vfRrlnNnNJ5boOVghMPA  wdOOK3K6vzQy1d_OIk-U9w  0.844644     4\n",
       "24  -1vfRrlnNnNJ5boOVghMPA  ugLqbAvBdRDc-gS4hpslXw  0.841333     5\n",
       "25  -1vfRrlnNnNJ5boOVghMPA  M-SS_Kr0zlC7v8kBSRa74g  0.840984     6\n",
       "26  -1vfRrlnNnNJ5boOVghMPA  nuRLQaPYbH6raFgSv-C_8g  0.839641     7\n",
       "27  -1vfRrlnNnNJ5boOVghMPA  mO786Fl-KJV82FrW00RzBw  0.839013     8\n",
       "28  -1vfRrlnNnNJ5boOVghMPA  dtqT51H8Q8mIvrLylVuiZg  0.837238     9\n",
       "29  -1vfRrlnNnNJ5boOVghMPA  Dcu698L9WArPRc9mAYrAzA  0.832692    10"
      ]
     },
     "execution_count": 30,
     "metadata": {},
     "output_type": "execute_result"
    }
   ],
   "source": [
    "# similar items per item\n",
    "similar_item_df = content_rec.get_similar_items().to_dataframe()\n",
    "similar_item_df.head(30)"
   ]
  },
  {
   "cell_type": "code",
   "execution_count": 31,
   "metadata": {},
   "outputs": [],
   "source": [
    "# make recommendation for a sample user\n",
    "df_favored = df_stars[df_stars.stars > 4]\n",
    "bid_favored = df_favored[df_favored.user_id == df_favored.user_id.iloc[0]]"
   ]
  },
  {
   "cell_type": "code",
   "execution_count": 36,
   "metadata": {},
   "outputs": [
    {
     "data": {
      "text/plain": [
       "53240    gc_GGat7TgNCmrgc4nVOgw\n",
       "0        TT658qQinO6MBHP9q7rJ8w\n",
       "1        uWECX6-Uq9n8v5ipk9R29A\n",
       "37980    X2qnigcKuTWL7x9fS2ZUdw\n",
       "10450    TqUVH7Ox_3qEkCxCCS_l3Q\n",
       "Name: similar, dtype: object"
      ]
     },
     "execution_count": 36,
     "metadata": {},
     "output_type": "execute_result"
    }
   ],
   "source": [
    "# first select favored restaurants' similar items\n",
    "# second sort those restaurants, then got top 5\n",
    "(similar_item_df[similar_item_df['business_id']\n",
    " .isin(bid_favored.business_id)]\n",
    " .sort_values('score', ascending=False)\n",
    " .similar[:5])"
   ]
  },
  {
   "cell_type": "markdown",
   "metadata": {},
   "source": [
    "### NMF Recommender with Sparse Matrix"
   ]
  },
  {
   "cell_type": "code",
   "execution_count": 37,
   "metadata": {},
   "outputs": [
    {
     "data": {
      "text/plain": [
       "(11237, 5360)"
      ]
     },
     "execution_count": 37,
     "metadata": {},
     "output_type": "execute_result"
    }
   ],
   "source": [
    "# get the number of business_id and user_id\n",
    "list_user_id = list(df_utility.index)\n",
    "list_business_id = list(df_utility.columns)\n",
    "num_user_id, num_business_id = len(list_user_id), len(list_business_id)\n",
    "num_user_id, num_business_id"
   ]
  },
  {
   "cell_type": "code",
   "execution_count": 38,
   "metadata": {},
   "outputs": [
    {
     "data": {
      "text/plain": [
       "<11237x5360 sparse matrix of type '<type 'numpy.float64'>'\n",
       "\twith 0 stored elements in LInked List format>"
      ]
     },
     "execution_count": 38,
     "metadata": {},
     "output_type": "execute_result"
    }
   ],
   "source": [
    "from scipy import sparse\n",
    "ratings_matrix = sparse.lil_matrix((num_user_id, num_business_id))\n",
    "ratings_matrix"
   ]
  },
  {
   "cell_type": "code",
   "execution_count": 39,
   "metadata": {},
   "outputs": [
    {
     "data": {
      "text/html": [
       "<div>\n",
       "<style scoped>\n",
       "    .dataframe tbody tr th:only-of-type {\n",
       "        vertical-align: middle;\n",
       "    }\n",
       "\n",
       "    .dataframe tbody tr th {\n",
       "        vertical-align: top;\n",
       "    }\n",
       "\n",
       "    .dataframe thead th {\n",
       "        text-align: right;\n",
       "    }\n",
       "</style>\n",
       "<table border=\"1\" class=\"dataframe\">\n",
       "  <thead>\n",
       "    <tr style=\"text-align: right;\">\n",
       "      <th></th>\n",
       "      <th>user_id</th>\n",
       "      <th>business_id</th>\n",
       "      <th>stars</th>\n",
       "    </tr>\n",
       "  </thead>\n",
       "  <tbody>\n",
       "    <tr>\n",
       "      <th>0</th>\n",
       "      <td>bLbSNkLggFnqwNNzzq-Ijw</td>\n",
       "      <td>-95mbLJsa0CxXhpaNL4LvA</td>\n",
       "      <td>3</td>\n",
       "    </tr>\n",
       "    <tr>\n",
       "      <th>1</th>\n",
       "      <td>bLbSNkLggFnqwNNzzq-Ijw</td>\n",
       "      <td>-C8sSrFqaCxp51pyo-fQLQ</td>\n",
       "      <td>4</td>\n",
       "    </tr>\n",
       "    <tr>\n",
       "      <th>2</th>\n",
       "      <td>bLbSNkLggFnqwNNzzq-Ijw</td>\n",
       "      <td>-CQokjildrY7UZezXCdEBw</td>\n",
       "      <td>5</td>\n",
       "    </tr>\n",
       "    <tr>\n",
       "      <th>3</th>\n",
       "      <td>bLbSNkLggFnqwNNzzq-Ijw</td>\n",
       "      <td>-FcZY7a7qgxTUlTvwuyJnQ</td>\n",
       "      <td>3</td>\n",
       "    </tr>\n",
       "    <tr>\n",
       "      <th>4</th>\n",
       "      <td>bLbSNkLggFnqwNNzzq-Ijw</td>\n",
       "      <td>-IWsoxH7mLJTTpU5MmWY4w</td>\n",
       "      <td>4</td>\n",
       "    </tr>\n",
       "  </tbody>\n",
       "</table>\n",
       "</div>"
      ],
      "text/plain": [
       "                  user_id             business_id  stars\n",
       "0  bLbSNkLggFnqwNNzzq-Ijw  -95mbLJsa0CxXhpaNL4LvA      3\n",
       "1  bLbSNkLggFnqwNNzzq-Ijw  -C8sSrFqaCxp51pyo-fQLQ      4\n",
       "2  bLbSNkLggFnqwNNzzq-Ijw  -CQokjildrY7UZezXCdEBw      5\n",
       "3  bLbSNkLggFnqwNNzzq-Ijw  -FcZY7a7qgxTUlTvwuyJnQ      3\n",
       "4  bLbSNkLggFnqwNNzzq-Ijw  -IWsoxH7mLJTTpU5MmWY4w      4"
      ]
     },
     "execution_count": 39,
     "metadata": {},
     "output_type": "execute_result"
    }
   ],
   "source": [
    "df_stars_cleaned.head()"
   ]
  },
  {
   "cell_type": "code",
   "execution_count": 40,
   "metadata": {},
   "outputs": [],
   "source": [
    "for _, row in df_stars_cleaned.iterrows():\n",
    "    User_index, Biz_index = list_user_id.index(row.user_id), list_business_id.index(row.business_id)\n",
    "    ratings_matrix[User_index, Biz_index] = row.stars"
   ]
  },
  {
   "cell_type": "code",
   "execution_count": 41,
   "metadata": {},
   "outputs": [
    {
     "data": {
      "text/plain": [
       "<11237x5360 sparse matrix of type '<type 'numpy.float64'>'\n",
       "\twith 142367 stored elements in LInked List format>"
      ]
     },
     "execution_count": 41,
     "metadata": {},
     "output_type": "execute_result"
    }
   ],
   "source": [
    "ratings_matrix"
   ]
  },
  {
   "cell_type": "code",
   "execution_count": 42,
   "metadata": {},
   "outputs": [
    {
     "data": {
      "text/plain": [
       "{'alpha': 0.0,\n",
       " 'beta_loss': 'frobenius',\n",
       " 'init': 'nndsvd',\n",
       " 'l1_ratio': 0.0,\n",
       " 'max_iter': 200,\n",
       " 'n_components': 10,\n",
       " 'random_state': None,\n",
       " 'shuffle': False,\n",
       " 'solver': 'cd',\n",
       " 'tol': 0.01,\n",
       " 'verbose': 0}"
      ]
     },
     "execution_count": 42,
     "metadata": {},
     "output_type": "execute_result"
    }
   ],
   "source": [
    "from sklearn.decomposition import NMF\n",
    "\n",
    "nmf = NMF(n_components=10, init = 'nndsvd', tol = 0.01)\n",
    "nmf.get_params()"
   ]
  },
  {
   "cell_type": "code",
   "execution_count": 43,
   "metadata": {},
   "outputs": [
    {
     "data": {
      "text/plain": [
       "((11237, 10), (10, 5360))"
      ]
     },
     "execution_count": 43,
     "metadata": {},
     "output_type": "execute_result"
    }
   ],
   "source": [
    "W = nmf.fit_transform(ratings_matrix)\n",
    "H = nmf.components_\n",
    "W.shape, H.shape"
   ]
  },
  {
   "cell_type": "code",
   "execution_count": 44,
   "metadata": {},
   "outputs": [
    {
     "data": {
      "text/plain": [
       "(11237, 5360)"
      ]
     },
     "execution_count": 44,
     "metadata": {},
     "output_type": "execute_result"
    }
   ],
   "source": [
    "predict = W.dot(H)\n",
    "predict.shape"
   ]
  },
  {
   "cell_type": "code",
   "execution_count": 45,
   "metadata": {},
   "outputs": [
    {
     "data": {
      "text/plain": [
       "1476.1785959201065"
      ]
     },
     "execution_count": 45,
     "metadata": {},
     "output_type": "execute_result"
    }
   ],
   "source": [
    "nmf.reconstruction_err_"
   ]
  },
  {
   "cell_type": "code",
   "execution_count": 46,
   "metadata": {},
   "outputs": [
    {
     "data": {
      "text/plain": [
       "array([ 0.69315618,  0.48718688,  0.45224365,  0.4312951 ,  0.41752056,\n",
       "        0.39842188,  0.34242907,  0.32223339,  0.30761256,  0.30579474])"
      ]
     },
     "execution_count": 46,
     "metadata": {},
     "output_type": "execute_result"
    }
   ],
   "source": [
    "# take a look at the predicted result for user in row #900\n",
    "predict[900][np.argsort(predict[900])[-1:-11:-1]]"
   ]
  },
  {
   "cell_type": "code",
   "execution_count": null,
   "metadata": {},
   "outputs": [],
   "source": []
  }
 ],
 "metadata": {
  "kernelspec": {
   "display_name": "Python 2",
   "language": "python",
   "name": "python2"
  },
  "language_info": {
   "codemirror_mode": {
    "name": "ipython",
    "version": 2
   },
   "file_extension": ".py",
   "mimetype": "text/x-python",
   "name": "python",
   "nbconvert_exporter": "python",
   "pygments_lexer": "ipython2",
   "version": "2.7.14"
  }
 },
 "nbformat": 4,
 "nbformat_minor": 2
}
