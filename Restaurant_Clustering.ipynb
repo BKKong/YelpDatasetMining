{
 "cells": [
  {
   "cell_type": "markdown",
   "metadata": {},
   "source": [
    "## Yelp Restaurant Clustering\n",
    "\n",
    "July 2017"
   ]
  },
  {
   "cell_type": "code",
   "execution_count": 1,
   "metadata": {},
   "outputs": [],
   "source": [
    "import pandas as pd\n",
    "import numpy as np\n",
    "import matplotlib.pyplot as plt\n",
    "% matplotlib inline\n",
    "plt.style.use(\"ggplot\")"
   ]
  },
  {
   "cell_type": "code",
   "execution_count": 2,
   "metadata": {},
   "outputs": [],
   "source": [
    "df = pd.read_csv('last_2_years_restaurant_reviews.csv')"
   ]
  },
  {
   "cell_type": "code",
   "execution_count": 3,
   "metadata": {},
   "outputs": [
    {
     "data": {
      "text/html": [
       "<div>\n",
       "<style>\n",
       "    .dataframe thead tr:only-child th {\n",
       "        text-align: right;\n",
       "    }\n",
       "\n",
       "    .dataframe thead th {\n",
       "        text-align: left;\n",
       "    }\n",
       "\n",
       "    .dataframe tbody tr th {\n",
       "        vertical-align: top;\n",
       "    }\n",
       "</style>\n",
       "<table border=\"1\" class=\"dataframe\">\n",
       "  <thead>\n",
       "    <tr style=\"text-align: right;\">\n",
       "      <th></th>\n",
       "      <th>business_id</th>\n",
       "      <th>cool</th>\n",
       "      <th>date</th>\n",
       "      <th>funny</th>\n",
       "      <th>review_id</th>\n",
       "      <th>stars</th>\n",
       "      <th>text</th>\n",
       "      <th>useful</th>\n",
       "      <th>user_id</th>\n",
       "      <th>name</th>\n",
       "      <th>categories</th>\n",
       "      <th>avg_stars</th>\n",
       "    </tr>\n",
       "  </thead>\n",
       "  <tbody>\n",
       "    <tr>\n",
       "      <th>0</th>\n",
       "      <td>--9e1ONYQuAa-CB_Rrw7Tw</td>\n",
       "      <td>1</td>\n",
       "      <td>2016-05-17</td>\n",
       "      <td>0</td>\n",
       "      <td>0Qc1THNHSapDL7cv-ZzW5g</td>\n",
       "      <td>5</td>\n",
       "      <td>What can I say.. Wowzers! Probably one of the ...</td>\n",
       "      <td>0</td>\n",
       "      <td>4LxKRRIikhr65GfPDW626w</td>\n",
       "      <td>Delmonico Steakhouse</td>\n",
       "      <td>['Steakhouses', 'Cajun/Creole', 'Restaurants']</td>\n",
       "      <td>4.0</td>\n",
       "    </tr>\n",
       "    <tr>\n",
       "      <th>1</th>\n",
       "      <td>--9e1ONYQuAa-CB_Rrw7Tw</td>\n",
       "      <td>0</td>\n",
       "      <td>2017-01-20</td>\n",
       "      <td>0</td>\n",
       "      <td>L8lo5SKXfZRlbn1bpPiC9w</td>\n",
       "      <td>5</td>\n",
       "      <td>Went here for guys weekend. Unbelievable. Ravi...</td>\n",
       "      <td>0</td>\n",
       "      <td>nT8zgjoc-PbdBoQsFEXFLw</td>\n",
       "      <td>Delmonico Steakhouse</td>\n",
       "      <td>['Steakhouses', 'Cajun/Creole', 'Restaurants']</td>\n",
       "      <td>4.0</td>\n",
       "    </tr>\n",
       "    <tr>\n",
       "      <th>2</th>\n",
       "      <td>--9e1ONYQuAa-CB_Rrw7Tw</td>\n",
       "      <td>52</td>\n",
       "      <td>2016-09-25</td>\n",
       "      <td>30</td>\n",
       "      <td>6eUT3IwwWPP3CZkAhxqOIw</td>\n",
       "      <td>5</td>\n",
       "      <td>One word my friends: tableside!!! Yes, tablesi...</td>\n",
       "      <td>56</td>\n",
       "      <td>7RlyCglsIzhBn081inwvcg</td>\n",
       "      <td>Delmonico Steakhouse</td>\n",
       "      <td>['Steakhouses', 'Cajun/Creole', 'Restaurants']</td>\n",
       "      <td>4.0</td>\n",
       "    </tr>\n",
       "  </tbody>\n",
       "</table>\n",
       "</div>"
      ],
      "text/plain": [
       "              business_id  cool        date  funny               review_id  \\\n",
       "0  --9e1ONYQuAa-CB_Rrw7Tw     1  2016-05-17      0  0Qc1THNHSapDL7cv-ZzW5g   \n",
       "1  --9e1ONYQuAa-CB_Rrw7Tw     0  2017-01-20      0  L8lo5SKXfZRlbn1bpPiC9w   \n",
       "2  --9e1ONYQuAa-CB_Rrw7Tw    52  2016-09-25     30  6eUT3IwwWPP3CZkAhxqOIw   \n",
       "\n",
       "   stars                                               text  useful  \\\n",
       "0      5  What can I say.. Wowzers! Probably one of the ...       0   \n",
       "1      5  Went here for guys weekend. Unbelievable. Ravi...       0   \n",
       "2      5  One word my friends: tableside!!! Yes, tablesi...      56   \n",
       "\n",
       "                  user_id                  name  \\\n",
       "0  4LxKRRIikhr65GfPDW626w  Delmonico Steakhouse   \n",
       "1  nT8zgjoc-PbdBoQsFEXFLw  Delmonico Steakhouse   \n",
       "2  7RlyCglsIzhBn081inwvcg  Delmonico Steakhouse   \n",
       "\n",
       "                                       categories  avg_stars  \n",
       "0  ['Steakhouses', 'Cajun/Creole', 'Restaurants']        4.0  \n",
       "1  ['Steakhouses', 'Cajun/Creole', 'Restaurants']        4.0  \n",
       "2  ['Steakhouses', 'Cajun/Creole', 'Restaurants']        4.0  "
      ]
     },
     "execution_count": 3,
     "metadata": {},
     "output_type": "execute_result"
    }
   ],
   "source": [
    "df.head(3)"
   ]
  },
  {
   "cell_type": "markdown",
   "metadata": {},
   "source": [
    "### 1. Cluster the review text data for all the restaurants"
   ]
  },
  {
   "cell_type": "code",
   "execution_count": 4,
   "metadata": {},
   "outputs": [],
   "source": [
    "# Take the values of the column that contains review text data, save to a variable named \"documents\"\n",
    "documents = df['text'].values"
   ]
  },
  {
   "cell_type": "markdown",
   "metadata": {},
   "source": [
    "#### Define 'favorable' reviews as the reviews with 4 or more stars"
   ]
  },
  {
   "cell_type": "code",
   "execution_count": 5,
   "metadata": {},
   "outputs": [],
   "source": [
    "df['favorable'] = df['stars'] > 4\n",
    "target = df['favorable'].values"
   ]
  },
  {
   "cell_type": "markdown",
   "metadata": {},
   "source": [
    "#### Train Test Split"
   ]
  },
  {
   "cell_type": "code",
   "execution_count": 6,
   "metadata": {},
   "outputs": [
    {
     "name": "stderr",
     "output_type": "stream",
     "text": [
      "/usr/local/lib/python3.6/site-packages/sklearn/cross_validation.py:41: DeprecationWarning: This module was deprecated in version 0.18 in favor of the model_selection module into which all the refactored classes and functions are moved. Also note that the interface of the new CV iterators are different from that of this module. This module will be removed in 0.20.\n",
      "  \"This module will be removed in 0.20.\", DeprecationWarning)\n"
     ]
    }
   ],
   "source": [
    "from sklearn.cross_validation import train_test_split"
   ]
  },
  {
   "cell_type": "code",
   "execution_count": 7,
   "metadata": {},
   "outputs": [],
   "source": [
    "documents_train, documents_test, target_train, target_test = train_test_split(\n",
    "    documents, target, test_size = 0.9, random_state = 16)"
   ]
  },
  {
   "cell_type": "markdown",
   "metadata": {},
   "source": [
    "#### Get NLP representation of the documents"
   ]
  },
  {
   "cell_type": "code",
   "execution_count": 8,
   "metadata": {},
   "outputs": [],
   "source": [
    "from sklearn.feature_extraction.text import TfidfVectorizer\n",
    "vectorizer = TfidfVectorizer(stop_words = 'english', max_features = 1000)\n",
    "vectors_train = vectorizer.fit_transform(documents_train).toarray()\n",
    "\n",
    "# Get the vocab\n",
    "words = vectorizer.get_feature_names()\n",
    "# Use the trained model to transform all the reviews\n",
    "vectors_documents = vectorizer.transform(documents).toarray()"
   ]
  },
  {
   "cell_type": "markdown",
   "metadata": {},
   "source": [
    "#### Cluster reviews with KMeans"
   ]
  },
  {
   "cell_type": "code",
   "execution_count": 9,
   "metadata": {},
   "outputs": [
    {
     "data": {
      "text/plain": [
       "KMeans(algorithm='auto', copy_x=True, init='k-means++', max_iter=300,\n",
       "    n_clusters=5, n_init=10, n_jobs=1, precompute_distances='auto',\n",
       "    random_state=None, tol=0.0001, verbose=0)"
      ]
     },
     "execution_count": 9,
     "metadata": {},
     "output_type": "execute_result"
    }
   ],
   "source": [
    "from sklearn.cluster import KMeans\n",
    "kmeans = KMeans(n_clusters = 5, init='k-means++', max_iter = 300)\n",
    "kmeans.fit(vectors_train)"
   ]
  },
  {
   "cell_type": "markdown",
   "metadata": {},
   "source": [
    "#### Inspect the top 10 features for each cluster."
   ]
  },
  {
   "cell_type": "code",
   "execution_count": 10,
   "metadata": {},
   "outputs": [],
   "source": [
    "# Top 10 features\n",
    "n = 11\n",
    "top_centroids = kmeans.cluster_centers_.argsort()[:, -1:-n:-1]"
   ]
  },
  {
   "cell_type": "code",
   "execution_count": 13,
   "metadata": {},
   "outputs": [
    {
     "name": "stdout",
     "output_type": "stream",
     "text": [
      "Top Features for Each Cluster: \n",
      "Centroid #1: great, food, service, place, good, amazing, staff, friendly, love, awesome\n",
      "Centroid #2: good, chicken, food, really, like, ordered, burger, place, just, fries\n",
      "Centroid #3: food, order, service, time, just, minutes, didn, like, came, got\n",
      "Centroid #4: place, food, best, vegas, amazing, love, delicious, service, friendly, good\n",
      "Centroid #5: pizza, crust, place, good, great, slice, cheese, order, just, service\n"
     ]
    }
   ],
   "source": [
    "print(\"Top Features for Each Cluster: \")\n",
    "for idx, ctrd in enumerate(top_centroids):\n",
    "    print(\"Centroid #%d: %s\" % (idx+1, ', '.join(words[x] for x in ctrd)))"
   ]
  },
  {
   "cell_type": "markdown",
   "metadata": {},
   "source": [
    "### 2. Cluster restaurants from their category information"
   ]
  },
  {
   "cell_type": "markdown",
   "metadata": {},
   "source": [
    "#### Research the restaurant clusters for the 5-star restaurants"
   ]
  },
  {
   "cell_type": "code",
   "execution_count": 14,
   "metadata": {},
   "outputs": [],
   "source": [
    "docu_category = df['categories'].values\n",
    "target = (df['stars'] == 5).astype(int).values"
   ]
  },
  {
   "cell_type": "markdown",
   "metadata": {},
   "source": [
    "#### Train Test Split"
   ]
  },
  {
   "cell_type": "code",
   "execution_count": 15,
   "metadata": {},
   "outputs": [],
   "source": [
    "X_train, X_test, y_train, y_test = train_test_split(docu_category, target, test_size = 0.99, random_state = 30)"
   ]
  },
  {
   "cell_type": "markdown",
   "metadata": {},
   "source": [
    "#### NLP Representation"
   ]
  },
  {
   "cell_type": "code",
   "execution_count": 16,
   "metadata": {},
   "outputs": [],
   "source": [
    "vectorizer_ctry    = TfidfVectorizer(stop_words='english', max_features = 1000)\n",
    "vectors_ctry_train = vectorizer_ctry.fit_transform(X_train).toarray()\n",
    "words_ctry         = vectorizer_ctry.get_feature_names()\n",
    "vectors_ctry_test  = vectorizer_ctry.transform(X_test).toarray()\n",
    "vectors_ctry_docu  = vectorizer_ctry.transform(docu_category).toarray()"
   ]
  },
  {
   "cell_type": "markdown",
   "metadata": {},
   "source": [
    "#### User K-Means to perform the clustering"
   ]
  },
  {
   "cell_type": "code",
   "execution_count": 17,
   "metadata": {},
   "outputs": [
    {
     "data": {
      "text/plain": [
       "KMeans(algorithm='auto', copy_x=True, init='k-means++', max_iter=300,\n",
       "    n_clusters=10, n_init=10, n_jobs=1, precompute_distances='auto',\n",
       "    random_state=16, tol=0.0001, verbose=0)"
      ]
     },
     "execution_count": 17,
     "metadata": {},
     "output_type": "execute_result"
    }
   ],
   "source": [
    "kmeans_ctry = KMeans(n_clusters=10, random_state=16)\n",
    "kmeans_ctry.fit(vectors_ctry_train)"
   ]
  },
  {
   "cell_type": "code",
   "execution_count": 18,
   "metadata": {},
   "outputs": [],
   "source": [
    "predict_ctry = kmeans_ctry.predict(vectors_ctry_docu)"
   ]
  },
  {
   "cell_type": "markdown",
   "metadata": {},
   "source": [
    "#### Check the top 5 features for clustering restaurants using category info"
   ]
  },
  {
   "cell_type": "code",
   "execution_count": 19,
   "metadata": {},
   "outputs": [
    {
     "name": "stdout",
     "output_type": "stream",
     "text": [
      "No.1 Centroid contains these words:\n",
      "     steakhouses, restaurants, american, seafood, new, traditional\n",
      "No.2 Centroid contains these words:\n",
      "     breakfast, brunch, american, traditional, restaurants, sandwiches\n",
      "No.3 Centroid contains these words:\n",
      "     mexican, restaurants, nightlife, bars, fast, tacos\n",
      "No.4 Centroid contains these words:\n",
      "     american, traditional, burgers, new, restaurants, southern\n",
      "No.5 Centroid contains these words:\n",
      "     pizza, italian, restaurants, salad, food, seafood\n",
      "No.6 Centroid contains these words:\n",
      "     asian, fusion, korean, barbeque, restaurants, japanese\n",
      "No.7 Centroid contains these words:\n",
      "     sushi, japanese, bars, restaurants, ramen, noodles\n",
      "No.8 Centroid contains these words:\n",
      "     bars, nightlife, wine, american, restaurants, cocktail\n",
      "No.9 Centroid contains these words:\n",
      "     tea, coffee, food, cafes, desserts, juice\n",
      "No.10 Centroid contains these words:\n",
      "     food, restaurants, chinese, fast, seafood, thai\n"
     ]
    }
   ],
   "source": [
    "def print_features(cluster, n, vocab):\n",
    "    for idx, centroid in enumerate(cluster):\n",
    "        print(\"No.%d Centroid contains these words:\" % (idx+1))\n",
    "        print(\"     %s\" % \", \".join(vocab[i] for i in centroid.argsort()[::-1][:n]))\n",
    "\n",
    "print_features(kmeans_ctry.cluster_centers_, 6, words_ctry)"
   ]
  },
  {
   "cell_type": "code",
   "execution_count": null,
   "metadata": {},
   "outputs": [],
   "source": []
  },
  {
   "cell_type": "code",
   "execution_count": null,
   "metadata": {},
   "outputs": [],
   "source": []
  }
 ],
 "metadata": {
  "kernelspec": {
   "display_name": "Python 3",
   "language": "python",
   "name": "python3"
  },
  "language_info": {
   "codemirror_mode": {
    "name": "ipython",
    "version": 3
   },
   "file_extension": ".py",
   "mimetype": "text/x-python",
   "name": "python",
   "nbconvert_exporter": "python",
   "pygments_lexer": "ipython3",
   "version": "3.6.3"
  }
 },
 "nbformat": 4,
 "nbformat_minor": 2
}
