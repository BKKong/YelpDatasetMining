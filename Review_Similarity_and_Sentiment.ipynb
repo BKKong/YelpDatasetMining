{
 "cells": [
  {
   "cell_type": "markdown",
   "metadata": {},
   "source": [
    "## Review Similarity & Sentiment Analysis"
   ]
  },
  {
   "cell_type": "code",
   "execution_count": 1,
   "metadata": {},
   "outputs": [],
   "source": [
    "import pandas as pd"
   ]
  },
  {
   "cell_type": "code",
   "execution_count": 3,
   "metadata": {},
   "outputs": [
    {
     "data": {
      "text/html": [
       "<div>\n",
       "<style>\n",
       "    .dataframe thead tr:only-child th {\n",
       "        text-align: right;\n",
       "    }\n",
       "\n",
       "    .dataframe thead th {\n",
       "        text-align: left;\n",
       "    }\n",
       "\n",
       "    .dataframe tbody tr th {\n",
       "        vertical-align: top;\n",
       "    }\n",
       "</style>\n",
       "<table border=\"1\" class=\"dataframe\">\n",
       "  <thead>\n",
       "    <tr style=\"text-align: right;\">\n",
       "      <th></th>\n",
       "      <th>business_id</th>\n",
       "      <th>cool</th>\n",
       "      <th>date</th>\n",
       "      <th>funny</th>\n",
       "      <th>review_id</th>\n",
       "      <th>stars</th>\n",
       "      <th>text</th>\n",
       "      <th>useful</th>\n",
       "      <th>user_id</th>\n",
       "      <th>name</th>\n",
       "      <th>categories</th>\n",
       "      <th>avg_stars</th>\n",
       "    </tr>\n",
       "  </thead>\n",
       "  <tbody>\n",
       "    <tr>\n",
       "      <th>0</th>\n",
       "      <td>--9e1ONYQuAa-CB_Rrw7Tw</td>\n",
       "      <td>1</td>\n",
       "      <td>2016-05-17</td>\n",
       "      <td>0</td>\n",
       "      <td>0Qc1THNHSapDL7cv-ZzW5g</td>\n",
       "      <td>5</td>\n",
       "      <td>What can I say.. Wowzers! Probably one of the ...</td>\n",
       "      <td>0</td>\n",
       "      <td>4LxKRRIikhr65GfPDW626w</td>\n",
       "      <td>Delmonico Steakhouse</td>\n",
       "      <td>['Steakhouses', 'Cajun/Creole', 'Restaurants']</td>\n",
       "      <td>4.0</td>\n",
       "    </tr>\n",
       "    <tr>\n",
       "      <th>1</th>\n",
       "      <td>--9e1ONYQuAa-CB_Rrw7Tw</td>\n",
       "      <td>0</td>\n",
       "      <td>2017-01-20</td>\n",
       "      <td>0</td>\n",
       "      <td>L8lo5SKXfZRlbn1bpPiC9w</td>\n",
       "      <td>5</td>\n",
       "      <td>Went here for guys weekend. Unbelievable. Ravi...</td>\n",
       "      <td>0</td>\n",
       "      <td>nT8zgjoc-PbdBoQsFEXFLw</td>\n",
       "      <td>Delmonico Steakhouse</td>\n",
       "      <td>['Steakhouses', 'Cajun/Creole', 'Restaurants']</td>\n",
       "      <td>4.0</td>\n",
       "    </tr>\n",
       "  </tbody>\n",
       "</table>\n",
       "</div>"
      ],
      "text/plain": [
       "              business_id  cool        date  funny               review_id  \\\n",
       "0  --9e1ONYQuAa-CB_Rrw7Tw     1  2016-05-17      0  0Qc1THNHSapDL7cv-ZzW5g   \n",
       "1  --9e1ONYQuAa-CB_Rrw7Tw     0  2017-01-20      0  L8lo5SKXfZRlbn1bpPiC9w   \n",
       "\n",
       "   stars                                               text  useful  \\\n",
       "0      5  What can I say.. Wowzers! Probably one of the ...       0   \n",
       "1      5  Went here for guys weekend. Unbelievable. Ravi...       0   \n",
       "\n",
       "                  user_id                  name  \\\n",
       "0  4LxKRRIikhr65GfPDW626w  Delmonico Steakhouse   \n",
       "1  nT8zgjoc-PbdBoQsFEXFLw  Delmonico Steakhouse   \n",
       "\n",
       "                                       categories  avg_stars  \n",
       "0  ['Steakhouses', 'Cajun/Creole', 'Restaurants']        4.0  \n",
       "1  ['Steakhouses', 'Cajun/Creole', 'Restaurants']        4.0  "
      ]
     },
     "execution_count": 3,
     "metadata": {},
     "output_type": "execute_result"
    }
   ],
   "source": [
    "df = pd.read_csv('last_2_years_restaurant_reviews.csv')\n",
    "df.head(2)"
   ]
  },
  {
   "cell_type": "markdown",
   "metadata": {},
   "source": [
    "#### Define Documents as the text of the reviews"
   ]
  },
  {
   "cell_type": "code",
   "execution_count": 4,
   "metadata": {},
   "outputs": [],
   "source": [
    "documents = df['text'].values"
   ]
  },
  {
   "cell_type": "code",
   "execution_count": 5,
   "metadata": {},
   "outputs": [
    {
     "data": {
      "text/plain": [
       "(dtype('O'), (400119,))"
      ]
     },
     "execution_count": 5,
     "metadata": {},
     "output_type": "execute_result"
    }
   ],
   "source": [
    "documents.dtype, documents.shape"
   ]
  },
  {
   "cell_type": "markdown",
   "metadata": {},
   "source": [
    "#### Defined favorable reviews as those reviews have five stars"
   ]
  },
  {
   "cell_type": "code",
   "execution_count": 6,
   "metadata": {},
   "outputs": [],
   "source": [
    "df['favorable'] = (df['stars'] > 4)"
   ]
  },
  {
   "cell_type": "code",
   "execution_count": 7,
   "metadata": {},
   "outputs": [],
   "source": [
    "target = df['favorable'].values"
   ]
  },
  {
   "cell_type": "code",
   "execution_count": 8,
   "metadata": {},
   "outputs": [
    {
     "data": {
      "text/plain": [
       "(0.46623379544585486, 0.49885854050021805)"
      ]
     },
     "execution_count": 8,
     "metadata": {},
     "output_type": "execute_result"
    }
   ],
   "source": [
    "# Mean and standard deviation of \"target\"\n",
    "target.mean(), target.std()"
   ]
  },
  {
   "cell_type": "markdown",
   "metadata": {},
   "source": [
    "#### Create a train test split"
   ]
  },
  {
   "cell_type": "code",
   "execution_count": 9,
   "metadata": {},
   "outputs": [
    {
     "name": "stderr",
     "output_type": "stream",
     "text": [
      "/usr/local/lib/python3.6/site-packages/sklearn/cross_validation.py:41: DeprecationWarning: This module was deprecated in version 0.18 in favor of the model_selection module into which all the refactored classes and functions are moved. Also note that the interface of the new CV iterators are different from that of this module. This module will be removed in 0.20.\n",
      "  \"This module will be removed in 0.20.\", DeprecationWarning)\n"
     ]
    }
   ],
   "source": [
    "from sklearn.cross_validation import train_test_split"
   ]
  },
  {
   "cell_type": "code",
   "execution_count": 10,
   "metadata": {},
   "outputs": [],
   "source": [
    "documents_train, documents_test, target_train, target_test = train_test_split( documents, target, test_size = 0.8, random_state = 42)"
   ]
  },
  {
   "cell_type": "markdown",
   "metadata": {},
   "source": [
    "#### Get NLP representation of documents"
   ]
  },
  {
   "cell_type": "code",
   "execution_count": 11,
   "metadata": {},
   "outputs": [],
   "source": [
    "from sklearn.feature_extraction.text import TfidfVectorizer"
   ]
  },
  {
   "cell_type": "code",
   "execution_count": 15,
   "metadata": {},
   "outputs": [],
   "source": [
    "vectorizer = TfidfVectorizer(stop_words = 'english', max_features = 5000)\n",
    "vectors_train = vectorizer.fit_transform(documents_train).toarray()\n",
    "words = vectorizer.get_feature_names()"
   ]
  },
  {
   "cell_type": "code",
   "execution_count": 16,
   "metadata": {},
   "outputs": [
    {
     "data": {
      "text/plain": [
       "(80023, 5000)"
      ]
     },
     "execution_count": 16,
     "metadata": {},
     "output_type": "execute_result"
    }
   ],
   "source": [
    "vectors_train.shape"
   ]
  },
  {
   "cell_type": "code",
   "execution_count": 17,
   "metadata": {},
   "outputs": [],
   "source": [
    "vectors_test = vectorizer.transform(documents_test).toarray()"
   ]
  },
  {
   "cell_type": "markdown",
   "metadata": {},
   "source": [
    "### 1. Similar Review Search"
   ]
  },
  {
   "cell_type": "code",
   "execution_count": 25,
   "metadata": {},
   "outputs": [],
   "source": [
    "import numpy as np\n",
    "from sklearn.metrics.pairwise import cosine_similarity"
   ]
  },
  {
   "cell_type": "code",
   "execution_count": 19,
   "metadata": {},
   "outputs": [],
   "source": [
    "def get_top_values(lst, n, labels):\n",
    "    return [labels[i] for i in np.argsort(lst)[::-1][:n]]"
   ]
  },
  {
   "cell_type": "code",
   "execution_count": 20,
   "metadata": {},
   "outputs": [],
   "source": [
    "def get_bottom_values(lst, n, labels):\n",
    "    return [labels[i] for i in np.argsort(lst)[:n]]"
   ]
  },
  {
   "cell_type": "code",
   "execution_count": 30,
   "metadata": {},
   "outputs": [
    {
     "name": "stdout",
     "output_type": "stream",
     "text": [
      "[\"Food wasn't overpriced, but took a while to get them out. Ordered pho and teriyaki chicken. Pho was ok, but could use more spices. Had thought they would use dark meat for the teriyakichicken but they used white and I did not come out looking like the photo. Waitress was great though!\"]\n"
     ]
    }
   ],
   "source": [
    "# Draw an arbitrary review from test (unseen in training) documents\n",
    "query = [documents_test[65]]\n",
    "print(query)"
   ]
  },
  {
   "cell_type": "code",
   "execution_count": 31,
   "metadata": {},
   "outputs": [],
   "source": [
    "# Transform the drawn review to vector\n",
    "query_vect = vectorizer.transform(query).toarray()"
   ]
  },
  {
   "cell_type": "code",
   "execution_count": 32,
   "metadata": {},
   "outputs": [],
   "source": [
    "# Calculate the similarity score between vector and training vectors\n",
    "similarity = cosine_similarity(query_vect, vectors_train)"
   ]
  },
  {
   "cell_type": "code",
   "execution_count": 33,
   "metadata": {},
   "outputs": [],
   "source": [
    "# Find top 5 similar reviews\n",
    "n = 5\n",
    "top5_related = get_top_values(similarity[0], n, documents_train)"
   ]
  },
  {
   "cell_type": "code",
   "execution_count": 34,
   "metadata": {},
   "outputs": [
    {
     "name": "stdout",
     "output_type": "stream",
     "text": [
      "Our search query:\n",
      "Food wasn't overpriced, but took a while to get them out. Ordered pho and teriyaki chicken. Pho was ok, but could use more spices. Had thought they would use dark meat for the teriyakichicken but they used white and I did not come out looking like the photo. Waitress was great though!\n"
     ]
    }
   ],
   "source": [
    "print('Our search query:')\n",
    "print(query[0])"
   ]
  },
  {
   "cell_type": "code",
   "execution_count": 35,
   "metadata": {},
   "outputs": [
    {
     "name": "stdout",
     "output_type": "stream",
     "text": [
      "Most 5 similar reviews:\n",
      "# 1:\n",
      "We came here because my Korean friend said it was very good. I think I am going to have rethink my notion of listening to him, or any Korean for that matter. So far, I have been less than impressed with both of my Korean friends telling me about a really good Pho place. Too West of Vietnam I guess. Maybe it's safer to ask them about Siberian food. That was cold. Doh. Ok, onwards to the pho.\n",
      "\n",
      "The service is very friendly, the place is very clean as well. Yes, if you think you've stepped into an American restaurant, you are not mistaken. It really is a Vietnamese pho place. The pho however is ok. The broth is clean but it's not as tasty as I want it. Not Pho-ey enough. Man, you got to reek of pho in your hair, skin, and clothes, like you do when you leave a great pho place, to tell that it must have been a good pho place. Come on, you know it's true. Stereotype my bott.\n",
      "\n",
      "But, if you don't want to drive down to Chinatown, then I guess this is ok and you just wanted some pho in you.\n",
      "# 2:\n",
      "This has to be my favorite place to get pho! My family and I went recently and we each ordered a different pho. All of them were exceptional! The pho with brisket was amazing as well as the combination pho. The customer service was great as well; the employees were very attentive. I would definitely recommend the Thai tea and pho from here. I will definitely be coming back!\n",
      "# 3:\n",
      "This place is PHOnomenal! Le Pho is my favorite place to eat in DTLV; I'd even venture to say it's one of my favorite places to eat in the whole city. In fact, when it came to soup, I was an I-prefer-ramen-over-pho type of person until visiting Le Pho. Now I'm obsessed with pho, though I'm finding other establishments don't really compare to Le Pho. Of course, with any restaurant, much of this can be attributed to personal preference but let me break it down for you:\n",
      "\n",
      "Ribeye Pho ($10): The broth is perfect- it's so flavorful. This is a favorite of mine and I've had it many times. There's plenty of nice pieces of meat- meaning, you don't get just the fatty pieces. Personally, I enjoy clean pieces of meat so this is a winner for me. You can split this dish, and all pho dishes, into two bowls for an additional $3. They charge you extra because you get a little more pho than when it's just in one big bowl.\n",
      "\n",
      "Chicken Pho ($9): Before trying the Chicken Pho, the Ribeye Pho was the apple, er.. pho, of my eye. Now, I constantly crave the Chicken Pho. The broth is also incredibly flavorful and delicious. Plenty of meat-- a lot of white meat, which I enjoy. The noodles are perfect as well.\n",
      "\n",
      "Oxtail Fried Rice ($14): Amazing flavor. This has become a regular order for me and my boyfriend. Pro tip: get it with a fried egg on top for $1.50 more.\n",
      "\n",
      "Traditional Spring Rolls ($7): Had these once with the gluten free option. The wontons were removed and I was offered fish sauce on the side instead of peanut sauce. Nice, fresh flavor. Great beginning to your meal.\n",
      "\n",
      "Chicken Wings ($8): The tamarind sauce is very tasty. I love the flavor combo going on here. You get six wings per order and my only complaint is that they are on the small side.\n",
      "\n",
      "Taro Ice Cream ($5): This was a dessert option the last time we dined. We thoroughly enjoyed the combination of taro, shredded coconut, and crushed peanuts. It's perfect for when your belly is full of pho but you still want something sweet to top off your meal.\n",
      "\n",
      "I've enjoyed everything I've tried with the exception of the Bone Marrow Fried Rice. To me, it tasted heavily of fish sauce, but I don't even know if that is a key ingredient. I'm not a big fan of bone marrow in the first place so don't let my opinion on this dish sway you away from trying it. I'd like to sample more of the menu but I come here for the pho!\n",
      "\n",
      "My only gripe is they can be inconsistent. One time I ordered Chicken Pho and it tasted like a different broth than usual. We also brought some friends here and the Ribeye Pho was so incredibly salty. We were slightly embarrassed after raving on and on about the broth; we insisted to our friends that it's not usually that salty. One thing that is consistent though is the service. The waitstaff and bartender are always fast and friendly. Veronica is our favorite!\n",
      "\n",
      "Oh, and if you have allergies then you'll be in heaven here. They are allergy friendly and many things on the menu are gluten free or optional, including all the pho. Just talk to your waiter about your restriction(s) and he or she will check with the kitchen for you.\n",
      "\n",
      "Give this place a try! I'm so addicted that I make the drive from Summerlin to DTLV once a week just to eat here. I recommend Le Pho to all my friends and family!\n",
      "\n",
      "TL;DR \n",
      "Get the pho.\n",
      "# 4:\n",
      "Been looking for a great pho place near Summerlin for a long time and was estatic when i ran across this place. The chicken pho was amazing. Best broth I have had at a local pho place!!\n",
      "# 5:\n",
      "I always judge a viet restaurant based on their pho. I always get the Pho dac biet which is the usual go to for pho and i always get it in large. This broth is one of the best in Las vegas. Its not greasy at all comparing it to Pho Kim Long which is SUPER oily and very salty. Now I love when i get my moneys worth as well. They give you LOTS of tendons which is the \"fatty\" things in the pho which i love. The meat is good too cause you know its good when they serve it rare as it should be. I gave a huge compliment to the manager and he was super friendly. I told him that this pho is just as good as nyc pho which is where im from. Definitely my go to for pho.\n"
     ]
    }
   ],
   "source": [
    "print('Most %s similar reviews:' % n)\n",
    "for i, review in enumerate(top5_related):\n",
    "    print('# %s:' % str(i+1))\n",
    "    print(review)"
   ]
  },
  {
   "cell_type": "markdown",
   "metadata": {},
   "source": [
    "### 2. Review Sentiment Analysis"
   ]
  },
  {
   "cell_type": "markdown",
   "metadata": {},
   "source": [
    "#### Naive Bayes Classifier"
   ]
  },
  {
   "cell_type": "code",
   "execution_count": 36,
   "metadata": {},
   "outputs": [
    {
     "data": {
      "text/plain": [
       "MultinomialNB(alpha=1.0, class_prior=None, fit_prior=True)"
      ]
     },
     "execution_count": 36,
     "metadata": {},
     "output_type": "execute_result"
    }
   ],
   "source": [
    "# Build a Naive-Bayes Classifier\n",
    "from sklearn.naive_bayes import MultinomialNB\n",
    "model_nb = MultinomialNB()\n",
    "model_nb.fit(vectors_train, target_train)"
   ]
  },
  {
   "cell_type": "code",
   "execution_count": 37,
   "metadata": {},
   "outputs": [
    {
     "data": {
      "text/plain": [
       "0.81077940092223488"
      ]
     },
     "execution_count": 37,
     "metadata": {},
     "output_type": "execute_result"
    }
   ],
   "source": [
    "# Get score for training dataset\n",
    "model_nb.score(vectors_train, target_train)"
   ]
  },
  {
   "cell_type": "code",
   "execution_count": 38,
   "metadata": {},
   "outputs": [
    {
     "data": {
      "text/plain": [
       "0.80386196641007701"
      ]
     },
     "execution_count": 38,
     "metadata": {},
     "output_type": "execute_result"
    }
   ],
   "source": [
    "# Get score for testing dataset\n",
    "model_nb.score(vectors_test, target_test)"
   ]
  },
  {
   "cell_type": "markdown",
   "metadata": {},
   "source": [
    "#### Logistic Regression Classifier"
   ]
  },
  {
   "cell_type": "code",
   "execution_count": 40,
   "metadata": {},
   "outputs": [
    {
     "data": {
      "text/plain": [
       "LogisticRegression(C=1.0, class_weight=None, dual=False, fit_intercept=True,\n",
       "          intercept_scaling=1, max_iter=100, multi_class='ovr', n_jobs=1,\n",
       "          penalty='l2', random_state=None, solver='liblinear', tol=0.0001,\n",
       "          verbose=0, warm_start=False)"
      ]
     },
     "execution_count": 40,
     "metadata": {},
     "output_type": "execute_result"
    }
   ],
   "source": [
    "# Build a Logistic Regression Classifier\n",
    "from sklearn.linear_model import LogisticRegression\n",
    "model_lrc = LogisticRegression()\n",
    "model_lrc.fit(vectors_train, target_train)"
   ]
  },
  {
   "cell_type": "code",
   "execution_count": 41,
   "metadata": {},
   "outputs": [
    {
     "data": {
      "text/plain": [
       "0.84514452095022685"
      ]
     },
     "execution_count": 41,
     "metadata": {},
     "output_type": "execute_result"
    }
   ],
   "source": [
    "# Get score for training set\n",
    "model_lrc.score(vectors_train, target_train)"
   ]
  },
  {
   "cell_type": "code",
   "execution_count": 42,
   "metadata": {},
   "outputs": [
    {
     "data": {
      "text/plain": [
       "0.82624275217434773"
      ]
     },
     "execution_count": 42,
     "metadata": {},
     "output_type": "execute_result"
    }
   ],
   "source": [
    "# Get score for test set\n",
    "model_lrc.score(vectors_test, target_test)"
   ]
  },
  {
   "cell_type": "markdown",
   "metadata": {},
   "source": [
    "#### Words that predict positive sentiment"
   ]
  },
  {
   "cell_type": "code",
   "execution_count": 43,
   "metadata": {},
   "outputs": [
    {
     "data": {
      "text/plain": [
       "['amazing',\n",
       " 'best',\n",
       " 'awesome',\n",
       " 'incredible',\n",
       " 'great',\n",
       " 'phenomenal',\n",
       " 'delicious',\n",
       " 'thank',\n",
       " 'perfect',\n",
       " 'excellent',\n",
       " 'fantastic',\n",
       " 'love',\n",
       " 'wonderful',\n",
       " 'outstanding',\n",
       " 'bomb',\n",
       " 'gem',\n",
       " 'favorite',\n",
       " 'heaven',\n",
       " 'perfection',\n",
       " 'notch']"
      ]
     },
     "execution_count": 43,
     "metadata": {},
     "output_type": "execute_result"
    }
   ],
   "source": [
    "n = 20\n",
    "get_top_values(model_lrc.coef_[0], n, words)"
   ]
  },
  {
   "cell_type": "markdown",
   "metadata": {},
   "source": [
    "#### Words that predict negative sentiment"
   ]
  },
  {
   "cell_type": "code",
   "execution_count": 44,
   "metadata": {},
   "outputs": [
    {
     "data": {
      "text/plain": [
       "['worst',\n",
       " 'horrible',\n",
       " 'ok',\n",
       " 'disappointing',\n",
       " 'slow',\n",
       " 'mediocre',\n",
       " 'bland',\n",
       " 'terrible',\n",
       " 'okay',\n",
       " 'rude',\n",
       " 'decent',\n",
       " 'poor',\n",
       " 'dry',\n",
       " 'unfortunately',\n",
       " 'average',\n",
       " 'overpriced',\n",
       " 'awful',\n",
       " 'lacking',\n",
       " 'overall',\n",
       " 'worse']"
      ]
     },
     "execution_count": 44,
     "metadata": {},
     "output_type": "execute_result"
    }
   ],
   "source": [
    "n = 20\n",
    "get_bottom_values(model_lrc.coef_[0], n, words)"
   ]
  },
  {
   "cell_type": "markdown",
   "metadata": {},
   "source": [
    "#### Random Forest Classifier"
   ]
  },
  {
   "cell_type": "code",
   "execution_count": 45,
   "metadata": {},
   "outputs": [
    {
     "data": {
      "text/plain": [
       "RandomForestClassifier(bootstrap=True, class_weight=None, criterion='gini',\n",
       "            max_depth=None, max_features='auto', max_leaf_nodes=None,\n",
       "            min_impurity_decrease=0.0, min_impurity_split=None,\n",
       "            min_samples_leaf=10, min_samples_split=2,\n",
       "            min_weight_fraction_leaf=0.0, n_estimators=5, n_jobs=1,\n",
       "            oob_score=False, random_state=None, verbose=0,\n",
       "            warm_start=False)"
      ]
     },
     "execution_count": 45,
     "metadata": {},
     "output_type": "execute_result"
    }
   ],
   "source": [
    "from sklearn.ensemble import RandomForestClassifier\n",
    "model_rfc = RandomForestClassifier(max_depth = None, n_estimators = 5, min_samples_leaf = 10)\n",
    "model_rfc.fit(vectors_train, target_train)"
   ]
  },
  {
   "cell_type": "code",
   "execution_count": 46,
   "metadata": {},
   "outputs": [
    {
     "data": {
      "text/plain": [
       "0.81457830873623838"
      ]
     },
     "execution_count": 46,
     "metadata": {},
     "output_type": "execute_result"
    }
   ],
   "source": [
    "# Get score for training set\n",
    "model_rfc.score(vectors_train, target_train)"
   ]
  },
  {
   "cell_type": "code",
   "execution_count": 47,
   "metadata": {},
   "outputs": [
    {
     "data": {
      "text/plain": [
       "0.77307432770168949"
      ]
     },
     "execution_count": 47,
     "metadata": {},
     "output_type": "execute_result"
    }
   ],
   "source": [
    "# Get score for test set\n",
    "model_rfc.score(vectors_test, target_test)"
   ]
  },
  {
   "cell_type": "markdown",
   "metadata": {},
   "source": [
    "#### Important words for classification from RF model"
   ]
  },
  {
   "cell_type": "code",
   "execution_count": 48,
   "metadata": {},
   "outputs": [
    {
     "data": {
      "text/plain": [
       "['amazing',\n",
       " 'best',\n",
       " 'great',\n",
       " 'delicious',\n",
       " 'wasn',\n",
       " 'awesome',\n",
       " 'rude',\n",
       " 'ok',\n",
       " 'friendly',\n",
       " 'worst',\n",
       " 'order',\n",
       " 'favorite',\n",
       " 'minutes',\n",
       " 'love',\n",
       " 'horrible',\n",
       " 'bland',\n",
       " 'decent',\n",
       " 'excellent',\n",
       " 'like',\n",
       " 'pretty']"
      ]
     },
     "execution_count": 48,
     "metadata": {},
     "output_type": "execute_result"
    }
   ],
   "source": [
    "n = 20\n",
    "get_top_values(model_rfc.feature_importances_, n, words)"
   ]
  },
  {
   "cell_type": "code",
   "execution_count": null,
   "metadata": {},
   "outputs": [],
   "source": []
  }
 ],
 "metadata": {
  "kernelspec": {
   "display_name": "Python 3",
   "language": "python",
   "name": "python3"
  },
  "language_info": {
   "codemirror_mode": {
    "name": "ipython",
    "version": 3
   },
   "file_extension": ".py",
   "mimetype": "text/x-python",
   "name": "python",
   "nbconvert_exporter": "python",
   "pygments_lexer": "ipython3",
   "version": "3.6.3"
  }
 },
 "nbformat": 4,
 "nbformat_minor": 2
}
